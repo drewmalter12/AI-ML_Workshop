{
 "cells": [
  {
   "cell_type": "code",
   "execution_count": 242,
   "metadata": {},
   "outputs": [],
   "source": [
    "import os\n",
    "import matplotlib.pyplot as plt\n",
    "import numpy as np\n",
    "import pandas as pd\n",
    "import seaborn as sns\n",
    "import statsmodels.api as sm\n",
    "import warnings\n",
    "\n",
    "from ipywidgets import interact, interact_manual, widgets, Layout\n",
    "\n",
    "from bokeh.io import push_notebook, show, output_notebook, curdoc\n",
    "from bokeh.plotting import figure\n",
    "from bokeh.models.annotations import Title\n",
    "from bokeh.models.widgets import MultiSelect\n",
    "from bokeh.models import Button\n",
    "from bokeh.layouts import widgetbox, column, row\n",
    "\n",
    "from sklearn.model_selection import train_test_split\n",
    "from sklearn import linear_model\n",
    "\n",
    "%matplotlib inline\n",
    "warnings.filterwarnings('ignore')"
   ]
  },
  {
   "cell_type": "code",
   "execution_count": 165,
   "metadata": {},
   "outputs": [
    {
     "data": {
      "text/html": [
       "<div>\n",
       "<style scoped>\n",
       "    .dataframe tbody tr th:only-of-type {\n",
       "        vertical-align: middle;\n",
       "    }\n",
       "\n",
       "    .dataframe tbody tr th {\n",
       "        vertical-align: top;\n",
       "    }\n",
       "\n",
       "    .dataframe thead th {\n",
       "        text-align: right;\n",
       "    }\n",
       "</style>\n",
       "<table border=\"1\" class=\"dataframe\">\n",
       "  <thead>\n",
       "    <tr style=\"text-align: right;\">\n",
       "      <th></th>\n",
       "      <th>customer_ID</th>\n",
       "      <th>shopping_pt</th>\n",
       "      <th>record_type</th>\n",
       "      <th>day</th>\n",
       "      <th>time</th>\n",
       "      <th>state</th>\n",
       "      <th>location</th>\n",
       "      <th>group_size</th>\n",
       "      <th>homeowner</th>\n",
       "      <th>car_age</th>\n",
       "      <th>...</th>\n",
       "      <th>C_previous</th>\n",
       "      <th>duration_previous</th>\n",
       "      <th>A</th>\n",
       "      <th>B</th>\n",
       "      <th>C</th>\n",
       "      <th>D</th>\n",
       "      <th>E</th>\n",
       "      <th>F</th>\n",
       "      <th>G</th>\n",
       "      <th>cost</th>\n",
       "    </tr>\n",
       "  </thead>\n",
       "  <tbody>\n",
       "    <tr>\n",
       "      <th>0</th>\n",
       "      <td>10000000</td>\n",
       "      <td>1</td>\n",
       "      <td>0</td>\n",
       "      <td>0</td>\n",
       "      <td>8:35</td>\n",
       "      <td>IN</td>\n",
       "      <td>10001</td>\n",
       "      <td>2</td>\n",
       "      <td>0</td>\n",
       "      <td>2</td>\n",
       "      <td>...</td>\n",
       "      <td>1.0</td>\n",
       "      <td>2.0</td>\n",
       "      <td>1</td>\n",
       "      <td>0</td>\n",
       "      <td>2</td>\n",
       "      <td>2</td>\n",
       "      <td>1</td>\n",
       "      <td>2</td>\n",
       "      <td>2</td>\n",
       "      <td>633</td>\n",
       "    </tr>\n",
       "    <tr>\n",
       "      <th>1</th>\n",
       "      <td>10000000</td>\n",
       "      <td>2</td>\n",
       "      <td>0</td>\n",
       "      <td>0</td>\n",
       "      <td>8:38</td>\n",
       "      <td>IN</td>\n",
       "      <td>10001</td>\n",
       "      <td>2</td>\n",
       "      <td>0</td>\n",
       "      <td>2</td>\n",
       "      <td>...</td>\n",
       "      <td>1.0</td>\n",
       "      <td>2.0</td>\n",
       "      <td>1</td>\n",
       "      <td>0</td>\n",
       "      <td>2</td>\n",
       "      <td>2</td>\n",
       "      <td>1</td>\n",
       "      <td>2</td>\n",
       "      <td>1</td>\n",
       "      <td>630</td>\n",
       "    </tr>\n",
       "    <tr>\n",
       "      <th>2</th>\n",
       "      <td>10000000</td>\n",
       "      <td>3</td>\n",
       "      <td>0</td>\n",
       "      <td>0</td>\n",
       "      <td>8:38</td>\n",
       "      <td>IN</td>\n",
       "      <td>10001</td>\n",
       "      <td>2</td>\n",
       "      <td>0</td>\n",
       "      <td>2</td>\n",
       "      <td>...</td>\n",
       "      <td>1.0</td>\n",
       "      <td>2.0</td>\n",
       "      <td>1</td>\n",
       "      <td>0</td>\n",
       "      <td>2</td>\n",
       "      <td>2</td>\n",
       "      <td>1</td>\n",
       "      <td>2</td>\n",
       "      <td>1</td>\n",
       "      <td>630</td>\n",
       "    </tr>\n",
       "    <tr>\n",
       "      <th>3</th>\n",
       "      <td>10000000</td>\n",
       "      <td>4</td>\n",
       "      <td>0</td>\n",
       "      <td>0</td>\n",
       "      <td>8:39</td>\n",
       "      <td>IN</td>\n",
       "      <td>10001</td>\n",
       "      <td>2</td>\n",
       "      <td>0</td>\n",
       "      <td>2</td>\n",
       "      <td>...</td>\n",
       "      <td>1.0</td>\n",
       "      <td>2.0</td>\n",
       "      <td>1</td>\n",
       "      <td>0</td>\n",
       "      <td>2</td>\n",
       "      <td>2</td>\n",
       "      <td>1</td>\n",
       "      <td>2</td>\n",
       "      <td>1</td>\n",
       "      <td>630</td>\n",
       "    </tr>\n",
       "    <tr>\n",
       "      <th>4</th>\n",
       "      <td>10000000</td>\n",
       "      <td>5</td>\n",
       "      <td>0</td>\n",
       "      <td>0</td>\n",
       "      <td>11:55</td>\n",
       "      <td>IN</td>\n",
       "      <td>10001</td>\n",
       "      <td>2</td>\n",
       "      <td>0</td>\n",
       "      <td>2</td>\n",
       "      <td>...</td>\n",
       "      <td>1.0</td>\n",
       "      <td>2.0</td>\n",
       "      <td>1</td>\n",
       "      <td>0</td>\n",
       "      <td>2</td>\n",
       "      <td>2</td>\n",
       "      <td>1</td>\n",
       "      <td>2</td>\n",
       "      <td>1</td>\n",
       "      <td>630</td>\n",
       "    </tr>\n",
       "  </tbody>\n",
       "</table>\n",
       "<p>5 rows × 25 columns</p>\n",
       "</div>"
      ],
      "text/plain": [
       "   customer_ID  shopping_pt  record_type  day   time state  location  \\\n",
       "0     10000000            1            0    0   8:35    IN     10001   \n",
       "1     10000000            2            0    0   8:38    IN     10001   \n",
       "2     10000000            3            0    0   8:38    IN     10001   \n",
       "3     10000000            4            0    0   8:39    IN     10001   \n",
       "4     10000000            5            0    0  11:55    IN     10001   \n",
       "\n",
       "   group_size  homeowner  car_age  ...  C_previous  duration_previous  A  B  \\\n",
       "0           2          0        2  ...         1.0                2.0  1  0   \n",
       "1           2          0        2  ...         1.0                2.0  1  0   \n",
       "2           2          0        2  ...         1.0                2.0  1  0   \n",
       "3           2          0        2  ...         1.0                2.0  1  0   \n",
       "4           2          0        2  ...         1.0                2.0  1  0   \n",
       "\n",
       "   C  D  E  F  G  cost  \n",
       "0  2  2  1  2  2   633  \n",
       "1  2  2  1  2  1   630  \n",
       "2  2  2  1  2  1   630  \n",
       "3  2  2  1  2  1   630  \n",
       "4  2  2  1  2  1   630  \n",
       "\n",
       "[5 rows x 25 columns]"
      ]
     },
     "execution_count": 165,
     "metadata": {},
     "output_type": "execute_result"
    }
   ],
   "source": [
    "# load dataset:\n",
    "df = pd.read_csv('data/CarInsurance_Claims.csv')\n",
    "\n",
    "# preview of the data:\n",
    "df.head()"
   ]
  },
  {
   "cell_type": "code",
   "execution_count": 166,
   "metadata": {},
   "outputs": [
    {
     "data": {
      "text/plain": [
       "(665249, 25)"
      ]
     },
     "execution_count": 166,
     "metadata": {},
     "output_type": "execute_result"
    }
   ],
   "source": [
    "# number of observations x number of features:\n",
    "df.shape"
   ]
  },
  {
   "cell_type": "code",
   "execution_count": 167,
   "metadata": {},
   "outputs": [
    {
     "data": {
      "text/plain": [
       "customer_ID            int64\n",
       "shopping_pt            int64\n",
       "record_type            int64\n",
       "day                    int64\n",
       "time                  object\n",
       "state                 object\n",
       "location               int64\n",
       "group_size             int64\n",
       "homeowner              int64\n",
       "car_age                int64\n",
       "car_value             object\n",
       "risk_factor          float64\n",
       "age_oldest             int64\n",
       "age_youngest           int64\n",
       "married_couple         int64\n",
       "C_previous           float64\n",
       "duration_previous    float64\n",
       "A                      int64\n",
       "B                      int64\n",
       "C                      int64\n",
       "D                      int64\n",
       "E                      int64\n",
       "F                      int64\n",
       "G                      int64\n",
       "cost                   int64\n",
       "dtype: object"
      ]
     },
     "execution_count": 167,
     "metadata": {},
     "output_type": "execute_result"
    }
   ],
   "source": [
    "# datatypes for each column:\n",
    "df.dtypes"
   ]
  },
  {
   "cell_type": "markdown",
   "metadata": {},
   "source": [
    "We are going to drop the A-G columns for this exercise, since they're categorical dependent variables which don't have a relationship with the rest of the predictor variables or the cost.  We'll also remove customer_ID to avoid overfitting the predictions to individual customers."
   ]
  },
  {
   "cell_type": "code",
   "execution_count": 168,
   "metadata": {},
   "outputs": [],
   "source": [
    "df.drop(columns=['A', 'B', 'C', 'D', 'E', 'F', 'G', 'customer_ID'], \n",
    "        axis = 1, \n",
    "       inplace=True)"
   ]
  },
  {
   "cell_type": "code",
   "execution_count": 169,
   "metadata": {},
   "outputs": [
    {
     "data": {
      "image/png": "[encoded data removed]",
      "text/plain": [
       "<Figure size 432x288 with 1 Axes>"
      ]
     },
     "metadata": {},
     "output_type": "display_data"
    }
   ],
   "source": [
    "# percentage of missing values by column:\n",
    "nulls = df.isnull().sum() / df.shape[0]\n",
    "labels = nulls.index\n",
    "_ = plt.plot(nulls)\n",
    "_ = plt.xticks(rotation='vertical')"
   ]
  },
  {
   "cell_type": "markdown",
   "metadata": {},
   "source": [
    "There are a relatively high number of nulls in the risk_factor column at over 35%. C_previous and duration_previous are also missing some values.  We could fill in the missing values with a number of methods (mean, median, separate classification / regression models).  We are fortunate to have a lot of data in this set, so will drop the records with missing values."
   ]
  },
  {
   "cell_type": "code",
   "execution_count": 170,
   "metadata": {},
   "outputs": [
    {
     "data": {
      "text/plain": [
       "<matplotlib.axes._subplots.AxesSubplot at 0x7f13541fd6a0>"
      ]
     },
     "execution_count": 170,
     "metadata": {},
     "output_type": "execute_result"
    },
    {
     "data": {
      "image/png": "[encoded data removed]",
      "text/plain": [
       "<Figure size 432x288 with 1 Axes>"
      ]
     },
     "metadata": {},
     "output_type": "display_data"
    }
   ],
   "source": [
    "df2 = df.dropna()\n",
    "\n",
    "# check shape of distributions with and without NAs\n",
    "df['cost'].hist()\n",
    "df2['cost'].hist()"
   ]
  },
  {
   "cell_type": "code",
   "execution_count": 171,
   "metadata": {},
   "outputs": [
    {
     "data": {
      "text/html": [
       "<div>\n",
       "<style scoped>\n",
       "    .dataframe tbody tr th:only-of-type {\n",
       "        vertical-align: middle;\n",
       "    }\n",
       "\n",
       "    .dataframe tbody tr th {\n",
       "        vertical-align: top;\n",
       "    }\n",
       "\n",
       "    .dataframe thead th {\n",
       "        text-align: right;\n",
       "    }\n",
       "</style>\n",
       "<table border=\"1\" class=\"dataframe\">\n",
       "  <thead>\n",
       "    <tr style=\"text-align: right;\">\n",
       "      <th></th>\n",
       "      <th>shopping_pt</th>\n",
       "      <th>record_type</th>\n",
       "      <th>day</th>\n",
       "      <th>location</th>\n",
       "      <th>group_size</th>\n",
       "      <th>homeowner</th>\n",
       "      <th>car_age</th>\n",
       "      <th>risk_factor</th>\n",
       "      <th>age_oldest</th>\n",
       "      <th>age_youngest</th>\n",
       "      <th>married_couple</th>\n",
       "      <th>C_previous</th>\n",
       "      <th>duration_previous</th>\n",
       "      <th>cost</th>\n",
       "    </tr>\n",
       "  </thead>\n",
       "  <tbody>\n",
       "    <tr>\n",
       "      <th>count</th>\n",
       "      <td>665249.000000</td>\n",
       "      <td>665249.000000</td>\n",
       "      <td>665249.000000</td>\n",
       "      <td>665249.000000</td>\n",
       "      <td>665249.000000</td>\n",
       "      <td>665249.000000</td>\n",
       "      <td>665249.000000</td>\n",
       "      <td>424831.000000</td>\n",
       "      <td>665249.000000</td>\n",
       "      <td>665249.000000</td>\n",
       "      <td>665249.000000</td>\n",
       "      <td>646538.000000</td>\n",
       "      <td>646538.000000</td>\n",
       "      <td>665249.000000</td>\n",
       "    </tr>\n",
       "    <tr>\n",
       "      <th>mean</th>\n",
       "      <td>4.219966</td>\n",
       "      <td>0.145824</td>\n",
       "      <td>1.969429</td>\n",
       "      <td>12271.543022</td>\n",
       "      <td>1.234784</td>\n",
       "      <td>0.536229</td>\n",
       "      <td>8.139437</td>\n",
       "      <td>2.563996</td>\n",
       "      <td>44.992403</td>\n",
       "      <td>42.577588</td>\n",
       "      <td>0.209782</td>\n",
       "      <td>2.444718</td>\n",
       "      <td>6.003774</td>\n",
       "      <td>635.785008</td>\n",
       "    </tr>\n",
       "    <tr>\n",
       "      <th>std</th>\n",
       "      <td>2.394369</td>\n",
       "      <td>0.352930</td>\n",
       "      <td>1.453470</td>\n",
       "      <td>1564.789415</td>\n",
       "      <td>0.461036</td>\n",
       "      <td>0.498686</td>\n",
       "      <td>5.764598</td>\n",
       "      <td>1.111584</td>\n",
       "      <td>17.403440</td>\n",
       "      <td>17.460432</td>\n",
       "      <td>0.407153</td>\n",
       "      <td>1.034596</td>\n",
       "      <td>4.680793</td>\n",
       "      <td>45.993758</td>\n",
       "    </tr>\n",
       "    <tr>\n",
       "      <th>min</th>\n",
       "      <td>1.000000</td>\n",
       "      <td>0.000000</td>\n",
       "      <td>0.000000</td>\n",
       "      <td>10001.000000</td>\n",
       "      <td>1.000000</td>\n",
       "      <td>0.000000</td>\n",
       "      <td>0.000000</td>\n",
       "      <td>1.000000</td>\n",
       "      <td>18.000000</td>\n",
       "      <td>16.000000</td>\n",
       "      <td>0.000000</td>\n",
       "      <td>1.000000</td>\n",
       "      <td>0.000000</td>\n",
       "      <td>260.000000</td>\n",
       "    </tr>\n",
       "    <tr>\n",
       "      <th>25%</th>\n",
       "      <td>2.000000</td>\n",
       "      <td>0.000000</td>\n",
       "      <td>1.000000</td>\n",
       "      <td>10936.000000</td>\n",
       "      <td>1.000000</td>\n",
       "      <td>0.000000</td>\n",
       "      <td>3.000000</td>\n",
       "      <td>2.000000</td>\n",
       "      <td>28.000000</td>\n",
       "      <td>26.000000</td>\n",
       "      <td>0.000000</td>\n",
       "      <td>1.000000</td>\n",
       "      <td>2.000000</td>\n",
       "      <td>605.000000</td>\n",
       "    </tr>\n",
       "    <tr>\n",
       "      <th>50%</th>\n",
       "      <td>4.000000</td>\n",
       "      <td>0.000000</td>\n",
       "      <td>2.000000</td>\n",
       "      <td>12027.000000</td>\n",
       "      <td>1.000000</td>\n",
       "      <td>1.000000</td>\n",
       "      <td>7.000000</td>\n",
       "      <td>3.000000</td>\n",
       "      <td>44.000000</td>\n",
       "      <td>40.000000</td>\n",
       "      <td>0.000000</td>\n",
       "      <td>3.000000</td>\n",
       "      <td>5.000000</td>\n",
       "      <td>635.000000</td>\n",
       "    </tr>\n",
       "    <tr>\n",
       "      <th>75%</th>\n",
       "      <td>6.000000</td>\n",
       "      <td>0.000000</td>\n",
       "      <td>3.000000</td>\n",
       "      <td>13426.000000</td>\n",
       "      <td>1.000000</td>\n",
       "      <td>1.000000</td>\n",
       "      <td>12.000000</td>\n",
       "      <td>4.000000</td>\n",
       "      <td>60.000000</td>\n",
       "      <td>57.000000</td>\n",
       "      <td>0.000000</td>\n",
       "      <td>3.000000</td>\n",
       "      <td>9.000000</td>\n",
       "      <td>665.000000</td>\n",
       "    </tr>\n",
       "    <tr>\n",
       "      <th>max</th>\n",
       "      <td>13.000000</td>\n",
       "      <td>1.000000</td>\n",
       "      <td>6.000000</td>\n",
       "      <td>16580.000000</td>\n",
       "      <td>4.000000</td>\n",
       "      <td>1.000000</td>\n",
       "      <td>85.000000</td>\n",
       "      <td>4.000000</td>\n",
       "      <td>75.000000</td>\n",
       "      <td>75.000000</td>\n",
       "      <td>1.000000</td>\n",
       "      <td>4.000000</td>\n",
       "      <td>15.000000</td>\n",
       "      <td>922.000000</td>\n",
       "    </tr>\n",
       "  </tbody>\n",
       "</table>\n",
       "</div>"
      ],
      "text/plain": [
       "         shopping_pt    record_type            day       location  \\\n",
       "count  665249.000000  665249.000000  665249.000000  665249.000000   \n",
       "mean        4.219966       0.145824       1.969429   12271.543022   \n",
       "std         2.394369       0.352930       1.453470    1564.789415   \n",
       "min         1.000000       0.000000       0.000000   10001.000000   \n",
       "25%         2.000000       0.000000       1.000000   10936.000000   \n",
       "50%         4.000000       0.000000       2.000000   12027.000000   \n",
       "75%         6.000000       0.000000       3.000000   13426.000000   \n",
       "max        13.000000       1.000000       6.000000   16580.000000   \n",
       "\n",
       "          group_size      homeowner        car_age    risk_factor  \\\n",
       "count  665249.000000  665249.000000  665249.000000  424831.000000   \n",
       "mean        1.234784       0.536229       8.139437       2.563996   \n",
       "std         0.461036       0.498686       5.764598       1.111584   \n",
       "min         1.000000       0.000000       0.000000       1.000000   \n",
       "25%         1.000000       0.000000       3.000000       2.000000   \n",
       "50%         1.000000       1.000000       7.000000       3.000000   \n",
       "75%         1.000000       1.000000      12.000000       4.000000   \n",
       "max         4.000000       1.000000      85.000000       4.000000   \n",
       "\n",
       "          age_oldest   age_youngest  married_couple     C_previous  \\\n",
       "count  665249.000000  665249.000000   665249.000000  646538.000000   \n",
       "mean       44.992403      42.577588        0.209782       2.444718   \n",
       "std        17.403440      17.460432        0.407153       1.034596   \n",
       "min        18.000000      16.000000        0.000000       1.000000   \n",
       "25%        28.000000      26.000000        0.000000       1.000000   \n",
       "50%        44.000000      40.000000        0.000000       3.000000   \n",
       "75%        60.000000      57.000000        0.000000       3.000000   \n",
       "max        75.000000      75.000000        1.000000       4.000000   \n",
       "\n",
       "       duration_previous           cost  \n",
       "count      646538.000000  665249.000000  \n",
       "mean            6.003774     635.785008  \n",
       "std             4.680793      45.993758  \n",
       "min             0.000000     260.000000  \n",
       "25%             2.000000     605.000000  \n",
       "50%             5.000000     635.000000  \n",
       "75%             9.000000     665.000000  \n",
       "max            15.000000     922.000000  "
      ]
     },
     "execution_count": 171,
     "metadata": {},
     "output_type": "execute_result"
    }
   ],
   "source": [
    "df.describe()"
   ]
  },
  {
   "cell_type": "code",
   "execution_count": 172,
   "metadata": {},
   "outputs": [
    {
     "data": {
      "text/html": [
       "<div>\n",
       "<style scoped>\n",
       "    .dataframe tbody tr th:only-of-type {\n",
       "        vertical-align: middle;\n",
       "    }\n",
       "\n",
       "    .dataframe tbody tr th {\n",
       "        vertical-align: top;\n",
       "    }\n",
       "\n",
       "    .dataframe thead th {\n",
       "        text-align: right;\n",
       "    }\n",
       "</style>\n",
       "<table border=\"1\" class=\"dataframe\">\n",
       "  <thead>\n",
       "    <tr style=\"text-align: right;\">\n",
       "      <th></th>\n",
       "      <th>shopping_pt</th>\n",
       "      <th>record_type</th>\n",
       "      <th>day</th>\n",
       "      <th>location</th>\n",
       "      <th>group_size</th>\n",
       "      <th>homeowner</th>\n",
       "      <th>car_age</th>\n",
       "      <th>risk_factor</th>\n",
       "      <th>age_oldest</th>\n",
       "      <th>age_youngest</th>\n",
       "      <th>married_couple</th>\n",
       "      <th>C_previous</th>\n",
       "      <th>duration_previous</th>\n",
       "      <th>cost</th>\n",
       "    </tr>\n",
       "  </thead>\n",
       "  <tbody>\n",
       "    <tr>\n",
       "      <th>count</th>\n",
       "      <td>417447.000000</td>\n",
       "      <td>417447.000000</td>\n",
       "      <td>417447.000000</td>\n",
       "      <td>417447.000000</td>\n",
       "      <td>417447.000000</td>\n",
       "      <td>417447.000000</td>\n",
       "      <td>417447.000000</td>\n",
       "      <td>417447.000000</td>\n",
       "      <td>417447.000000</td>\n",
       "      <td>417447.000000</td>\n",
       "      <td>417447.000000</td>\n",
       "      <td>417447.000000</td>\n",
       "      <td>417447.000000</td>\n",
       "      <td>417447.000000</td>\n",
       "    </tr>\n",
       "    <tr>\n",
       "      <th>mean</th>\n",
       "      <td>4.267471</td>\n",
       "      <td>0.149133</td>\n",
       "      <td>1.948587</td>\n",
       "      <td>12275.645248</td>\n",
       "      <td>1.249184</td>\n",
       "      <td>0.594186</td>\n",
       "      <td>7.717696</td>\n",
       "      <td>2.559003</td>\n",
       "      <td>48.032181</td>\n",
       "      <td>45.544067</td>\n",
       "      <td>0.226383</td>\n",
       "      <td>2.596406</td>\n",
       "      <td>6.679780</td>\n",
       "      <td>632.695010</td>\n",
       "    </tr>\n",
       "    <tr>\n",
       "      <th>std</th>\n",
       "      <td>2.397240</td>\n",
       "      <td>0.356220</td>\n",
       "      <td>1.452714</td>\n",
       "      <td>1552.833289</td>\n",
       "      <td>0.470781</td>\n",
       "      <td>0.491050</td>\n",
       "      <td>5.637517</td>\n",
       "      <td>1.112997</td>\n",
       "      <td>17.878804</td>\n",
       "      <td>18.144699</td>\n",
       "      <td>0.418490</td>\n",
       "      <td>1.007123</td>\n",
       "      <td>4.825717</td>\n",
       "      <td>46.219299</td>\n",
       "    </tr>\n",
       "    <tr>\n",
       "      <th>min</th>\n",
       "      <td>1.000000</td>\n",
       "      <td>0.000000</td>\n",
       "      <td>0.000000</td>\n",
       "      <td>10001.000000</td>\n",
       "      <td>1.000000</td>\n",
       "      <td>0.000000</td>\n",
       "      <td>0.000000</td>\n",
       "      <td>1.000000</td>\n",
       "      <td>18.000000</td>\n",
       "      <td>16.000000</td>\n",
       "      <td>0.000000</td>\n",
       "      <td>1.000000</td>\n",
       "      <td>0.000000</td>\n",
       "      <td>260.000000</td>\n",
       "    </tr>\n",
       "    <tr>\n",
       "      <th>25%</th>\n",
       "      <td>2.000000</td>\n",
       "      <td>0.000000</td>\n",
       "      <td>1.000000</td>\n",
       "      <td>10965.000000</td>\n",
       "      <td>1.000000</td>\n",
       "      <td>0.000000</td>\n",
       "      <td>3.000000</td>\n",
       "      <td>2.000000</td>\n",
       "      <td>31.000000</td>\n",
       "      <td>28.000000</td>\n",
       "      <td>0.000000</td>\n",
       "      <td>2.000000</td>\n",
       "      <td>3.000000</td>\n",
       "      <td>601.000000</td>\n",
       "    </tr>\n",
       "    <tr>\n",
       "      <th>50%</th>\n",
       "      <td>4.000000</td>\n",
       "      <td>0.000000</td>\n",
       "      <td>2.000000</td>\n",
       "      <td>12037.000000</td>\n",
       "      <td>1.000000</td>\n",
       "      <td>1.000000</td>\n",
       "      <td>7.000000</td>\n",
       "      <td>3.000000</td>\n",
       "      <td>49.000000</td>\n",
       "      <td>45.000000</td>\n",
       "      <td>0.000000</td>\n",
       "      <td>3.000000</td>\n",
       "      <td>6.000000</td>\n",
       "      <td>631.000000</td>\n",
       "    </tr>\n",
       "    <tr>\n",
       "      <th>75%</th>\n",
       "      <td>6.000000</td>\n",
       "      <td>0.000000</td>\n",
       "      <td>3.000000</td>\n",
       "      <td>13427.000000</td>\n",
       "      <td>1.000000</td>\n",
       "      <td>1.000000</td>\n",
       "      <td>11.000000</td>\n",
       "      <td>4.000000</td>\n",
       "      <td>64.000000</td>\n",
       "      <td>62.000000</td>\n",
       "      <td>0.000000</td>\n",
       "      <td>3.000000</td>\n",
       "      <td>10.000000</td>\n",
       "      <td>662.000000</td>\n",
       "    </tr>\n",
       "    <tr>\n",
       "      <th>max</th>\n",
       "      <td>13.000000</td>\n",
       "      <td>1.000000</td>\n",
       "      <td>6.000000</td>\n",
       "      <td>16580.000000</td>\n",
       "      <td>4.000000</td>\n",
       "      <td>1.000000</td>\n",
       "      <td>85.000000</td>\n",
       "      <td>4.000000</td>\n",
       "      <td>75.000000</td>\n",
       "      <td>75.000000</td>\n",
       "      <td>1.000000</td>\n",
       "      <td>4.000000</td>\n",
       "      <td>15.000000</td>\n",
       "      <td>911.000000</td>\n",
       "    </tr>\n",
       "  </tbody>\n",
       "</table>\n",
       "</div>"
      ],
      "text/plain": [
       "         shopping_pt    record_type            day       location  \\\n",
       "count  417447.000000  417447.000000  417447.000000  417447.000000   \n",
       "mean        4.267471       0.149133       1.948587   12275.645248   \n",
       "std         2.397240       0.356220       1.452714    1552.833289   \n",
       "min         1.000000       0.000000       0.000000   10001.000000   \n",
       "25%         2.000000       0.000000       1.000000   10965.000000   \n",
       "50%         4.000000       0.000000       2.000000   12037.000000   \n",
       "75%         6.000000       0.000000       3.000000   13427.000000   \n",
       "max        13.000000       1.000000       6.000000   16580.000000   \n",
       "\n",
       "          group_size      homeowner        car_age    risk_factor  \\\n",
       "count  417447.000000  417447.000000  417447.000000  417447.000000   \n",
       "mean        1.249184       0.594186       7.717696       2.559003   \n",
       "std         0.470781       0.491050       5.637517       1.112997   \n",
       "min         1.000000       0.000000       0.000000       1.000000   \n",
       "25%         1.000000       0.000000       3.000000       2.000000   \n",
       "50%         1.000000       1.000000       7.000000       3.000000   \n",
       "75%         1.000000       1.000000      11.000000       4.000000   \n",
       "max         4.000000       1.000000      85.000000       4.000000   \n",
       "\n",
       "          age_oldest   age_youngest  married_couple     C_previous  \\\n",
       "count  417447.000000  417447.000000   417447.000000  417447.000000   \n",
       "mean       48.032181      45.544067        0.226383       2.596406   \n",
       "std        17.878804      18.144699        0.418490       1.007123   \n",
       "min        18.000000      16.000000        0.000000       1.000000   \n",
       "25%        31.000000      28.000000        0.000000       2.000000   \n",
       "50%        49.000000      45.000000        0.000000       3.000000   \n",
       "75%        64.000000      62.000000        0.000000       3.000000   \n",
       "max        75.000000      75.000000        1.000000       4.000000   \n",
       "\n",
       "       duration_previous           cost  \n",
       "count      417447.000000  417447.000000  \n",
       "mean            6.679780     632.695010  \n",
       "std             4.825717      46.219299  \n",
       "min             0.000000     260.000000  \n",
       "25%             3.000000     601.000000  \n",
       "50%             6.000000     631.000000  \n",
       "75%            10.000000     662.000000  \n",
       "max            15.000000     911.000000  "
      ]
     },
     "execution_count": 172,
     "metadata": {},
     "output_type": "execute_result"
    }
   ],
   "source": [
    "df2.describe()"
   ]
  },
  {
   "cell_type": "markdown",
   "metadata": {},
   "source": [
    "There are a couple of things to note from the output above. One, we didn't change the variable distributions too much by removing records with missing values. If we had, we'd risk affecting the coefficient estimates produced by the regression.\n",
    "\n",
    "By comparing the mean and median values, we can also see that several variables have skewed distributions, since the mean and median are far apart.  There are a couple remaining steps for our data prep: \n",
    "\n",
    "1) The above only looks at the numeric features in the data. We should also look at the categoricals to determine whether they have any potential value.\n",
    "\n",
    "2) Regression is sensitive to outliers in the data, so we want to evaluate and address variable skew before proceeding further.\n"
   ]
  },
  {
   "cell_type": "code",
   "execution_count": 173,
   "metadata": {},
   "outputs": [],
   "source": [
    "df = df2\n",
    "del df2"
   ]
  },
  {
   "cell_type": "code",
   "execution_count": 174,
   "metadata": {},
   "outputs": [
    {
     "data": {
      "image/png": "[encoded data removed]",
      "text/plain": [
       "<Figure size 432x288 with 2 Axes>"
      ]
     },
     "metadata": {},
     "output_type": "display_data"
    }
   ],
   "source": [
    "state_cost = df.groupby('state')['cost'].mean()\n",
    "state_count = df.groupby('state').size()\n",
    "\n",
    "f, (ax1, ax2) = plt.subplots(2, 1, sharex=True)\n",
    "_ = ax1.plot(state_cost)\n",
    "_ = ax1.set_ylabel('Average Cost')\n",
    "_ = ax1.set_title('Data by State')\n",
    "_ = ax2.plot(state_count)\n",
    "_ = ax2.set_ylabel('N')\n",
    "\n",
    "for ax in f.axes:\n",
    "    plt.sca(ax)\n",
    "    plt.xticks(rotation=90)"
   ]
  },
  {
   "cell_type": "markdown",
   "metadata": {},
   "source": [
    "There are some states with many more observations than others. Average cost also varies by up to 10% depending on the state. It may be interesting to see if geographic influence is detectable in the regression, so we'll keep the state variable for the moment."
   ]
  },
  {
   "cell_type": "code",
   "execution_count": 175,
   "metadata": {},
   "outputs": [
    {
     "data": {
      "image/png": "[encoded data removed]",
      "text/plain": [
       "<Figure size 432x288 with 1 Axes>"
      ]
     },
     "metadata": {},
     "output_type": "display_data"
    }
   ],
   "source": [
    "# get the times as a list and round to the hour:\n",
    "times = df['time'].values.tolist()\n",
    "df['time'] = [tm.split(':')[0] for tm in times]\n",
    "\n",
    "times = df.groupby('time')['cost'].mean()\n",
    "\n",
    "_ = times.hist(density=True)"
   ]
  },
  {
   "cell_type": "markdown",
   "metadata": {},
   "source": [
    "There isn't much variation of the cost across different values of the time variable. So, let's drop this feature."
   ]
  },
  {
   "cell_type": "code",
   "execution_count": 176,
   "metadata": {},
   "outputs": [
    {
     "data": {
      "image/png": "[encoded data removed]",
      "text/plain": [
       "<Figure size 432x288 with 2 Axes>"
      ]
     },
     "metadata": {},
     "output_type": "display_data"
    }
   ],
   "source": [
    "car_cost = df.groupby('car_value')['cost'].mean()\n",
    "car_counts = df.groupby('car_value').size()\n",
    "\n",
    "f, (ax1, ax2) = plt.subplots(2, 1, sharex=True)\n",
    "_ = ax1.plot(car_cost)\n",
    "_ = ax1.set_ylabel('Average Cost')\n",
    "_ = ax1.set_title('Data by Car Value')\n",
    "_ = ax2.plot(car_counts)\n",
    "_ = ax2.set_ylabel('N')\n",
    "\n",
    "for ax in f.axes:\n",
    "    plt.sca(ax)\n",
    "    plt.xticks(rotation=90)"
   ]
  },
  {
   "cell_type": "markdown",
   "metadata": {},
   "source": [
    "There appears to be a relationship between the car_value feature and the cost. However, there are relatively few observations at the high and low ends of car_value. We can try bucketing values a-c and g-i together."
   ]
  },
  {
   "cell_type": "code",
   "execution_count": 177,
   "metadata": {},
   "outputs": [],
   "source": [
    "df.loc[df['car_value'].isin(['a', 'b', 'c']), 'car_value'] = 'a-c'\n",
    "df.loc[df['car_value'].isin(['g', 'h', 'i']), 'car_value'] = 'g-i'"
   ]
  },
  {
   "cell_type": "code",
   "execution_count": 178,
   "metadata": {},
   "outputs": [],
   "source": [
    "# remove the time variable as discussed earlier:\n",
    "df.drop(columns=['time'], axis=1, inplace=True)"
   ]
  },
  {
   "cell_type": "code",
   "execution_count": 179,
   "metadata": {},
   "outputs": [],
   "source": [
    "# clean up duration_previous, C_previous, and risk_factor columns since they should be ints\n",
    "df['duration_previous'] = df['duration_previous'].astype(int)\n",
    "df['C_previous'] = df['C_previous'].astype(int)\n",
    "df['risk_factor'] = df['risk_factor'].astype(int)"
   ]
  },
  {
   "cell_type": "code",
   "execution_count": 180,
   "metadata": {},
   "outputs": [
    {
     "data": {
      "image/png": "[encoded data removed]",
      "text/plain": [
       "<Figure size 432x288 with 1 Axes>"
      ]
     },
     "metadata": {},
     "output_type": "display_data"
    }
   ],
   "source": [
    "# Example plotting a single variable to evaluate its skew:\n",
    "feature = 'duration_previous'\n",
    "plt.hist(df[feature], density=True, bins=30)\n",
    "plt.ylabel('Probability')\n",
    "plt.xlabel('Distribution of {}'.format(feature));"
   ]
  },
  {
   "cell_type": "markdown",
   "metadata": {},
   "source": [
    "What if we had a dataset with 1,000 (or 10,000) variables and wanted to evaluate the skew for each? We'd need a lot of code! Or, we can use a more interactive approach to look at each variable in turn with the Bokeh library."
   ]
  },
  {
   "cell_type": "code",
   "execution_count": 181,
   "metadata": {},
   "outputs": [
    {
     "data": {
      "text/html": [
       "\n",
       "<div class=\"bk-root\">\n",
       "    <div class=\"bk-plotdiv\" id=\"114cc33b-9e2a-40a6-a9e0-e07f0e85083d\"></div>\n",
       "</div>"
      ]
     },
     "metadata": {},
     "output_type": "display_data"
    },
    {
     "data": {
      "application/javascript": [
       "(function(root) {\n",
       "  function embed_document(root) {\n",
       "    \n",
       "  var docs_json = {\"5728ec9c-f80f-41d0-93e4-ef7c91896c5f\":{\"roots\":{\"references\":[{\"attributes\":{\"formatter\":{\"id\":\"4b800a77-6c5b-4f99-80ed-caeefa47aa50\",\"type\":\"BasicTickFormatter\"},\"plot\":{\"id\":\"5da22610-f87a-4994-8e15-7af21a384386\",\"subtype\":\"Figure\",\"type\":\"Plot\"},\"ticker\":{\"id\":\"44201ed6-4a92-4c82-91ac-bf4effe91e62\",\"type\":\"BasicTicker\"}},\"id\":\"ca4dbdf7-056d-4135-bfeb-52320ae58d9c\",\"type\":\"LinearAxis\"},{\"attributes\":{\"callback\":null},\"id\":\"296e3965-3a0c-4433-8e59-829b9f173620\",\"type\":\"DataRange1d\"},{\"attributes\":{},\"id\":\"12cc444c-8b5d-418e-aea3-c70abcd7573b\",\"type\":\"LinearScale\"},{\"attributes\":{\"active_drag\":\"auto\",\"active_inspect\":\"auto\",\"active_scroll\":\"auto\",\"active_tap\":\"auto\",\"tools\":[{\"id\":\"2674ab81-bc1c-4ba9-bc41-f2f56d773fef\",\"type\":\"PanTool\"},{\"id\":\"30deaa4a-f263-466a-b02d-f56eb0f96132\",\"type\":\"WheelZoomTool\"},{\"id\":\"68aa8f35-04e2-4f7e-b07c-0334ca0e01ad\",\"type\":\"BoxZoomTool\"},{\"id\":\"2901f7f8-96f5-4f56-a590-ffc2576bd451\",\"type\":\"SaveTool\"},{\"id\":\"cc277622-3ec1-4e75-9389-09f33cf0c005\",\"type\":\"ResetTool\"},{\"id\":\"9bc39507-7cfb-45c4-93cb-e62d2a639a61\",\"type\":\"HelpTool\"}]},\"id\":\"69ede3d6-06d9-4918-bdda-c6b6d1678fe3\",\"type\":\"Toolbar\"},{\"attributes\":{\"background_fill_color\":{\"value\":\"#E8DDCB\"},\"below\":[{\"id\":\"a0801164-c151-4002-9030-10b7b0ee3e32\",\"type\":\"LinearAxis\"}],\"left\":[{\"id\":\"ca4dbdf7-056d-4135-bfeb-52320ae58d9c\",\"type\":\"LinearAxis\"}],\"plot_height\":300,\"plot_width\":500,\"renderers\":[{\"id\":\"a0801164-c151-4002-9030-10b7b0ee3e32\",\"type\":\"LinearAxis\"},{\"id\":\"11aabb68-ff37-499e-bc97-df91a76cceac\",\"type\":\"Grid\"},{\"id\":\"ca4dbdf7-056d-4135-bfeb-52320ae58d9c\",\"type\":\"LinearAxis\"},{\"id\":\"50935dfb-f5fe-46b0-b46b-275bd86d41f0\",\"type\":\"Grid\"},{\"id\":\"500789d1-9e7d-4202-8ae8-940fa4844552\",\"type\":\"BoxAnnotation\"},{\"id\":\"21b15712-3749-4231-8d5a-f374887f5d73\",\"type\":\"GlyphRenderer\"}],\"title\":{\"id\":\"9be7a79d-8137-4dd4-a4a7-a5a9e29cc39f\",\"type\":\"Title\"},\"toolbar\":{\"id\":\"69ede3d6-06d9-4918-bdda-c6b6d1678fe3\",\"type\":\"Toolbar\"},\"x_range\":{\"id\":\"296e3965-3a0c-4433-8e59-829b9f173620\",\"type\":\"DataRange1d\"},\"x_scale\":{\"id\":\"607973d6-0d04-4062-b2de-8be6b3056f83\",\"type\":\"LinearScale\"},\"y_range\":{\"id\":\"66ee8b26-1b14-485f-9f6b-d19182976092\",\"type\":\"DataRange1d\"},\"y_scale\":{\"id\":\"12cc444c-8b5d-418e-aea3-c70abcd7573b\",\"type\":\"LinearScale\"}},\"id\":\"5da22610-f87a-4994-8e15-7af21a384386\",\"subtype\":\"Figure\",\"type\":\"Plot\"},{\"attributes\":{},\"id\":\"30deaa4a-f263-466a-b02d-f56eb0f96132\",\"type\":\"WheelZoomTool\"},{\"attributes\":{\"callback\":null},\"id\":\"66ee8b26-1b14-485f-9f6b-d19182976092\",\"type\":\"DataRange1d\"},{\"attributes\":{},\"id\":\"811f4382-3fcb-4c83-9ffb-57dd537ae8c1\",\"type\":\"Selection\"},{\"attributes\":{},\"id\":\"2674ab81-bc1c-4ba9-bc41-f2f56d773fef\",\"type\":\"PanTool\"},{\"attributes\":{\"formatter\":{\"id\":\"3937ff1f-03f3-4e9f-bd88-b35200e043f1\",\"type\":\"BasicTickFormatter\"},\"plot\":{\"id\":\"5da22610-f87a-4994-8e15-7af21a384386\",\"subtype\":\"Figure\",\"type\":\"Plot\"},\"ticker\":{\"id\":\"a701af12-cad5-4a9a-8a81-3115ae537889\",\"type\":\"BasicTicker\"}},\"id\":\"a0801164-c151-4002-9030-10b7b0ee3e32\",\"type\":\"LinearAxis\"},{\"attributes\":{\"source\":{\"id\":\"976debed-c075-423b-b34a-fa880fab4976\",\"type\":\"ColumnDataSource\"}},\"id\":\"2474cf39-3cb1-4bd9-a68f-a789905bc0c1\",\"type\":\"CDSView\"},{\"attributes\":{},\"id\":\"3937ff1f-03f3-4e9f-bd88-b35200e043f1\",\"type\":\"BasicTickFormatter\"},{\"attributes\":{\"plot\":{\"id\":\"5da22610-f87a-4994-8e15-7af21a384386\",\"subtype\":\"Figure\",\"type\":\"Plot\"},\"ticker\":{\"id\":\"a701af12-cad5-4a9a-8a81-3115ae537889\",\"type\":\"BasicTicker\"}},\"id\":\"11aabb68-ff37-499e-bc97-df91a76cceac\",\"type\":\"Grid\"},{\"attributes\":{},\"id\":\"a701af12-cad5-4a9a-8a81-3115ae537889\",\"type\":\"BasicTicker\"},{\"attributes\":{},\"id\":\"44201ed6-4a92-4c82-91ac-bf4effe91e62\",\"type\":\"BasicTicker\"},{\"attributes\":{\"data_source\":{\"id\":\"976debed-c075-423b-b34a-fa880fab4976\",\"type\":\"ColumnDataSource\"},\"glyph\":{\"id\":\"993fbbda-1ada-4a70-bc5f-223e6bf40e39\",\"type\":\"Quad\"},\"hover_glyph\":null,\"muted_glyph\":null,\"nonselection_glyph\":{\"id\":\"d1ec7422-fbe3-4c68-9bda-fc04a79ae672\",\"type\":\"Quad\"},\"selection_glyph\":null,\"view\":{\"id\":\"2474cf39-3cb1-4bd9-a68f-a789905bc0c1\",\"type\":\"CDSView\"}},\"id\":\"21b15712-3749-4231-8d5a-f374887f5d73\",\"type\":\"GlyphRenderer\"},{\"attributes\":{},\"id\":\"ac673d5b-6d3a-48fe-b238-cbe16c9dc7a1\",\"type\":\"UnionRenderers\"},{\"attributes\":{},\"id\":\"9bc39507-7cfb-45c4-93cb-e62d2a639a61\",\"type\":\"HelpTool\"},{\"attributes\":{},\"id\":\"4b800a77-6c5b-4f99-80ed-caeefa47aa50\",\"type\":\"BasicTickFormatter\"},{\"attributes\":{\"overlay\":{\"id\":\"500789d1-9e7d-4202-8ae8-940fa4844552\",\"type\":\"BoxAnnotation\"}},\"id\":\"68aa8f35-04e2-4f7e-b07c-0334ca0e01ad\",\"type\":\"BoxZoomTool\"},{\"attributes\":{},\"id\":\"cc277622-3ec1-4e75-9389-09f33cf0c005\",\"type\":\"ResetTool\"},{\"attributes\":{\"dimension\":1,\"plot\":{\"id\":\"5da22610-f87a-4994-8e15-7af21a384386\",\"subtype\":\"Figure\",\"type\":\"Plot\"},\"ticker\":{\"id\":\"44201ed6-4a92-4c82-91ac-bf4effe91e62\",\"type\":\"BasicTicker\"}},\"id\":\"50935dfb-f5fe-46b0-b46b-275bd86d41f0\",\"type\":\"Grid\"},{\"attributes\":{\"bottom\":{\"value\":0},\"fill_alpha\":{\"value\":0.1},\"fill_color\":{\"value\":\"#1f77b4\"},\"left\":{\"field\":\"left\"},\"line_alpha\":{\"value\":0.1},\"line_color\":{\"value\":\"#1f77b4\"},\"right\":{\"field\":\"right\"},\"top\":{\"field\":\"top\"}},\"id\":\"d1ec7422-fbe3-4c68-9bda-fc04a79ae672\",\"type\":\"Quad\"},{\"attributes\":{\"bottom_units\":\"screen\",\"fill_alpha\":{\"value\":0.5},\"fill_color\":{\"value\":\"lightgrey\"},\"left_units\":\"screen\",\"level\":\"overlay\",\"line_alpha\":{\"value\":1.0},\"line_color\":{\"value\":\"black\"},\"line_dash\":[4,4],\"line_width\":{\"value\":2},\"plot\":null,\"render_mode\":\"css\",\"right_units\":\"screen\",\"top_units\":\"screen\"},\"id\":\"500789d1-9e7d-4202-8ae8-940fa4844552\",\"type\":\"BoxAnnotation\"},{\"attributes\":{\"callback\":null,\"data\":{\"left\":{\"__ndarray__\":\"AAAAAAAAAAAzMzMzMzP7PzMzMzMzMwtAZmZmZmZmFEAzMzMzMzMbQAAAAAAAACFAZmZmZmZmJEDNzMzMzMwnQDMzMzMzMytAmZmZmZmZLkAAAAAAAAAxQDMzMzMzszJAZmZmZmZmNECZmZmZmRk2QM3MzMzMzDdAAAAAAACAOUAzMzMzMzM7QGZmZmZm5jxAmZmZmZmZPkBmZmZmZiZAQAAAAAAAAEFAmZmZmZnZQUAzMzMzM7NCQM3MzMzMjENAZmZmZmZmREAAAAAAAEBFQJmZmZmZGUZAMzMzMzPzRkDNzMzMzMxHQGZmZmZmpkhAAAAAAACASUCZmZmZmVlKQDMzMzMzM0tAzczMzMwMTEBmZmZmZuZMQAAAAAAAwE1AmZmZmZmZTkAzMzMzM3NPQGZmZmZmJlBAMzMzMzOTUEAAAAAAAABRQM3MzMzMbFFAmZmZmZnZUUBmZmZmZkZSQDMzMzMzs1JAAAAAAAAgU0DNzMzMzIxTQJmZmZmZ+VNAZmZmZmZmVEAzMzMzM9NUQA==\",\"dtype\":\"float64\",\"shape\":[50]},\"right\":{\"__ndarray__\":\"MzMzMzMz+z8zMzMzMzMLQGZmZmZmZhRAMzMzMzMzG0AAAAAAAAAhQGZmZmZmZiRAzczMzMzMJ0AzMzMzMzMrQJmZmZmZmS5AAAAAAAAAMUAzMzMzM7MyQGZmZmZmZjRAmZmZmZkZNkDNzMzMzMw3QAAAAAAAgDlAMzMzMzMzO0BmZmZmZuY8QJmZmZmZmT5AZmZmZmYmQEAAAAAAAABBQJmZmZmZ2UFAMzMzMzOzQkDNzMzMzIxDQGZmZmZmZkRAAAAAAABARUCZmZmZmRlGQDMzMzMz80ZAzczMzMzMR0BmZmZmZqZIQAAAAAAAgElAmZmZmZlZSkAzMzMzMzNLQM3MzMzMDExAZmZmZmbmTEAAAAAAAMBNQJmZmZmZmU5AMzMzMzNzT0BmZmZmZiZQQDMzMzMzk1BAAAAAAAAAUUDNzMzMzGxRQJmZmZmZ2VFAZmZmZmZGUkAzMzMzM7NSQAAAAAAAIFNAzczMzMyMU0CZmZmZmflTQGZmZmZmZlRAMzMzMzPTVEAAAAAAAEBVQA==\",\"dtype\":\"float64\",\"shape\":[50]},\"top\":{\"__ndarray__\":\"g85MhQaxsz/7bZdSXze2P7AOx29E4rE/9fsUYcJUpD9Aa2fWGFO0P4kwUnAOMrI/0SyAi08Qnz/j1cBhS8uoP1biYp/R/6E/KbRFWv6UiD9jyP5W29uOPxD8dFzAZYQ/M6Is8/LUcz86V2S46p5dP88FTlF5cGM/kacs8IGMVz+cE063Vv88P4ZWZN36Fk0/ZFBkBXzXOD9GTWSZvLcmPyvI3mThqC4/mWQWyt10Jz9lU2RxO/caP4R2bzrtEgw/CaXTmy+NHT89JFn4i1whPyGNelOhrxQ/pdjppRYGIz/eAfVGR2EIP3leFvJeNfM+5y+ykBy78T5u6kIWJqS3PtMvspAcu+E+OY16U6Gv5D68RwvZqpjqPttHC9mqmOo+bupCFiaktz7nL7KQHLvhPgml05svjd0+AAAAAAAAAAAAAAAAAAAAAAAAAAAAAAAAAAAAAAAAAAAhjXpToa/kPtMvspAcu+E+AAAAAAAAAAAAAAAAAAAAAAAAAAAAAAAAAAAAAAAAAABu6kIWJqTXPg==\",\"dtype\":\"float64\",\"shape\":[50]}},\"selected\":{\"id\":\"811f4382-3fcb-4c83-9ffb-57dd537ae8c1\",\"type\":\"Selection\"},\"selection_policy\":{\"id\":\"ac673d5b-6d3a-48fe-b238-cbe16c9dc7a1\",\"type\":\"UnionRenderers\"}},\"id\":\"976debed-c075-423b-b34a-fa880fab4976\",\"type\":\"ColumnDataSource\"},{\"attributes\":{\"plot\":null,\"text\":\"Test\"},\"id\":\"9be7a79d-8137-4dd4-a4a7-a5a9e29cc39f\",\"type\":\"Title\"},{\"attributes\":{},\"id\":\"607973d6-0d04-4062-b2de-8be6b3056f83\",\"type\":\"LinearScale\"},{\"attributes\":{\"bottom\":{\"value\":0},\"fill_color\":{\"value\":\"#036564\"},\"left\":{\"field\":\"left\"},\"line_color\":{\"value\":\"#033649\"},\"right\":{\"field\":\"right\"},\"top\":{\"field\":\"top\"}},\"id\":\"993fbbda-1ada-4a70-bc5f-223e6bf40e39\",\"type\":\"Quad\"},{\"attributes\":{},\"id\":\"2901f7f8-96f5-4f56-a590-ffc2576bd451\",\"type\":\"SaveTool\"}],\"root_ids\":[\"5da22610-f87a-4994-8e15-7af21a384386\"]},\"title\":\"Bokeh Application\",\"version\":\"0.12.16\"}};\n",
       "  var render_items = [{\"docid\":\"5728ec9c-f80f-41d0-93e4-ef7c91896c5f\",\"elementid\":\"114cc33b-9e2a-40a6-a9e0-e07f0e85083d\",\"modelid\":\"5da22610-f87a-4994-8e15-7af21a384386\"}];\n",
       "  root.Bokeh.embed.embed_items_notebook(docs_json, render_items);\n",
       "\n",
       "  }\n",
       "  if (root.Bokeh !== undefined) {\n",
       "    embed_document(root);\n",
       "  } else {\n",
       "    var attempts = 0;\n",
       "    var timer = setInterval(function(root) {\n",
       "      if (root.Bokeh !== undefined) {\n",
       "        embed_document(root);\n",
       "        clearInterval(timer);\n",
       "      }\n",
       "      attempts++;\n",
       "      if (attempts > 100) {\n",
       "        console.log(\"Bokeh: ERROR: Unable to run BokehJS code because BokehJS library is missing\")\n",
       "        clearInterval(timer);\n",
       "      }\n",
       "    }, 10, root)\n",
       "  }\n",
       "})(window);"
      ],
      "application/vnd.bokehjs_exec.v0+json": ""
     },
     "metadata": {
      "application/vnd.bokehjs_exec.v0+json": {
       "id": "5da22610-f87a-4994-8e15-7af21a384386"
      }
     },
     "output_type": "display_data"
    },
    {
     "data": {
      "text/html": [
       "\n",
       "    <div class=\"bk-root\">\n",
       "        <a href=\"https://bokeh.pydata.org\" target=\"_blank\" class=\"bk-logo bk-logo-small bk-logo-notebook\"></a>\n",
       "        <span id=\"fdbfef65-b842-4df3-8a1a-1a2b619d69aa\">Loading BokehJS ...</span>\n",
       "    </div>"
      ]
     },
     "metadata": {},
     "output_type": "display_data"
    },
    {
     "data": {
      "application/javascript": [
       "\n",
       "(function(root) {\n",
       "  function now() {\n",
       "    return new Date();\n",
       "  }\n",
       "\n",
       "  var force = true;\n",
       "\n",
       "  if (typeof (root._bokeh_onload_callbacks) === \"undefined\" || force === true) {\n",
       "    root._bokeh_onload_callbacks = [];\n",
       "    root._bokeh_is_loading = undefined;\n",
       "  }\n",
       "\n",
       "  var JS_MIME_TYPE = 'application/javascript';\n",
       "  var HTML_MIME_TYPE = 'text/html';\n",
       "  var EXEC_MIME_TYPE = 'application/vnd.bokehjs_exec.v0+json';\n",
       "  var CLASS_NAME = 'output_bokeh rendered_html';\n",
       "\n",
       "  /**\n",
       "   * Render data to the DOM node\n",
       "   */\n",
       "  function render(props, node) {\n",
       "    var script = document.createElement(\"script\");\n",
       "    node.appendChild(script);\n",
       "  }\n",
       "\n",
       "  /**\n",
       "   * Handle when an output is cleared or removed\n",
       "   */\n",
       "  function handleClearOutput(event, handle) {\n",
       "    var cell = handle.cell;\n",
       "\n",
       "    var id = cell.output_area._bokeh_element_id;\n",
       "    var server_id = cell.output_area._bokeh_server_id;\n",
       "    // Clean up Bokeh references\n",
       "    if (id !== undefined) {\n",
       "      Bokeh.index[id].model.document.clear();\n",
       "      delete Bokeh.index[id];\n",
       "    }\n",
       "\n",
       "    if (server_id !== undefined) {\n",
       "      // Clean up Bokeh references\n",
       "      var cmd = \"from bokeh.io.state import curstate; print(curstate().uuid_to_server['\" + server_id + \"'].get_sessions()[0].document.roots[0]._id)\";\n",
       "      cell.notebook.kernel.execute(cmd, {\n",
       "        iopub: {\n",
       "          output: function(msg) {\n",
       "            var element_id = msg.content.text.trim();\n",
       "            Bokeh.index[element_id].model.document.clear();\n",
       "            delete Bokeh.index[element_id];\n",
       "          }\n",
       "        }\n",
       "      });\n",
       "      // Destroy server and session\n",
       "      var cmd = \"import bokeh.io.notebook as ion; ion.destroy_server('\" + server_id + \"')\";\n",
       "      cell.notebook.kernel.execute(cmd);\n",
       "    }\n",
       "  }\n",
       "\n",
       "  /**\n",
       "   * Handle when a new output is added\n",
       "   */\n",
       "  function handleAddOutput(event, handle) {\n",
       "    var output_area = handle.output_area;\n",
       "    var output = handle.output;\n",
       "\n",
       "    // limit handleAddOutput to display_data with EXEC_MIME_TYPE content only\n",
       "    if ((output.output_type != \"display_data\") || (!output.data.hasOwnProperty(EXEC_MIME_TYPE))) {\n",
       "      return\n",
       "    }\n",
       "\n",
       "    var toinsert = output_area.element.find(\".\" + CLASS_NAME.split(' ')[0]);\n",
       "\n",
       "    if (output.metadata[EXEC_MIME_TYPE][\"id\"] !== undefined) {\n",
       "      toinsert[toinsert.length - 1].firstChild.textContent = output.data[JS_MIME_TYPE];\n",
       "      // store reference to embed id on output_area\n",
       "      output_area._bokeh_element_id = output.metadata[EXEC_MIME_TYPE][\"id\"];\n",
       "    }\n",
       "    if (output.metadata[EXEC_MIME_TYPE][\"server_id\"] !== undefined) {\n",
       "      var bk_div = document.createElement(\"div\");\n",
       "      bk_div.innerHTML = output.data[HTML_MIME_TYPE];\n",
       "      var script_attrs = bk_div.children[0].attributes;\n",
       "      for (var i = 0; i < script_attrs.length; i++) {\n",
       "        toinsert[toinsert.length - 1].firstChild.setAttribute(script_attrs[i].name, script_attrs[i].value);\n",
       "      }\n",
       "      // store reference to server id on output_area\n",
       "      output_area._bokeh_server_id = output.metadata[EXEC_MIME_TYPE][\"server_id\"];\n",
       "    }\n",
       "  }\n",
       "\n",
       "  function register_renderer(events, OutputArea) {\n",
       "\n",
       "    function append_mime(data, metadata, element) {\n",
       "      // create a DOM node to render to\n",
       "      var toinsert = this.create_output_subarea(\n",
       "        metadata,\n",
       "        CLASS_NAME,\n",
       "        EXEC_MIME_TYPE\n",
       "      );\n",
       "      this.keyboard_manager.register_events(toinsert);\n",
       "      // Render to node\n",
       "      var props = {data: data, metadata: metadata[EXEC_MIME_TYPE]};\n",
       "      render(props, toinsert[toinsert.length - 1]);\n",
       "      element.append(toinsert);\n",
       "      return toinsert\n",
       "    }\n",
       "\n",
       "    /* Handle when an output is cleared or removed */\n",
       "    events.on('clear_output.CodeCell', handleClearOutput);\n",
       "    events.on('delete.Cell', handleClearOutput);\n",
       "\n",
       "    /* Handle when a new output is added */\n",
       "    events.on('output_added.OutputArea', handleAddOutput);\n",
       "\n",
       "    /**\n",
       "     * Register the mime type and append_mime function with output_area\n",
       "     */\n",
       "    OutputArea.prototype.register_mime_type(EXEC_MIME_TYPE, append_mime, {\n",
       "      /* Is output safe? */\n",
       "      safe: true,\n",
       "      /* Index of renderer in `output_area.display_order` */\n",
       "      index: 0\n",
       "    });\n",
       "  }\n",
       "\n",
       "  // register the mime type if in Jupyter Notebook environment and previously unregistered\n",
       "  if (root.Jupyter !== undefined) {\n",
       "    var events = require('base/js/events');\n",
       "    var OutputArea = require('notebook/js/outputarea').OutputArea;\n",
       "\n",
       "    if (OutputArea.prototype.mime_types().indexOf(EXEC_MIME_TYPE) == -1) {\n",
       "      register_renderer(events, OutputArea);\n",
       "    }\n",
       "  }\n",
       "\n",
       "  \n",
       "  if (typeof (root._bokeh_timeout) === \"undefined\" || force === true) {\n",
       "    root._bokeh_timeout = Date.now() + 5000;\n",
       "    root._bokeh_failed_load = false;\n",
       "  }\n",
       "\n",
       "  var NB_LOAD_WARNING = {'data': {'text/html':\n",
       "     \"<div style='background-color: #fdd'>\\n\"+\n",
       "     \"<p>\\n\"+\n",
       "     \"BokehJS does not appear to have successfully loaded. If loading BokehJS from CDN, this \\n\"+\n",
       "     \"may be due to a slow or bad network connection. Possible fixes:\\n\"+\n",
       "     \"</p>\\n\"+\n",
       "     \"<ul>\\n\"+\n",
       "     \"<li>re-rerun `output_notebook()` to attempt to load from CDN again, or</li>\\n\"+\n",
       "     \"<li>use INLINE resources instead, as so:</li>\\n\"+\n",
       "     \"</ul>\\n\"+\n",
       "     \"<code>\\n\"+\n",
       "     \"from bokeh.resources import INLINE\\n\"+\n",
       "     \"output_notebook(resources=INLINE)\\n\"+\n",
       "     \"</code>\\n\"+\n",
       "     \"</div>\"}};\n",
       "\n",
       "  function display_loaded() {\n",
       "    var el = document.getElementById(\"fdbfef65-b842-4df3-8a1a-1a2b619d69aa\");\n",
       "    if (el != null) {\n",
       "      el.textContent = \"BokehJS is loading...\";\n",
       "    }\n",
       "    if (root.Bokeh !== undefined) {\n",
       "      if (el != null) {\n",
       "        el.textContent = \"BokehJS \" + root.Bokeh.version + \" successfully loaded.\";\n",
       "      }\n",
       "    } else if (Date.now() < root._bokeh_timeout) {\n",
       "      setTimeout(display_loaded, 100)\n",
       "    }\n",
       "  }\n",
       "\n",
       "\n",
       "  function run_callbacks() {\n",
       "    try {\n",
       "      root._bokeh_onload_callbacks.forEach(function(callback) { callback() });\n",
       "    }\n",
       "    finally {\n",
       "      delete root._bokeh_onload_callbacks\n",
       "    }\n",
       "    console.info(\"Bokeh: all callbacks have finished\");\n",
       "  }\n",
       "\n",
       "  function load_libs(js_urls, callback) {\n",
       "    root._bokeh_onload_callbacks.push(callback);\n",
       "    if (root._bokeh_is_loading > 0) {\n",
       "      console.log(\"Bokeh: BokehJS is being loaded, scheduling callback at\", now());\n",
       "      return null;\n",
       "    }\n",
       "    if (js_urls == null || js_urls.length === 0) {\n",
       "      run_callbacks();\n",
       "      return null;\n",
       "    }\n",
       "    console.log(\"Bokeh: BokehJS not loaded, scheduling load and callback at\", now());\n",
       "    root._bokeh_is_loading = js_urls.length;\n",
       "    for (var i = 0; i < js_urls.length; i++) {\n",
       "      var url = js_urls[i];\n",
       "      var s = document.createElement('script');\n",
       "      s.src = url;\n",
       "      s.async = false;\n",
       "      s.onreadystatechange = s.onload = function() {\n",
       "        root._bokeh_is_loading--;\n",
       "        if (root._bokeh_is_loading === 0) {\n",
       "          console.log(\"Bokeh: all BokehJS libraries loaded\");\n",
       "          run_callbacks()\n",
       "        }\n",
       "      };\n",
       "      s.onerror = function() {\n",
       "        console.warn(\"failed to load library \" + url);\n",
       "      };\n",
       "      console.log(\"Bokeh: injecting script tag for BokehJS library: \", url);\n",
       "      document.getElementsByTagName(\"head\")[0].appendChild(s);\n",
       "    }\n",
       "  };var element = document.getElementById(\"fdbfef65-b842-4df3-8a1a-1a2b619d69aa\");\n",
       "  if (element == null) {\n",
       "    console.log(\"Bokeh: ERROR: autoload.js configured with elementid 'fdbfef65-b842-4df3-8a1a-1a2b619d69aa' but no matching script tag was found. \")\n",
       "    return false;\n",
       "  }\n",
       "\n",
       "  var js_urls = [\"https://cdn.pydata.org/bokeh/release/bokeh-0.12.16.min.js\", \"https://cdn.pydata.org/bokeh/release/bokeh-widgets-0.12.16.min.js\", \"https://cdn.pydata.org/bokeh/release/bokeh-tables-0.12.16.min.js\", \"https://cdn.pydata.org/bokeh/release/bokeh-gl-0.12.16.min.js\"];\n",
       "\n",
       "  var inline_js = [\n",
       "    function(Bokeh) {\n",
       "      Bokeh.set_log_level(\"info\");\n",
       "    },\n",
       "    \n",
       "    function(Bokeh) {\n",
       "      \n",
       "    },\n",
       "    function(Bokeh) {\n",
       "      console.log(\"Bokeh: injecting CSS: https://cdn.pydata.org/bokeh/release/bokeh-0.12.16.min.css\");\n",
       "      Bokeh.embed.inject_css(\"https://cdn.pydata.org/bokeh/release/bokeh-0.12.16.min.css\");\n",
       "      console.log(\"Bokeh: injecting CSS: https://cdn.pydata.org/bokeh/release/bokeh-widgets-0.12.16.min.css\");\n",
       "      Bokeh.embed.inject_css(\"https://cdn.pydata.org/bokeh/release/bokeh-widgets-0.12.16.min.css\");\n",
       "      console.log(\"Bokeh: injecting CSS: https://cdn.pydata.org/bokeh/release/bokeh-tables-0.12.16.min.css\");\n",
       "      Bokeh.embed.inject_css(\"https://cdn.pydata.org/bokeh/release/bokeh-tables-0.12.16.min.css\");\n",
       "    }\n",
       "  ];\n",
       "\n",
       "  function run_inline_js() {\n",
       "    \n",
       "    if ((root.Bokeh !== undefined) || (force === true)) {\n",
       "      for (var i = 0; i < inline_js.length; i++) {\n",
       "        inline_js[i].call(root, root.Bokeh);\n",
       "      }if (force === true) {\n",
       "        display_loaded();\n",
       "      }} else if (Date.now() < root._bokeh_timeout) {\n",
       "      setTimeout(run_inline_js, 100);\n",
       "    } else if (!root._bokeh_failed_load) {\n",
       "      console.log(\"Bokeh: BokehJS failed to load within specified timeout.\");\n",
       "      root._bokeh_failed_load = true;\n",
       "    } else if (force !== true) {\n",
       "      var cell = $(document.getElementById(\"fdbfef65-b842-4df3-8a1a-1a2b619d69aa\")).parents('.cell').data().cell;\n",
       "      cell.output_area.append_execute_result(NB_LOAD_WARNING)\n",
       "    }\n",
       "\n",
       "  }\n",
       "\n",
       "  if (root._bokeh_is_loading === 0) {\n",
       "    console.log(\"Bokeh: BokehJS loaded, going straight to plotting\");\n",
       "    run_inline_js();\n",
       "  } else {\n",
       "    load_libs(js_urls, function() {\n",
       "      console.log(\"Bokeh: BokehJS plotting callback run at\", now());\n",
       "      run_inline_js();\n",
       "    });\n",
       "  }\n",
       "}(window));"
      ],
      "application/vnd.bokehjs_load.v0+json": "\n(function(root) {\n  function now() {\n    return new Date();\n  }\n\n  var force = true;\n\n  if (typeof (root._bokeh_onload_callbacks) === \"undefined\" || force === true) {\n    root._bokeh_onload_callbacks = [];\n    root._bokeh_is_loading = undefined;\n  }\n\n  \n\n  \n  if (typeof (root._bokeh_timeout) === \"undefined\" || force === true) {\n    root._bokeh_timeout = Date.now() + 5000;\n    root._bokeh_failed_load = false;\n  }\n\n  var NB_LOAD_WARNING = {'data': {'text/html':\n     \"<div style='background-color: #fdd'>\\n\"+\n     \"<p>\\n\"+\n     \"BokehJS does not appear to have successfully loaded. If loading BokehJS from CDN, this \\n\"+\n     \"may be due to a slow or bad network connection. Possible fixes:\\n\"+\n     \"</p>\\n\"+\n     \"<ul>\\n\"+\n     \"<li>re-rerun `output_notebook()` to attempt to load from CDN again, or</li>\\n\"+\n     \"<li>use INLINE resources instead, as so:</li>\\n\"+\n     \"</ul>\\n\"+\n     \"<code>\\n\"+\n     \"from bokeh.resources import INLINE\\n\"+\n     \"output_notebook(resources=INLINE)\\n\"+\n     \"</code>\\n\"+\n     \"</div>\"}};\n\n  function display_loaded() {\n    var el = document.getElementById(\"fdbfef65-b842-4df3-8a1a-1a2b619d69aa\");\n    if (el != null) {\n      el.textContent = \"BokehJS is loading...\";\n    }\n    if (root.Bokeh !== undefined) {\n      if (el != null) {\n        el.textContent = \"BokehJS \" + root.Bokeh.version + \" successfully loaded.\";\n      }\n    } else if (Date.now() < root._bokeh_timeout) {\n      setTimeout(display_loaded, 100)\n    }\n  }\n\n\n  function run_callbacks() {\n    try {\n      root._bokeh_onload_callbacks.forEach(function(callback) { callback() });\n    }\n    finally {\n      delete root._bokeh_onload_callbacks\n    }\n    console.info(\"Bokeh: all callbacks have finished\");\n  }\n\n  function load_libs(js_urls, callback) {\n    root._bokeh_onload_callbacks.push(callback);\n    if (root._bokeh_is_loading > 0) {\n      console.log(\"Bokeh: BokehJS is being loaded, scheduling callback at\", now());\n      return null;\n    }\n    if (js_urls == null || js_urls.length === 0) {\n      run_callbacks();\n      return null;\n    }\n    console.log(\"Bokeh: BokehJS not loaded, scheduling load and callback at\", now());\n    root._bokeh_is_loading = js_urls.length;\n    for (var i = 0; i < js_urls.length; i++) {\n      var url = js_urls[i];\n      var s = document.createElement('script');\n      s.src = url;\n      s.async = false;\n      s.onreadystatechange = s.onload = function() {\n        root._bokeh_is_loading--;\n        if (root._bokeh_is_loading === 0) {\n          console.log(\"Bokeh: all BokehJS libraries loaded\");\n          run_callbacks()\n        }\n      };\n      s.onerror = function() {\n        console.warn(\"failed to load library \" + url);\n      };\n      console.log(\"Bokeh: injecting script tag for BokehJS library: \", url);\n      document.getElementsByTagName(\"head\")[0].appendChild(s);\n    }\n  };var element = document.getElementById(\"fdbfef65-b842-4df3-8a1a-1a2b619d69aa\");\n  if (element == null) {\n    console.log(\"Bokeh: ERROR: autoload.js configured with elementid 'fdbfef65-b842-4df3-8a1a-1a2b619d69aa' but no matching script tag was found. \")\n    return false;\n  }\n\n  var js_urls = [\"https://cdn.pydata.org/bokeh/release/bokeh-0.12.16.min.js\", \"https://cdn.pydata.org/bokeh/release/bokeh-widgets-0.12.16.min.js\", \"https://cdn.pydata.org/bokeh/release/bokeh-tables-0.12.16.min.js\", \"https://cdn.pydata.org/bokeh/release/bokeh-gl-0.12.16.min.js\"];\n\n  var inline_js = [\n    function(Bokeh) {\n      Bokeh.set_log_level(\"info\");\n    },\n    \n    function(Bokeh) {\n      \n    },\n    function(Bokeh) {\n      console.log(\"Bokeh: injecting CSS: https://cdn.pydata.org/bokeh/release/bokeh-0.12.16.min.css\");\n      Bokeh.embed.inject_css(\"https://cdn.pydata.org/bokeh/release/bokeh-0.12.16.min.css\");\n      console.log(\"Bokeh: injecting CSS: https://cdn.pydata.org/bokeh/release/bokeh-widgets-0.12.16.min.css\");\n      Bokeh.embed.inject_css(\"https://cdn.pydata.org/bokeh/release/bokeh-widgets-0.12.16.min.css\");\n      console.log(\"Bokeh: injecting CSS: https://cdn.pydata.org/bokeh/release/bokeh-tables-0.12.16.min.css\");\n      Bokeh.embed.inject_css(\"https://cdn.pydata.org/bokeh/release/bokeh-tables-0.12.16.min.css\");\n    }\n  ];\n\n  function run_inline_js() {\n    \n    if ((root.Bokeh !== undefined) || (force === true)) {\n      for (var i = 0; i < inline_js.length; i++) {\n        inline_js[i].call(root, root.Bokeh);\n      }if (force === true) {\n        display_loaded();\n      }} else if (Date.now() < root._bokeh_timeout) {\n      setTimeout(run_inline_js, 100);\n    } else if (!root._bokeh_failed_load) {\n      console.log(\"Bokeh: BokehJS failed to load within specified timeout.\");\n      root._bokeh_failed_load = true;\n    } else if (force !== true) {\n      var cell = $(document.getElementById(\"fdbfef65-b842-4df3-8a1a-1a2b619d69aa\")).parents('.cell').data().cell;\n      cell.output_area.append_execute_result(NB_LOAD_WARNING)\n    }\n\n  }\n\n  if (root._bokeh_is_loading === 0) {\n    console.log(\"Bokeh: BokehJS loaded, going straight to plotting\");\n    run_inline_js();\n  } else {\n    load_libs(js_urls, function() {\n      console.log(\"Bokeh: BokehJS plotting callback run at\", now());\n      run_inline_js();\n    });\n  }\n}(window));"
     },
     "metadata": {},
     "output_type": "display_data"
    }
   ],
   "source": [
    "# plot setup:\n",
    "p = figure(title=\"Test\", \n",
    "           background_fill_color=\"#E8DDCB\", \n",
    "           width=500, \n",
    "           height=300)\n",
    "\n",
    "# get values and make histogram:\n",
    "arr = df['car_age'].values\n",
    "hist, edges = np.histogram(arr, \n",
    "                           density=True, \n",
    "                           bins=50)\n",
    "\n",
    "# assign histogram to the figure:\n",
    "r = p.quad(top=hist, bottom=0, left=edges[:-1], right=edges[1:],\n",
    "        fill_color=\"#036564\", line_color=\"#033649\")\n",
    "\n",
    "show(p)\n",
    "\n",
    "# update() function to make the plot interactive:\n",
    "def update(feature, num_bins):\n",
    "    # update array and histogram values:\n",
    "    arr = df[feature].values\n",
    "    hist, edges = np.histogram(arr, \n",
    "                           density=True, \n",
    "                           bins=num_bins)\n",
    "    \n",
    "    # update plot parameters:\n",
    "    p.title.text = 'Probability distribution of {}'.format(feature)\n",
    "    p.xaxis.axis_label = '{}'.format(feature)\n",
    "    p.yaxis.axis_label = 'Pr({})'.format(feature)\n",
    "    \n",
    "    # reset the renderer data:\n",
    "    r.data_source.data['top'] = hist\n",
    "    r.data_source.data['left'] = edges[:-1]\n",
    "    r.data_source.data['right'] = edges[1:]\n",
    "    \n",
    "    push_notebook()\n",
    "\n",
    "output_notebook()"
   ]
  },
  {
   "cell_type": "code",
   "execution_count": 182,
   "metadata": {},
   "outputs": [
    {
     "data": {
      "application/vnd.jupyter.widget-view+json": {
       "model_id": "c64bf361dfed45e490f71a23a9ec7e2a",
       "version_major": 2,
       "version_minor": 0
      },
      "text/plain": [
       "interactive(children=(Dropdown(description='feature', options=('shopping_pt', 'record_type', 'day', 'location'…"
      ]
     },
     "metadata": {},
     "output_type": "display_data"
    },
    {
     "data": {
      "text/html": [
       "\n",
       "<div class=\"bk-root\">\n",
       "    <div class=\"bk-plotdiv\" id=\"3e43335c-032f-413d-80ec-5046ac3b585b\"></div>\n",
       "</div>"
      ]
     },
     "metadata": {},
     "output_type": "display_data"
    },
    {
     "data": {
      "application/javascript": [
       "(function(root) {\n",
       "  function embed_document(root) {\n",
       "    \n",
       "  var docs_json = {\"4681a54d-83b6-44f1-b1b3-1e9ad04e2c12\":{\"roots\":{\"references\":[{\"attributes\":{\"axis_label\":\"Pr(shopping_pt)\",\"formatter\":{\"id\":\"4b800a77-6c5b-4f99-80ed-caeefa47aa50\",\"type\":\"BasicTickFormatter\"},\"plot\":{\"id\":\"5da22610-f87a-4994-8e15-7af21a384386\",\"subtype\":\"Figure\",\"type\":\"Plot\"},\"ticker\":{\"id\":\"44201ed6-4a92-4c82-91ac-bf4effe91e62\",\"type\":\"BasicTicker\"}},\"id\":\"ca4dbdf7-056d-4135-bfeb-52320ae58d9c\",\"type\":\"LinearAxis\"},{\"attributes\":{\"callback\":null},\"id\":\"296e3965-3a0c-4433-8e59-829b9f173620\",\"type\":\"DataRange1d\"},{\"attributes\":{},\"id\":\"12cc444c-8b5d-418e-aea3-c70abcd7573b\",\"type\":\"LinearScale\"},{\"attributes\":{\"active_drag\":\"auto\",\"active_inspect\":\"auto\",\"active_scroll\":\"auto\",\"active_tap\":\"auto\",\"tools\":[{\"id\":\"2674ab81-bc1c-4ba9-bc41-f2f56d773fef\",\"type\":\"PanTool\"},{\"id\":\"30deaa4a-f263-466a-b02d-f56eb0f96132\",\"type\":\"WheelZoomTool\"},{\"id\":\"68aa8f35-04e2-4f7e-b07c-0334ca0e01ad\",\"type\":\"BoxZoomTool\"},{\"id\":\"2901f7f8-96f5-4f56-a590-ffc2576bd451\",\"type\":\"SaveTool\"},{\"id\":\"cc277622-3ec1-4e75-9389-09f33cf0c005\",\"type\":\"ResetTool\"},{\"id\":\"9bc39507-7cfb-45c4-93cb-e62d2a639a61\",\"type\":\"HelpTool\"}]},\"id\":\"69ede3d6-06d9-4918-bdda-c6b6d1678fe3\",\"type\":\"Toolbar\"},{\"attributes\":{\"background_fill_color\":{\"value\":\"#E8DDCB\"},\"below\":[{\"id\":\"a0801164-c151-4002-9030-10b7b0ee3e32\",\"type\":\"LinearAxis\"}],\"left\":[{\"id\":\"ca4dbdf7-056d-4135-bfeb-52320ae58d9c\",\"type\":\"LinearAxis\"}],\"plot_height\":300,\"plot_width\":500,\"renderers\":[{\"id\":\"a0801164-c151-4002-9030-10b7b0ee3e32\",\"type\":\"LinearAxis\"},{\"id\":\"11aabb68-ff37-499e-bc97-df91a76cceac\",\"type\":\"Grid\"},{\"id\":\"ca4dbdf7-056d-4135-bfeb-52320ae58d9c\",\"type\":\"LinearAxis\"},{\"id\":\"50935dfb-f5fe-46b0-b46b-275bd86d41f0\",\"type\":\"Grid\"},{\"id\":\"500789d1-9e7d-4202-8ae8-940fa4844552\",\"type\":\"BoxAnnotation\"},{\"id\":\"21b15712-3749-4231-8d5a-f374887f5d73\",\"type\":\"GlyphRenderer\"}],\"title\":{\"id\":\"9be7a79d-8137-4dd4-a4a7-a5a9e29cc39f\",\"type\":\"Title\"},\"toolbar\":{\"id\":\"69ede3d6-06d9-4918-bdda-c6b6d1678fe3\",\"type\":\"Toolbar\"},\"x_range\":{\"id\":\"296e3965-3a0c-4433-8e59-829b9f173620\",\"type\":\"DataRange1d\"},\"x_scale\":{\"id\":\"607973d6-0d04-4062-b2de-8be6b3056f83\",\"type\":\"LinearScale\"},\"y_range\":{\"id\":\"66ee8b26-1b14-485f-9f6b-d19182976092\",\"type\":\"DataRange1d\"},\"y_scale\":{\"id\":\"12cc444c-8b5d-418e-aea3-c70abcd7573b\",\"type\":\"LinearScale\"}},\"id\":\"5da22610-f87a-4994-8e15-7af21a384386\",\"subtype\":\"Figure\",\"type\":\"Plot\"},{\"attributes\":{},\"id\":\"30deaa4a-f263-466a-b02d-f56eb0f96132\",\"type\":\"WheelZoomTool\"},{\"attributes\":{\"callback\":null},\"id\":\"66ee8b26-1b14-485f-9f6b-d19182976092\",\"type\":\"DataRange1d\"},{\"attributes\":{},\"id\":\"811f4382-3fcb-4c83-9ffb-57dd537ae8c1\",\"type\":\"Selection\"},{\"attributes\":{},\"id\":\"2674ab81-bc1c-4ba9-bc41-f2f56d773fef\",\"type\":\"PanTool\"},{\"attributes\":{\"axis_label\":\"shopping_pt\",\"formatter\":{\"id\":\"3937ff1f-03f3-4e9f-bd88-b35200e043f1\",\"type\":\"BasicTickFormatter\"},\"plot\":{\"id\":\"5da22610-f87a-4994-8e15-7af21a384386\",\"subtype\":\"Figure\",\"type\":\"Plot\"},\"ticker\":{\"id\":\"a701af12-cad5-4a9a-8a81-3115ae537889\",\"type\":\"BasicTicker\"}},\"id\":\"a0801164-c151-4002-9030-10b7b0ee3e32\",\"type\":\"LinearAxis\"},{\"attributes\":{\"source\":{\"id\":\"976debed-c075-423b-b34a-fa880fab4976\",\"type\":\"ColumnDataSource\"}},\"id\":\"2474cf39-3cb1-4bd9-a68f-a789905bc0c1\",\"type\":\"CDSView\"},{\"attributes\":{},\"id\":\"3937ff1f-03f3-4e9f-bd88-b35200e043f1\",\"type\":\"BasicTickFormatter\"},{\"attributes\":{\"plot\":{\"id\":\"5da22610-f87a-4994-8e15-7af21a384386\",\"subtype\":\"Figure\",\"type\":\"Plot\"},\"ticker\":{\"id\":\"a701af12-cad5-4a9a-8a81-3115ae537889\",\"type\":\"BasicTicker\"}},\"id\":\"11aabb68-ff37-499e-bc97-df91a76cceac\",\"type\":\"Grid\"},{\"attributes\":{},\"id\":\"a701af12-cad5-4a9a-8a81-3115ae537889\",\"type\":\"BasicTicker\"},{\"attributes\":{},\"id\":\"44201ed6-4a92-4c82-91ac-bf4effe91e62\",\"type\":\"BasicTicker\"},{\"attributes\":{\"data_source\":{\"id\":\"976debed-c075-423b-b34a-fa880fab4976\",\"type\":\"ColumnDataSource\"},\"glyph\":{\"id\":\"993fbbda-1ada-4a70-bc5f-223e6bf40e39\",\"type\":\"Quad\"},\"hover_glyph\":null,\"muted_glyph\":null,\"nonselection_glyph\":{\"id\":\"d1ec7422-fbe3-4c68-9bda-fc04a79ae672\",\"type\":\"Quad\"},\"selection_glyph\":null,\"view\":{\"id\":\"2474cf39-3cb1-4bd9-a68f-a789905bc0c1\",\"type\":\"CDSView\"}},\"id\":\"21b15712-3749-4231-8d5a-f374887f5d73\",\"type\":\"GlyphRenderer\"},{\"attributes\":{},\"id\":\"ac673d5b-6d3a-48fe-b238-cbe16c9dc7a1\",\"type\":\"UnionRenderers\"},{\"attributes\":{},\"id\":\"9bc39507-7cfb-45c4-93cb-e62d2a639a61\",\"type\":\"HelpTool\"},{\"attributes\":{},\"id\":\"4b800a77-6c5b-4f99-80ed-caeefa47aa50\",\"type\":\"BasicTickFormatter\"},{\"attributes\":{\"overlay\":{\"id\":\"500789d1-9e7d-4202-8ae8-940fa4844552\",\"type\":\"BoxAnnotation\"}},\"id\":\"68aa8f35-04e2-4f7e-b07c-0334ca0e01ad\",\"type\":\"BoxZoomTool\"},{\"attributes\":{},\"id\":\"cc277622-3ec1-4e75-9389-09f33cf0c005\",\"type\":\"ResetTool\"},{\"attributes\":{\"dimension\":1,\"plot\":{\"id\":\"5da22610-f87a-4994-8e15-7af21a384386\",\"subtype\":\"Figure\",\"type\":\"Plot\"},\"ticker\":{\"id\":\"44201ed6-4a92-4c82-91ac-bf4effe91e62\",\"type\":\"BasicTicker\"}},\"id\":\"50935dfb-f5fe-46b0-b46b-275bd86d41f0\",\"type\":\"Grid\"},{\"attributes\":{\"bottom\":{\"value\":0},\"fill_alpha\":{\"value\":0.1},\"fill_color\":{\"value\":\"#1f77b4\"},\"left\":{\"field\":\"left\"},\"line_alpha\":{\"value\":0.1},\"line_color\":{\"value\":\"#1f77b4\"},\"right\":{\"field\":\"right\"},\"top\":{\"field\":\"top\"}},\"id\":\"d1ec7422-fbe3-4c68-9bda-fc04a79ae672\",\"type\":\"Quad\"},{\"attributes\":{\"bottom_units\":\"screen\",\"fill_alpha\":{\"value\":0.5},\"fill_color\":{\"value\":\"lightgrey\"},\"left_units\":\"screen\",\"level\":\"overlay\",\"line_alpha\":{\"value\":1.0},\"line_color\":{\"value\":\"black\"},\"line_dash\":[4,4],\"line_width\":{\"value\":2},\"plot\":null,\"render_mode\":\"css\",\"right_units\":\"screen\",\"top_units\":\"screen\"},\"id\":\"500789d1-9e7d-4202-8ae8-940fa4844552\",\"type\":\"BoxAnnotation\"},{\"attributes\":{\"callback\":null,\"data\":{\"left\":{\"__ndarray__\":\"AAAAAAAA8D/HcRzHcRz3P47jOI7jOP4/qqqqqqqqAkCO4ziO4zgGQHIcx3EcxwlAVVVVVVVVDUAcx3Ecx3EQQI7jOI7jOBJAAAAAAAAAFEByHMdxHMcVQOM4juM4jhdAVVVVVVVVGUDHcRzHcRwbQDiO4ziO4xxAqqqqqqqqHkCO4ziO4zggQMdxHMdxHCFAAAAAAAAAIkA5juM4juMiQHIcx3EcxyNAqqqqqqqqJEDjOI7jOI4lQBzHcRzHcSZAVVVVVVVVJ0CO4ziO4zgoQMdxHMdxHClA\",\"dtype\":\"float64\",\"shape\":[27]},\"right\":{\"__ndarray__\":\"x3Ecx3Ec9z+O4ziO4zj+P6qqqqqqqgJAjuM4juM4BkByHMdxHMcJQFVVVVVVVQ1AHMdxHMdxEECO4ziO4zgSQAAAAAAAABRAchzHcRzHFUDjOI7jOI4XQFVVVVVVVRlAx3Ecx3EcG0A4juM4juMcQKqqqqqqqh5AjuM4juM4IEDHcRzHcRwhQAAAAAAAACJAOY7jOI7jIkByHMdxHMcjQKqqqqqqqiRA4ziO4ziOJUAcx3Ecx3EmQFVVVVVVVSdAjuM4juM4KEDHcRzHcRwpQAAAAAAAACpA\",\"dtype\":\"float64\",\"shape\":[27]},\"top\":{\"__ndarray__\":\"cZrur0QN1D8AAAAAAAAAAJiOmU7Rs9Q/AAAAAAAAAAA2ugxiVQ7VPwAAAAAAAAAAPrLkHAP00z8AAAAAAAAAAAAAAAAAAAAAyNnkeJBA0j8AAAAAAAAAAFYImR/Nnc8/AAAAAAAAAAC3hAYNuNPIPwAAAAAAAAAA09iWU9nQwD8AAAAAAAAAAAAAAAAAAAAApd6Fj1SJsj8AAAAAAAAAAPdOPSTGfJ8/AAAAAAAAAAArBOU2utuDPwAAAAAAAAAAuggwzzO7Xj8AAAAAAAAAALp8yNXuuSg/\",\"dtype\":\"float64\",\"shape\":[27]}},\"selected\":{\"id\":\"811f4382-3fcb-4c83-9ffb-57dd537ae8c1\",\"type\":\"Selection\"},\"selection_policy\":{\"id\":\"ac673d5b-6d3a-48fe-b238-cbe16c9dc7a1\",\"type\":\"UnionRenderers\"}},\"id\":\"976debed-c075-423b-b34a-fa880fab4976\",\"type\":\"ColumnDataSource\"},{\"attributes\":{\"plot\":null,\"text\":\"Probability distribution of shopping_pt\"},\"id\":\"9be7a79d-8137-4dd4-a4a7-a5a9e29cc39f\",\"type\":\"Title\"},{\"attributes\":{},\"id\":\"607973d6-0d04-4062-b2de-8be6b3056f83\",\"type\":\"LinearScale\"},{\"attributes\":{\"bottom\":{\"value\":0},\"fill_color\":{\"value\":\"#036564\"},\"left\":{\"field\":\"left\"},\"line_color\":{\"value\":\"#033649\"},\"right\":{\"field\":\"right\"},\"top\":{\"field\":\"top\"}},\"id\":\"993fbbda-1ada-4a70-bc5f-223e6bf40e39\",\"type\":\"Quad\"},{\"attributes\":{},\"id\":\"2901f7f8-96f5-4f56-a590-ffc2576bd451\",\"type\":\"SaveTool\"}],\"root_ids\":[\"5da22610-f87a-4994-8e15-7af21a384386\"]},\"title\":\"Bokeh Application\",\"version\":\"0.12.16\"}};\n",
       "  var render_items = [{\"docid\":\"4681a54d-83b6-44f1-b1b3-1e9ad04e2c12\",\"elementid\":\"3e43335c-032f-413d-80ec-5046ac3b585b\",\"modelid\":\"5da22610-f87a-4994-8e15-7af21a384386\",\"notebook_comms_target\":\"45dd120c-a675-4dbb-9c50-2cc8a2ebd8a3\"}];\n",
       "  root.Bokeh.embed.embed_items_notebook(docs_json, render_items);\n",
       "\n",
       "  }\n",
       "  if (root.Bokeh !== undefined) {\n",
       "    embed_document(root);\n",
       "  } else {\n",
       "    var attempts = 0;\n",
       "    var timer = setInterval(function(root) {\n",
       "      if (root.Bokeh !== undefined) {\n",
       "        embed_document(root);\n",
       "        clearInterval(timer);\n",
       "      }\n",
       "      attempts++;\n",
       "      if (attempts > 100) {\n",
       "        console.log(\"Bokeh: ERROR: Unable to run BokehJS code because BokehJS library is missing\")\n",
       "        clearInterval(timer);\n",
       "      }\n",
       "    }, 10, root)\n",
       "  }\n",
       "})(window);"
      ],
      "application/vnd.bokehjs_exec.v0+json": ""
     },
     "metadata": {
      "application/vnd.bokehjs_exec.v0+json": {
       "id": "5da22610-f87a-4994-8e15-7af21a384386"
      }
     },
     "output_type": "display_data"
    },
    {
     "data": {
      "text/html": [
       "<p><code>&lt;Bokeh Notebook handle for <strong>In[182]</strong>&gt;</code></p>"
      ],
      "text/plain": [
       "<bokeh.io.notebook.CommsHandle at 0x7f13541fae48>"
      ]
     },
     "execution_count": 182,
     "metadata": {},
     "output_type": "execute_result"
    }
   ],
   "source": [
    "features = [f for f in df.columns.values if f not in ['car_value', 'state']]\n",
    "nbins = (5, 50)\n",
    "interact(update, feature = features, num_bins = nbins)\n",
    "show(p, notebook_handle = True)"
   ]
  },
  {
   "cell_type": "markdown",
   "metadata": {},
   "source": [
    "Now let's look at the boxplots for each feature in the data to check them all for outliers"
   ]
  },
  {
   "cell_type": "code",
   "execution_count": 183,
   "metadata": {},
   "outputs": [],
   "source": [
    "def min_max(col):\n",
    "    \"\"\"Min-max scales input to 0-1 range.\"\"\"\n",
    "    mn = min(col)\n",
    "    mx = max(col)\n",
    "    scaled = ((col - mn) / (mx - mn))\n",
    "    return scaled"
   ]
  },
  {
   "cell_type": "code",
   "execution_count": 184,
   "metadata": {},
   "outputs": [
    {
     "data": {
      "image/png": "[encoded data removed]",
      "text/plain": [
       "<Figure size 432x288 with 1 Axes>"
      ]
     },
     "metadata": {},
     "output_type": "display_data"
    }
   ],
   "source": [
    "scaled = df[features].apply(min_max)\n",
    "my_plt = scaled.boxplot(rot=90)"
   ]
  },
  {
   "cell_type": "markdown",
   "metadata": {},
   "source": [
    "Based on the above, car_age could be capped based on its high skew. Check first whether there is a clear relationship between the two."
   ]
  },
  {
   "cell_type": "code",
   "execution_count": 185,
   "metadata": {
    "scrolled": true
   },
   "outputs": [
    {
     "data": {
      "image/png": "[encoded data removed]",
      "text/plain": [
       "<Figure size 432x288 with 1 Axes>"
      ]
     },
     "metadata": {},
     "output_type": "display_data"
    }
   ],
   "source": [
    "_ = df.plot.scatter('cost', 'car_age')"
   ]
  },
  {
   "cell_type": "code",
   "execution_count": 186,
   "metadata": {},
   "outputs": [],
   "source": [
    "# define outlier adjustment function:\n",
    "def adjust_outliers(array_in):\n",
    "    \"\"\" Finds and replaces outliers in input array with 1.5 * IQR\"\"\"\n",
    "    array_out = np.array(array_in)\n",
    "    \n",
    "    q1 = array_in.quantile(q=0.25)\n",
    "    q3 = array_in.quantile(q=0.75)\n",
    "    iqr = q3 - q1\n",
    "    upper = q3 + 1.5*iqr\n",
    "    lower = q1 - 1.5*iqr\n",
    "    \n",
    "    below_ind = array_out < lower\n",
    "    above_ind = array_out > upper\n",
    "    \n",
    "    array_out[below_ind] = lower\n",
    "    array_out[above_ind] = upper\n",
    "    \n",
    "    changed = np.sum(array_in != array_out)\n",
    "    print('Found and adjusted {} values in {} column'.format(str(changed), array_in.name))\n",
    "    return array_out"
   ]
  },
  {
   "cell_type": "code",
   "execution_count": 187,
   "metadata": {},
   "outputs": [
    {
     "name": "stdout",
     "output_type": "stream",
     "text": [
      "Found and adjusted 4896 values in car_age column\n"
     ]
    }
   ],
   "source": [
    "# adjust outliers in the car_age_feature:\n",
    "df['car_age'] = adjust_outliers(df['car_age'])"
   ]
  },
  {
   "cell_type": "code",
   "execution_count": 188,
   "metadata": {},
   "outputs": [
    {
     "data": {
      "image/png": "[encoded data removed]",
      "text/plain": [
       "<Figure size 792x648 with 2 Axes>"
      ]
     },
     "metadata": {},
     "output_type": "display_data"
    }
   ],
   "source": [
    "corr = df.corr()\n",
    "\n",
    "# Generate a mask for the upper triangle\n",
    "mask = np.zeros_like(corr, dtype=np.bool)\n",
    "mask[np.triu_indices_from(mask)] = True\n",
    "\n",
    "# Set up the matplotlib figure\n",
    "f, ax = plt.subplots(figsize=(11, 9))\n",
    "\n",
    "# Generate a custom diverging colormap\n",
    "cmap = sns.diverging_palette(220, 10, as_cmap=True)\n",
    "\n",
    "# Draw the heatmap with the mask and correct aspect ratio\n",
    "_ = sns.heatmap(corr, mask=mask, cmap=cmap, vmax=.3, center=0,\n",
    "            square=True, linewidths=.5, cbar_kws={\"shrink\": .5})"
   ]
  },
  {
   "cell_type": "markdown",
   "metadata": {},
   "source": [
    "Overall there don't appear to be strong correlations in the dataset across the intput variables or with the target. age_oldest and age_youngest are an exception, with a correlation of over .9. We should encode some of the features as binary variables since their values don't necessarily represent incremental increases"
   ]
  },
  {
   "cell_type": "code",
   "execution_count": 189,
   "metadata": {},
   "outputs": [
    {
     "data": {
      "text/plain": [
       "shopping_pt            13\n",
       "record_type             2\n",
       "day                     7\n",
       "state                  36\n",
       "location             5888\n",
       "group_size              4\n",
       "homeowner               2\n",
       "car_age                24\n",
       "car_value               5\n",
       "risk_factor             4\n",
       "age_oldest             58\n",
       "age_youngest           60\n",
       "married_couple          2\n",
       "C_previous              4\n",
       "duration_previous      16\n",
       "cost                  472\n",
       "dtype: int64"
      ]
     },
     "execution_count": 189,
     "metadata": {},
     "output_type": "execute_result"
    }
   ],
   "source": [
    "df.nunique()"
   ]
  },
  {
   "cell_type": "code",
   "execution_count": 190,
   "metadata": {},
   "outputs": [],
   "source": [
    "# one-hot encoding of categorical columns:\n",
    "df = pd.get_dummies(df,\n",
    "                    drop_first=True,\n",
    "                    columns = ['state', 'group_size', \n",
    "                               'risk_factor', 'car_value'])"
   ]
  },
  {
   "cell_type": "code",
   "execution_count": 191,
   "metadata": {},
   "outputs": [],
   "source": [
    "# Days 5 and 6 are weekend days, add a flag for them vs. the others\n",
    "df['weekend'] = df['day'].isin([5, 6]).astype(int)"
   ]
  },
  {
   "cell_type": "code",
   "execution_count": 192,
   "metadata": {},
   "outputs": [],
   "source": [
    "# Idea was to indicate when multiple people are on the insurance policy. Potentially redundant with the group_size variable.\n",
    "#df['age_diff'] = df['age_oldest'] - df['age_youngest']\n",
    "#df['age_diff'] = (df['age_diff'] > 0).astype(int) "
   ]
  },
  {
   "cell_type": "code",
   "execution_count": 193,
   "metadata": {},
   "outputs": [],
   "source": [
    "y = df['cost']\n",
    "X = df.drop(columns=['cost', 'location', 'shopping_pt', 'age_youngest', 'day'])"
   ]
  },
  {
   "cell_type": "code",
   "execution_count": 194,
   "metadata": {},
   "outputs": [],
   "source": [
    "lm = linear_model.LinearRegression()\n",
    "\n",
    "#Split data set into train and test sets\n",
    "X_train, X_test, y_train, y_test = train_test_split(X, y, test_size=0.20, random_state=101)\n",
    "\n",
    "#Fit the model :\n",
    "lm.fit(X_train, y_train)\n",
    "\n",
    "#Set predictions\n",
    "lm_train_pred = lm.predict(X_train)\n",
    "lm_test_pred = lm.predict(X_test)"
   ]
  },
  {
   "cell_type": "code",
   "execution_count": 195,
   "metadata": {},
   "outputs": [
    {
     "name": "stdout",
     "output_type": "stream",
     "text": [
      "R^2 of the model on training data was: 0.39686026398880636\n",
      "R^2 of the model on testing data was: 0.39764651493191794\n"
     ]
    }
   ],
   "source": [
    "y_mn_train = np.mean(y_train)\n",
    "sst_train = sum((y_train - y_mn_train)**2)\n",
    "ssr_train = sum((lm_train_pred - y_train)**2)\n",
    "r2_train = 1 - (ssr_train / sst_train)\n",
    "\n",
    "y_mn_test = np.mean(y_test)\n",
    "sst_test = sum((y_test - y_mn_test)**2)\n",
    "ssr_test = sum((lm_test_pred - y_test)**2)\n",
    "r2_test = 1 - (ssr_test / sst_test)\n",
    "\n",
    "print('R^2 of the model on training data was: {}'.format(str(r2_train)))\n",
    "print('R^2 of the model on testing data was: {}'.format(str(r2_test)))"
   ]
  },
  {
   "cell_type": "code",
   "execution_count": 196,
   "metadata": {},
   "outputs": [
    {
     "name": "stdout",
     "output_type": "stream",
     "text": [
      "                            OLS Regression Results                            \n",
      "==============================================================================\n",
      "Dep. Variable:                   cost   R-squared:                       0.397\n",
      "Model:                            OLS   Adj. R-squared:                  0.397\n",
      "Method:                 Least Squares   F-statistic:                     5186.\n",
      "Date:                Wed, 18 Jul 2018   Prob (F-statistic):               0.00\n",
      "Time:                        14:36:13   Log-Likelihood:            -2.0870e+06\n",
      "No. Observations:              417447   AIC:                         4.174e+06\n",
      "Df Residuals:                  417393   BIC:                         4.175e+06\n",
      "Df Model:                          53                                         \n",
      "Covariance Type:            nonrobust                                         \n",
      "=====================================================================================\n",
      "                        coef    std err          t      P>|t|      [0.025      0.975]\n",
      "-------------------------------------------------------------------------------------\n",
      "const               623.0782      0.582   1071.185      0.000     621.938     624.218\n",
      "record_type          -0.2939      0.156     -1.884      0.060      -0.600       0.012\n",
      "homeowner           -14.6242      0.129   -113.169      0.000     -14.877     -14.371\n",
      "car_age              -2.0741      0.011   -185.875      0.000      -2.096      -2.052\n",
      "age_oldest           -0.1311      0.004    -34.854      0.000      -0.138      -0.124\n",
      "married_couple      -11.9765      0.226    -52.936      0.000     -12.420     -11.533\n",
      "C_previous           -2.5276      0.058    -43.482      0.000      -2.641      -2.414\n",
      "duration_previous    -0.8908      0.012    -73.120      0.000      -0.915      -0.867\n",
      "state_AR             12.1594      0.735     16.551      0.000      10.719      13.599\n",
      "state_CO             10.5108      0.499     21.056      0.000       9.532      11.489\n",
      "state_CT             25.4742      0.559     45.559      0.000      24.378      26.570\n",
      "state_DC             35.5533      1.153     30.848      0.000      33.294      37.812\n",
      "state_DE             54.6216      0.677     80.735      0.000      53.296      55.948\n",
      "state_FL             43.0413      0.384    112.026      0.000      42.288      43.794\n",
      "state_GA             22.4810      0.672     33.472      0.000      21.165      23.797\n",
      "state_IA            -27.9709      0.944    -29.622      0.000     -29.822     -26.120\n",
      "state_ID             -4.2311      0.600     -7.056      0.000      -5.406      -3.056\n",
      "state_IN              8.9287      0.433     20.609      0.000       8.080       9.778\n",
      "state_KS             -0.5849      0.812     -0.720      0.471      -2.176       1.007\n",
      "state_KY             12.0634      0.615     19.615      0.000      10.858      13.269\n",
      "state_MD             50.6063      0.425    119.065      0.000      49.773      51.439\n",
      "state_ME            -17.3638      0.835    -20.784      0.000     -19.001     -15.726\n",
      "state_MO            -11.5972      0.604    -19.192      0.000     -12.782     -10.413\n",
      "state_MS             13.9351      0.714     19.530      0.000      12.537      15.334\n",
      "state_MT              3.4037      0.992      3.431      0.001       1.459       5.348\n",
      "state_ND             -6.9417      1.720     -4.036      0.000     -10.313      -3.570\n",
      "state_NE            -10.4413      0.967    -10.797      0.000     -12.337      -8.546\n",
      "state_NH             -6.4953      0.725     -8.962      0.000      -7.916      -5.075\n",
      "state_NM             15.3705      0.749     20.531      0.000      13.903      16.838\n",
      "state_NV             30.1116      0.581     51.836      0.000      28.973      31.250\n",
      "state_NY             56.1424      0.387    145.038      0.000      55.384      56.901\n",
      "state_OH             -0.3177      0.463     -0.687      0.492      -1.224       0.589\n",
      "state_OK              2.7978      0.635      4.403      0.000       1.552       4.043\n",
      "state_OR              3.0448      0.545      5.582      0.000       1.976       4.114\n",
      "state_PA             16.4031      0.425     38.596      0.000      15.570      17.236\n",
      "state_RI             29.9859      0.741     40.472      0.000      28.534      31.438\n",
      "state_SD              6.5449      2.527      2.590      0.010       1.592      11.498\n",
      "state_TN              2.2209      0.557      3.986      0.000       1.129       3.313\n",
      "state_UT             -4.1775      0.601     -6.947      0.000      -5.356      -2.999\n",
      "state_WA             15.2298      0.480     31.760      0.000      14.290      16.170\n",
      "state_WI            -16.9850      0.659    -25.757      0.000     -18.278     -15.693\n",
      "state_WV             21.2955      0.866     24.579      0.000      19.597      22.994\n",
      "state_WY             -9.7350      1.556     -6.257      0.000     -12.784      -6.686\n",
      "group_size_2          7.8022      0.224     34.827      0.000       7.363       8.241\n",
      "group_size_3         41.4576      0.515     80.554      0.000      40.449      42.466\n",
      "group_size_4         49.5402      1.728     28.676      0.000      46.154      52.926\n",
      "risk_factor_2        11.5355      0.167     69.278      0.000      11.209      11.862\n",
      "risk_factor_3        27.2917      0.171    159.568      0.000      26.956      27.627\n",
      "risk_factor_4        29.5406      0.182    162.085      0.000      29.183      29.898\n",
      "car_value_d           2.5058      0.347      7.224      0.000       1.826       3.186\n",
      "car_value_e           3.8074      0.336     11.337      0.000       3.149       4.466\n",
      "car_value_f           3.2807      0.341      9.614      0.000       2.612       3.949\n",
      "car_value_g-i        13.2004      0.348     37.932      0.000      12.518      13.883\n",
      "weekend               4.6851      0.462     10.134      0.000       3.779       5.591\n",
      "==============================================================================\n",
      "Omnibus:                    18990.246   Durbin-Watson:                   0.512\n",
      "Prob(Omnibus):                  0.000   Jarque-Bera (JB):            62497.855\n",
      "Skew:                           0.121   Prob(JB):                         0.00\n",
      "Kurtosis:                       4.880   Cond. No.                     2.45e+03\n",
      "==============================================================================\n",
      "\n",
      "Warnings:\n",
      "[1] Standard Errors assume that the covariance matrix of the errors is correctly specified.\n",
      "[2] The condition number is large, 2.45e+03. This might indicate that there are\n",
      "strong multicollinearity or other numerical problems.\n"
     ]
    }
   ],
   "source": [
    "#Return the summary of the model\n",
    "X2 = sm.add_constant(X)\n",
    "est = sm.OLS(y, X2)\n",
    "est2 = est.fit()\n",
    "print(est2.summary())"
   ]
  },
  {
   "cell_type": "code",
   "execution_count": 197,
   "metadata": {},
   "outputs": [
    {
     "data": {
      "image/png": "[encoded data removed]",
      "text/plain": [
       "<Figure size 432x288 with 1 Axes>"
      ]
     },
     "metadata": {},
     "output_type": "display_data"
    }
   ],
   "source": [
    "# Check residual distribution:\n",
    "import pylab \n",
    "import scipy.stats as stats\n",
    "\n",
    "idx = np.random.choice(X_train.index, 1000, replace=False)\n",
    "\n",
    "x_train_sample = X_train.ix[idx]\n",
    "y_train_sample = y_train.ix[idx]\n",
    "\n",
    "#Set predictions\n",
    "lm.fit(x_train_sample, y_train_sample)\n",
    "lm_train_pred_sample = lm.predict(x_train_sample)\n",
    "\n",
    "residuals = y_train_sample - lm_train_pred_sample\n",
    "stats.probplot(residuals, dist=\"norm\", plot=pylab)\n",
    "pylab.ylim([-15,30])\n",
    "pylab.title(\"QQ Plot\")\n",
    "pylab.show()"
   ]
  },
  {
   "cell_type": "markdown",
   "metadata": {},
   "source": [
    "The regression residuals don't deviate from a normal distribution, which means there is not systemic bias in the model's predictions.  Now check for interaction terms to see if including them improves the fit."
   ]
  },
  {
   "cell_type": "code",
   "execution_count": 199,
   "metadata": {},
   "outputs": [
    {
     "name": "stdout",
     "output_type": "stream",
     "text": [
      "Baseline R2: 0.397\n",
      "Top 10 interactions: [('married_couple', 'group_size_2', 0.01), ('duration_previous', 'age_oldest', 0.006), ('risk_factor_3', 'age_oldest', 0.004), ('homeowner', 'age_oldest', 0.003), ('risk_factor_3', 'duration_previous', 0.002), ('risk_factor_4', 'car_age', 0.002), ('homeowner', 'duration_previous', 0.001), ('married_couple', 'age_oldest', 0.001), ('duration_previous', 'C_previous', 0.001), ('age_oldest', 'C_previous', 0.001)]\n"
     ]
    }
   ],
   "source": [
    "interactions = list()\n",
    "baseline = r2_train\n",
    "\n",
    "checks = ['homeowner', 'married_couple', 'C_previous', 'duration_previous',\n",
    "         'age_oldest', 'car_age', 'risk_factor_2', 'risk_factor_3', 'risk_factor_4', \n",
    "         'car_value_d', 'car_value_e', 'car_value_f', 'car_value_g-i', \n",
    "         'group_size_2', 'group_size_3', 'group_size_4']\n",
    "\n",
    "for feature_A in checks:\n",
    "    for feature_B in checks:\n",
    "        \n",
    "        if feature_A > feature_B:\n",
    "            X_train['interaction'] = X_train[feature_A] * X_train[feature_B]\n",
    "            \n",
    "            lm.fit(X_train, y_train)\n",
    "            lm_train_pred = lm.predict(X_train)\n",
    "                \n",
    "            y_mn_train = np.mean(y_train)\n",
    "            sst_train = sum((y_train - y_mn_train)**2)\n",
    "            ssr_train = sum((lm_train_pred - y_train)**2)\n",
    "            r2_train = 1 - (ssr_train / sst_train)\n",
    "            \n",
    "            improvement = r2_train - baseline\n",
    "            \n",
    "            if r2_train > baseline:\n",
    "                interactions.append((feature_A, feature_B, round(improvement,3)))\n",
    "\n",
    "print('Baseline R2: %.3f' % r2_train)\n",
    "print('Top 10 interactions: %s' % sorted(interactions, key=lambda x: x[2],\n",
    " reverse=True)[:10])"
   ]
  },
  {
   "cell_type": "markdown",
   "metadata": {},
   "source": [
    "Some of the interactions tested above are interesting.  For example, married_couple * group_size_2 appears to improve the fit, suggesting that married couples _without_ kids are priced differently from the rest of the sample."
   ]
  },
  {
   "cell_type": "code",
   "execution_count": 200,
   "metadata": {},
   "outputs": [],
   "source": [
    "# add top interaction terms from the previous step:\n",
    "X['married_g2'] = X['married_couple'] * X['group_size_2']\n",
    "X['duration_age_oldest'] = X['duration_previous'] * X['age_oldest']\n",
    "X['homeowner_age_oldest'] = X['homeowner'] * X['age_oldest']\n",
    "X['risk_factor_3_age_oldest'] = X['risk_factor_3'] * X['age_oldest']"
   ]
  },
  {
   "cell_type": "code",
   "execution_count": 205,
   "metadata": {},
   "outputs": [],
   "source": [
    "# refit model with additional terms:\n",
    "X_train, X_test, y_train, y_test = train_test_split(X, y, test_size=0.2, random_state=101)\n",
    "\n",
    "#Fit the model :\n",
    "lm.fit(X_train, y_train)\n",
    "\n",
    "#Set predictions\n",
    "lm_train_pred = lm.predict(X_train)\n",
    "lm_test_pred = lm.predict(X_test)"
   ]
  },
  {
   "cell_type": "code",
   "execution_count": 206,
   "metadata": {},
   "outputs": [
    {
     "name": "stdout",
     "output_type": "stream",
     "text": [
      "R^2 of the model on training data was: 0.41770100317278835\n",
      "R^2 of the model on testing data was: 0.41880687938054395\n"
     ]
    }
   ],
   "source": [
    "# Check the fit:\n",
    "y_mn_train = np.mean(y_train)\n",
    "sst_train = sum((y_train - y_mn_train)**2)\n",
    "ssr_train = sum((lm_train_pred - y_train)**2)\n",
    "r2_train = 1 - (ssr_train / sst_train)\n",
    "\n",
    "y_mn_test = np.mean(y_test)\n",
    "sst_test = sum((y_test - y_mn_test)**2)\n",
    "ssr_test = sum((lm_test_pred - y_test)**2)\n",
    "r2_test = 1 - (ssr_test / sst_test)\n",
    "\n",
    "print('R^2 of the model on training data was: {}'.format(str(r2_train)))\n",
    "print('R^2 of the model on testing data was: {}'.format(str(r2_test)))"
   ]
  },
  {
   "cell_type": "markdown",
   "metadata": {},
   "source": [
    "Including interactions improved the model's fit by about 5%, which is nice! We're still a ways from being able to predict cost with a high degree of accuracy."
   ]
  },
  {
   "cell_type": "code",
   "execution_count": 209,
   "metadata": {},
   "outputs": [
    {
     "data": {
      "image/png": "[encoded data removed]",
      "text/plain": [
       "<Figure size 432x288 with 1 Axes>"
      ]
     },
     "metadata": {},
     "output_type": "display_data"
    }
   ],
   "source": [
    "# PCA for plotting and compare predictions to dummy regressor:\n",
    "from sklearn.preprocessing import StandardScaler\n",
    "from sklearn.decomposition import PCA\n",
    "from sklearn.dummy import DummyRegressor\n",
    "\n",
    "idx = np.random.choice(X_train.index, 10000, replace=False)\n",
    "\n",
    "x_train_sample = X_train.ix[idx]\n",
    "y_train_sample = y_train.ix[idx]\n",
    "\n",
    "#Set predictions\n",
    "lm.fit(x_train_sample, y_train_sample)\n",
    "lm_train_pred_sample = lm.predict(x_train_sample)\n",
    "\n",
    "regdummy = DummyRegressor(strategy=\"mean\")\n",
    "regdummy.fit(x_train_sample, y_train_sample)\n",
    "dummy_y = regdummy.predict(x_train_sample)\n",
    "\n",
    "scaler = StandardScaler()\n",
    "X_s = scaler.fit_transform(x_train_sample)\n",
    "\n",
    "pca = PCA(n_components=1)\n",
    "pca.fit(X_s)\n",
    "X_pca = pca.fit_transform(X_s)\n",
    "\n",
    "m, b = np.polyfit(X_pca[:,0], lm_train_pred_sample, 1)\n",
    "plt.plot(X_pca, m*X_pca + b, \"-\", color=\"palevioletred\")\n",
    "plt.axhline(y=regdummy.constant_, linestyle=\"-\", color=\"limegreen\")\n",
    "plt.scatter(X_pca[:,0], lm_train_pred_sample)\n",
    "plt.ylabel(\"Predicted Value\")\n",
    "plt.xlabel(\"Observed X variable index\")\n",
    "_ = plt.title(\"Comparison of Regression with Mean model\")"
   ]
  },
  {
   "cell_type": "markdown",
   "metadata": {},
   "source": [
    "We see a slight trend in cost associated with the first pricipal component of the predictor variables. This makes sense, since the R^2 of our model is only ~0.4. However, the regression output does provide some useful information, such as:\n",
    "\n",
    "* homewowners and married couples tend to pay less for insurance\n",
    "* Each additional year of car ownership reduces the cost of insurance by 2.07\n",
    "* Cost of insurance varies widely by state.  New York, Maryland, and Delaware show the largest increases, while Midwestern states Iowa, Missouri, and Wisconsin have the largest decreases\n",
    "* Group_size and risk_factor increase the cost of insurance when present, especially at higher levels\n",
    "* Cars that are rated with higher values are more expensive to insure"
   ]
  },
  {
   "cell_type": "markdown",
   "metadata": {},
   "source": [
    "### Visualize Regression characteristics with Bokeh:\n",
    "\n",
    "The Bokeh library is useful for creating interactive visualization plots.  We use it here to illustrate the effect of each predictor on cost."
   ]
  },
  {
   "cell_type": "code",
   "execution_count": 237,
   "metadata": {},
   "outputs": [],
   "source": [
    "X_names = [nm for nm in X.columns.values]\n",
    "\n",
    "idx = np.random.choice(X_train.index, 1000, replace=False)\n",
    "x_train_sample = X_train.ix[idx]\n",
    "y_train_sample = y_train.ix[idx]\n",
    "\n",
    "def make_predictions(X, y, X_names):\n",
    "    \"\"\"Subset X to selected features, then use to predict y\"\"\"\n",
    "    X = X[X_names]    \n",
    "    #Fit the model:\n",
    "    lm.fit(X, y)\n",
    "    \n",
    "    return X, y, lm.predict(X)\n",
    "    \n",
    "X_train, y_train, lm_train_pred = make_predictions(x_train_sample, y_train_sample, X_names)\n",
    "\n",
    "regdummy.fit(X_train, y_train)\n",
    "dummy_y = regdummy.predict(X_train)\n",
    "\n",
    "def make_plot_arrays(X, predictions):\n",
    "    \"\"\"Get first PCA component from X_train for plotting only\"\"\"\n",
    "    # fitting PCA:\n",
    "    X_s = scaler.fit_transform(X)\n",
    "    pca = PCA(n_components=1)\n",
    "    pca.fit(X_s)\n",
    "    X_pca = pca.fit_transform(X_s)\n",
    "    # make plot lines:\n",
    "    m, b = np.polyfit(X_pca[:,0], predictions, 1)\n",
    "    x_arr = X_pca[:, 0]\n",
    "    \n",
    "    # normalize so the scale doesn't change with different sets of features\n",
    "    x_arr_norm = ( (x_arr - x_arr.min()) / (x_arr.max() - x_arr.min()) )\n",
    "    \n",
    "    y_arr = m*X_pca[:, 0] + b\n",
    "    \n",
    "    return x_arr_norm, y_arr\n",
    "\n",
    "x_arr, y_arr = make_plot_arrays(X_train, lm_train_pred)\n",
    "\n",
    "def calc_r2(y_train, preds):\n",
    "    \"\"\" Calculates R^2 based on input data \"\"\"\n",
    "    y_mn = np.mean(y_train)\n",
    "    sst = sum((y_train - y_mn)**2)\n",
    "    ssr = sum((y_train - preds)**2)\n",
    "    \n",
    "    r2 = 1 - (ssr / sst)\n",
    "    return np.round(r2, 4)\n",
    "\n",
    "baseline_r2 = calc_r2(y_train, dummy_y)\n",
    "pred_r2 = calc_r2(y_train, lm_train_pred)\n",
    "\n",
    "p = figure(title=\"Regression model vs. baseline\", \n",
    "           plot_height=300, \n",
    "           plot_width=600)\n",
    "\n",
    "# scatterplot of actual data:\n",
    "r1 = p.circle(x_arr, y_train, size=10, color=\"green\", alpha=0.5)\n",
    "# scatterplot of prediction data:\n",
    "r2 = p.circle(x_arr, lm_train_pred, size=10, color=\"pink\", alpha=0.5)\n",
    "# regression model:\n",
    "r3 = p.line(x_arr, y_arr, color=\"#2222aa\", line_width=3)\n",
    "# baseline dummy model:\n",
    "p.line(x_arr, dummy_y, color=\"purple\", line_width=2)\n",
    "\n",
    "p.xaxis.axis_label = 'Selected Predictors'\n",
    "p.yaxis.axis_label = 'Predicted Cost'\n",
    "\n",
    "#show(p)\n"
   ]
  },
  {
   "cell_type": "code",
   "execution_count": 252,
   "metadata": {},
   "outputs": [
    {
     "data": {
      "application/vnd.jupyter.widget-view+json": {
       "model_id": "2532d396298940b09c84c42e7b6d8745",
       "version_major": 2,
       "version_minor": 0
      },
      "text/plain": [
       "interactive(children=(SelectMultiple(description='Selected Features:', index=(0, 1, 2, 3, 4, 5, 6, 7, 8, 9, 10…"
      ]
     },
     "metadata": {},
     "output_type": "display_data"
    },
    {
     "data": {
      "text/html": [
       "\n",
       "<div class=\"bk-root\">\n",
       "    <div class=\"bk-plotdiv\" id=\"91665c9b-7451-4f85-b2c4-a05bb4da34d7\"></div>\n",
       "</div>"
      ]
     },
     "metadata": {},
     "output_type": "display_data"
    },
    {
     "data": {
      "application/javascript": [
       "(function(root) {\n",
       "  function embed_document(root) {\n",
       "    \n",
       "  var docs_json = {\"b7ac2a9b-95da-4ae7-92b6-b1628a14836e\":{\"roots\":{\"references\":[{\"attributes\":{\"callback\":null,\"data\":{\"x\":{\"__ndarray__\":\"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\",\"dtype\":\"float64\",\"shape\":[1000]},\"y\":{\"__ndarray__\":\"WmQ730/Bg0BaZDvfT8GDQFpkO99PwYNAWmQ730/Bg0BaZDvfT8GDQFpkO99PwYNAWmQ730/Bg0BaZDvfT8GDQFpkO99PwYNAWmQ730/Bg0BaZDvfT8GDQFpkO99PwYNAWmQ730/Bg0BaZDvfT8GDQFpkO99PwYNAWmQ730/Bg0BaZDvfT8GDQFpkO99PwYNAWmQ730/Bg0BaZDvfT8GDQFpkO99PwYNAWmQ730/Bg0BaZDvfT8GDQFpkO99PwYNAWmQ730/Bg0BaZDvfT8GDQFpkO99PwYNAWmQ730/Bg0BaZDvfT8GDQFpkO99PwYNAWmQ730/Bg0BaZDvfT8GDQFpkO99PwYNAWmQ730/Bg0BaZDvfT8GDQFpkO99PwYNAWmQ730/Bg0BaZDvfT8GDQFpkO99PwYNAWmQ730/Bg0BaZDvfT8GDQFpkO99PwYNAWmQ730/Bg0BaZDvfT8GDQFpkO99PwYNAWmQ730/Bg0BaZDvfT8GDQFpkO99PwYNAWmQ730/Bg0BaZDvfT8GDQFpkO99PwYNAWmQ730/Bg0BaZDvfT8GDQFpkO99PwYNAWmQ730/Bg0BaZDvfT8GDQFpkO99PwYNAWmQ730/Bg0BaZDvfT8GDQFpkO99PwYNAWmQ730/Bg0BaZDvfT8GDQFpkO99PwYNAWmQ730/Bg0BaZDvfT8GDQFpkO99PwYNAWmQ730/Bg0BaZDvfT8GDQFpkO99PwYNAWmQ730/Bg0BaZDvfT8GDQFpkO99PwYNAWmQ730/Bg0BaZDvfT8GDQFpkO99PwYNAWmQ730/Bg0BaZDvfT8GDQFpkO99PwYNAWmQ730/Bg0BaZDvfT8GDQFpkO99PwYNAWmQ730/Bg0BaZDvfT8GDQFpkO99PwYNAWmQ730/Bg0BaZDvfT8GDQFpkO99PwYNAWmQ730/Bg0BaZDvfT8GDQFpkO99PwYNAWmQ730/Bg0BaZDvfT8GDQFpkO99PwYNAWmQ730/Bg0BaZDvfT8GDQFpkO99PwYNAWmQ730/Bg0BaZDvfT8GDQFpkO99PwYNAWmQ730/Bg0BaZDvfT8GDQFpkO99PwYNAWmQ730/Bg0BaZDvfT8GDQFpkO99PwYNAWmQ730/Bg0BaZDvfT8GDQFpkO99PwYNAWmQ730/Bg0BaZDvfT8GDQFpkO99PwYNAWmQ730/Bg0BaZDvfT8GDQFpkO99PwYNAWmQ730/Bg0BaZDvfT8GDQFpkO99PwYNAWmQ730/Bg0BaZDvfT8GDQFpkO99PwYNAWmQ730/Bg0BaZDvfT8GDQFpkO99PwYNAWmQ730/Bg0BaZDvfT8GDQFpkO99PwYNAWmQ730/Bg0BaZDvfT8GDQFpkO99PwYNAWmQ730/Bg0BaZDvfT8GDQFpkO99PwYNAWmQ730/Bg0BaZDvfT8GDQFpkO99PwYNAWmQ730/Bg0BaZDvfT8GDQFpkO99PwYNAWmQ730/Bg0BaZDvfT8GDQFpkO99PwYNAWmQ730/Bg0BaZDvfT8GDQFpkO99PwYNAWmQ730/Bg0BaZDvfT8GDQFpkO99PwYNAWmQ730/Bg0BaZDvfT8GDQFpkO99PwYNAWmQ730/Bg0BaZDvfT8GDQFpkO99PwYNAWmQ730/Bg0BaZDvfT8GDQFpkO99PwYNAWmQ730/Bg0BaZDvfT8GDQFpkO99PwYNAWmQ730/Bg0BaZDvfT8GDQFpkO99PwYNAWmQ730/Bg0BaZDvfT8GDQFpkO99PwYNAWmQ730/Bg0BaZDvfT8GDQFpkO99PwYNAWmQ730/Bg0BaZDvfT8GDQFpkO99PwYNAWmQ730/Bg0BaZDvfT8GDQFpkO99PwYNAWmQ730/Bg0BaZDvfT8GDQFpkO99PwYNAWmQ730/Bg0BaZDvfT8GDQFpkO99PwYNAWmQ730/Bg0BaZDvfT8GDQFpkO99PwYNAWmQ730/Bg0BaZDvfT8GDQFpkO99PwYNAWmQ730/Bg0BaZDvfT8GDQFpkO99PwYNAWmQ730/Bg0BaZDvfT8GDQFpkO99PwYNAWmQ730/Bg0BaZDvfT8GDQFpkO99PwYNAWmQ730/Bg0BaZDvfT8GDQFpkO99PwYNAWmQ730/Bg0BaZDvfT8GDQFpkO99PwYNAWmQ730/Bg0BaZDvfT8GDQFpkO99PwYNAWmQ730/Bg0BaZDvfT8GDQFpkO99PwYNAWmQ730/Bg0BaZDvfT8GDQFpkO99PwYNAWmQ730/Bg0BaZDvfT8GDQFpkO99PwYNAWmQ730/Bg0BaZDvfT8GDQFpkO99PwYNAWmQ730/Bg0BaZDvfT8GDQFpkO99PwYNAWmQ730/Bg0BaZDvfT8GDQFpkO99PwYNAWmQ730/Bg0BaZDvfT8GDQFpkO99PwYNAWmQ730/Bg0BaZDvfT8GDQFpkO99PwYNAWmQ730/Bg0BaZDvfT8GDQFpkO99PwYNAWmQ730/Bg0BaZDvfT8GDQFpkO99PwYNAWmQ730/Bg0BaZDvfT8GDQFpkO99PwYNAWmQ730/Bg0BaZDvfT8GDQFpkO99PwYNAWmQ730/Bg0BaZDvfT8GDQFpkO99PwYNAWmQ730/Bg0BaZDvfT8GDQFpkO99PwYNAWmQ730/Bg0BaZDvfT8GDQFpkO99PwYNAWmQ730/Bg0BaZDvfT8GDQFpkO99PwYNAWmQ730/Bg0BaZDvfT8GDQFpkO99PwYNAWmQ730/Bg0BaZDvfT8GDQFpkO99PwYNAWmQ730/Bg0BaZDvfT8GDQFpkO99PwYNAWmQ730/Bg0BaZDvfT8GDQFpkO99PwYNAWmQ730/Bg0BaZDvfT8GDQFpkO99PwYNAWmQ730/Bg0BaZDvfT8GDQFpkO99PwYNAWmQ730/Bg0BaZDvfT8GDQFpkO99PwYNAWmQ730/Bg0BaZDvfT8GDQFpkO99PwYNAWmQ730/Bg0BaZDvfT8GDQFpkO99PwYNAWmQ730/Bg0BaZDvfT8GDQFpkO99PwYNAWmQ730/Bg0BaZDvfT8GDQFpkO99PwYNAWmQ730/Bg0BaZDvfT8GDQFpkO99PwYNAWmQ730/Bg0BaZDvfT8GDQFpkO99PwYNAWmQ730/Bg0BaZDvfT8GDQFpkO99PwYNAWmQ730/Bg0BaZDvfT8GDQFpkO99PwYNAWmQ730/Bg0BaZDvfT8GDQFpkO99PwYNAWmQ730/Bg0BaZDvfT8GDQFpkO99PwYNAWmQ730/Bg0BaZDvfT8GDQFpkO99PwYNAWmQ730/Bg0BaZDvfT8GDQFpkO99PwYNAWmQ730/Bg0BaZDvfT8GDQFpkO99PwYNAWmQ730/Bg0BaZDvfT8GDQFpkO99PwYNAWmQ730/Bg0BaZDvfT8GDQFpkO99PwYNAWmQ730/Bg0BaZDvfT8GDQFpkO99PwYNAWmQ730/Bg0BaZDvfT8GDQFpkO99PwYNAWmQ730/Bg0BaZDvfT8GDQFpkO99PwYNAWmQ730/Bg0BaZDvfT8GDQFpkO99PwYNAWmQ730/Bg0BaZDvfT8GDQFpkO99PwYNAWmQ730/Bg0BaZDvfT8GDQFpkO99PwYNAWmQ730/Bg0BaZDvfT8GDQFpkO99PwYNAWmQ730/Bg0BaZDvfT8GDQFpkO99PwYNAWmQ730/Bg0BaZDvfT8GDQFpkO99PwYNAWmQ730/Bg0BaZDvfT8GDQFpkO99PwYNAWmQ730/Bg0BaZDvfT8GDQFpkO99PwYNAWmQ730/Bg0BaZDvfT8GDQFpkO99PwYNAWmQ730/Bg0BaZDvfT8GDQFpkO99PwYNAWmQ730/Bg0BaZDvfT8GDQFpkO99PwYNAWmQ730/Bg0BaZDvfT8GDQFpkO99PwYNAWmQ730/Bg0BaZDvfT8GDQFpkO99PwYNAWmQ730/Bg0BaZDvfT8GDQFpkO99PwYNAWmQ730/Bg0BaZDvfT8GDQFpkO99PwYNAWmQ730/Bg0BaZDvfT8GDQFpkO99PwYNAWmQ730/Bg0BaZDvfT8GDQFpkO99PwYNAWmQ730/Bg0BaZDvfT8GDQFpkO99PwYNAWmQ730/Bg0BaZDvfT8GDQFpkO99PwYNAWmQ730/Bg0BaZDvfT8GDQFpkO99PwYNAWmQ730/Bg0BaZDvfT8GDQFpkO99PwYNAWmQ730/Bg0BaZDvfT8GDQFpkO99PwYNAWmQ730/Bg0BaZDvfT8GDQFpkO99PwYNAWmQ730/Bg0BaZDvfT8GDQFpkO99PwYNAWmQ730/Bg0BaZDvfT8GDQFpkO99PwYNAWmQ730/Bg0BaZDvfT8GDQFpkO99PwYNAWmQ730/Bg0BaZDvfT8GDQFpkO99PwYNAWmQ730/Bg0BaZDvfT8GDQFpkO99PwYNAWmQ730/Bg0BaZDvfT8GDQFpkO99PwYNAWmQ730/Bg0BaZDvfT8GDQFpkO99PwYNAWmQ730/Bg0BaZDvfT8GDQFpkO99PwYNAWmQ730/Bg0BaZDvfT8GDQFpkO99PwYNAWmQ730/Bg0BaZDvfT8GDQFpkO99PwYNAWmQ730/Bg0BaZDvfT8GDQFpkO99PwYNAWmQ730/Bg0BaZDvfT8GDQFpkO99PwYNAWmQ730/Bg0BaZDvfT8GDQFpkO99PwYNAWmQ730/Bg0BaZDvfT8GDQFpkO99PwYNAWmQ730/Bg0BaZDvfT8GDQFpkO99PwYNAWmQ730/Bg0BaZDvfT8GDQFpkO99PwYNAWmQ730/Bg0BaZDvfT8GDQFpkO99PwYNAWmQ730/Bg0BaZDvfT8GDQFpkO99PwYNAWmQ730/Bg0BaZDvfT8GDQFpkO99PwYNAWmQ730/Bg0BaZDvfT8GDQFpkO99PwYNAWmQ730/Bg0BaZDvfT8GDQFpkO99PwYNAWmQ730/Bg0BaZDvfT8GDQFpkO99PwYNAWmQ730/Bg0BaZDvfT8GDQFpkO99PwYNAWmQ730/Bg0BaZDvfT8GDQFpkO99PwYNAWmQ730/Bg0BaZDvfT8GDQFpkO99PwYNAWmQ730/Bg0BaZDvfT8GDQFpkO99PwYNAWmQ730/Bg0BaZDvfT8GDQFpkO99PwYNAWmQ730/Bg0BaZDvfT8GDQFpkO99PwYNAWmQ730/Bg0BaZDvfT8GDQFpkO99PwYNAWmQ730/Bg0BaZDvfT8GDQFpkO99PwYNAWmQ730/Bg0BaZDvfT8GDQFpkO99PwYNAWmQ730/Bg0BaZDvfT8GDQFpkO99PwYNAWmQ730/Bg0BaZDvfT8GDQFpkO99PwYNAWmQ730/Bg0BaZDvfT8GDQFpkO99PwYNAWmQ730/Bg0BaZDvfT8GDQFpkO99PwYNAWmQ730/Bg0BaZDvfT8GDQFpkO99PwYNAWmQ730/Bg0BaZDvfT8GDQFpkO99PwYNAWmQ730/Bg0BaZDvfT8GDQFpkO99PwYNAWmQ730/Bg0BaZDvfT8GDQFpkO99PwYNAWmQ730/Bg0BaZDvfT8GDQFpkO99PwYNAWmQ730/Bg0BaZDvfT8GDQFpkO99PwYNAWmQ730/Bg0BaZDvfT8GDQFpkO99PwYNAWmQ730/Bg0BaZDvfT8GDQFpkO99PwYNAWmQ730/Bg0BaZDvfT8GDQFpkO99PwYNAWmQ730/Bg0BaZDvfT8GDQFpkO99PwYNAWmQ730/Bg0BaZDvfT8GDQFpkO99PwYNAWmQ730/Bg0BaZDvfT8GDQFpkO99PwYNAWmQ730/Bg0BaZDvfT8GDQFpkO99PwYNAWmQ730/Bg0BaZDvfT8GDQFpkO99PwYNAWmQ730/Bg0BaZDvfT8GDQFpkO99PwYNAWmQ730/Bg0BaZDvfT8GDQFpkO99PwYNAWmQ730/Bg0BaZDvfT8GDQFpkO99PwYNAWmQ730/Bg0BaZDvfT8GDQFpkO99PwYNAWmQ730/Bg0BaZDvfT8GDQFpkO99PwYNAWmQ730/Bg0BaZDvfT8GDQFpkO99PwYNAWmQ730/Bg0BaZDvfT8GDQFpkO99PwYNAWmQ730/Bg0BaZDvfT8GDQFpkO99PwYNAWmQ730/Bg0BaZDvfT8GDQFpkO99PwYNAWmQ730/Bg0BaZDvfT8GDQFpkO99PwYNAWmQ730/Bg0BaZDvfT8GDQFpkO99PwYNAWmQ730/Bg0BaZDvfT8GDQFpkO99PwYNAWmQ730/Bg0BaZDvfT8GDQFpkO99PwYNAWmQ730/Bg0BaZDvfT8GDQFpkO99PwYNAWmQ730/Bg0BaZDvfT8GDQFpkO99PwYNAWmQ730/Bg0BaZDvfT8GDQFpkO99PwYNAWmQ730/Bg0BaZDvfT8GDQFpkO99PwYNAWmQ730/Bg0BaZDvfT8GDQFpkO99PwYNAWmQ730/Bg0BaZDvfT8GDQFpkO99PwYNAWmQ730/Bg0BaZDvfT8GDQFpkO99PwYNAWmQ730/Bg0BaZDvfT8GDQFpkO99PwYNAWmQ730/Bg0BaZDvfT8GDQFpkO99PwYNAWmQ730/Bg0BaZDvfT8GDQFpkO99PwYNAWmQ730/Bg0BaZDvfT8GDQFpkO99PwYNAWmQ730/Bg0BaZDvfT8GDQFpkO99PwYNAWmQ730/Bg0BaZDvfT8GDQFpkO99PwYNAWmQ730/Bg0BaZDvfT8GDQFpkO99PwYNAWmQ730/Bg0BaZDvfT8GDQFpkO99PwYNAWmQ730/Bg0BaZDvfT8GDQFpkO99PwYNAWmQ730/Bg0BaZDvfT8GDQFpkO99PwYNAWmQ730/Bg0BaZDvfT8GDQFpkO99PwYNAWmQ730/Bg0BaZDvfT8GDQFpkO99PwYNAWmQ730/Bg0BaZDvfT8GDQFpkO99PwYNAWmQ730/Bg0BaZDvfT8GDQFpkO99PwYNAWmQ730/Bg0BaZDvfT8GDQFpkO99PwYNAWmQ730/Bg0BaZDvfT8GDQFpkO99PwYNAWmQ730/Bg0BaZDvfT8GDQFpkO99PwYNAWmQ730/Bg0BaZDvfT8GDQFpkO99PwYNAWmQ730/Bg0BaZDvfT8GDQFpkO99PwYNAWmQ730/Bg0BaZDvfT8GDQFpkO99PwYNAWmQ730/Bg0BaZDvfT8GDQFpkO99PwYNAWmQ730/Bg0BaZDvfT8GDQFpkO99PwYNAWmQ730/Bg0BaZDvfT8GDQFpkO99PwYNAWmQ730/Bg0BaZDvfT8GDQFpkO99PwYNAWmQ730/Bg0BaZDvfT8GDQFpkO99PwYNAWmQ730/Bg0BaZDvfT8GDQFpkO99PwYNAWmQ730/Bg0BaZDvfT8GDQFpkO99PwYNAWmQ730/Bg0BaZDvfT8GDQFpkO99PwYNAWmQ730/Bg0BaZDvfT8GDQFpkO99PwYNAWmQ730/Bg0BaZDvfT8GDQFpkO99PwYNAWmQ730/Bg0BaZDvfT8GDQFpkO99PwYNAWmQ730/Bg0BaZDvfT8GDQFpkO99PwYNAWmQ730/Bg0BaZDvfT8GDQFpkO99PwYNAWmQ730/Bg0BaZDvfT8GDQFpkO99PwYNAWmQ730/Bg0BaZDvfT8GDQFpkO99PwYNAWmQ730/Bg0BaZDvfT8GDQFpkO99PwYNAWmQ730/Bg0BaZDvfT8GDQFpkO99PwYNAWmQ730/Bg0BaZDvfT8GDQFpkO99PwYNAWmQ730/Bg0BaZDvfT8GDQFpkO99PwYNAWmQ730/Bg0BaZDvfT8GDQFpkO99PwYNAWmQ730/Bg0BaZDvfT8GDQFpkO99PwYNAWmQ730/Bg0BaZDvfT8GDQFpkO99PwYNAWmQ730/Bg0BaZDvfT8GDQFpkO99PwYNAWmQ730/Bg0BaZDvfT8GDQFpkO99PwYNAWmQ730/Bg0BaZDvfT8GDQFpkO99PwYNAWmQ730/Bg0BaZDvfT8GDQFpkO99PwYNAWmQ730/Bg0BaZDvfT8GDQFpkO99PwYNAWmQ730/Bg0BaZDvfT8GDQFpkO99PwYNAWmQ730/Bg0BaZDvfT8GDQFpkO99PwYNAWmQ730/Bg0BaZDvfT8GDQFpkO99PwYNAWmQ730/Bg0BaZDvfT8GDQFpkO99PwYNAWmQ730/Bg0BaZDvfT8GDQFpkO99PwYNAWmQ730/Bg0BaZDvfT8GDQFpkO99PwYNAWmQ730/Bg0BaZDvfT8GDQFpkO99PwYNAWmQ730/Bg0BaZDvfT8GDQFpkO99PwYNAWmQ730/Bg0BaZDvfT8GDQFpkO99PwYNAWmQ730/Bg0BaZDvfT8GDQFpkO99PwYNAWmQ730/Bg0BaZDvfT8GDQFpkO99PwYNAWmQ730/Bg0BaZDvfT8GDQFpkO99PwYNAWmQ730/Bg0BaZDvfT8GDQFpkO99PwYNAWmQ730/Bg0BaZDvfT8GDQFpkO99PwYNAWmQ730/Bg0BaZDvfT8GDQFpkO99PwYNAWmQ730/Bg0BaZDvfT8GDQFpkO99PwYNAWmQ730/Bg0BaZDvfT8GDQFpkO99PwYNAWmQ730/Bg0BaZDvfT8GDQFpkO99PwYNAWmQ730/Bg0BaZDvfT8GDQFpkO99PwYNAWmQ730/Bg0BaZDvfT8GDQFpkO99PwYNAWmQ730/Bg0BaZDvfT8GDQFpkO99PwYNAWmQ730/Bg0BaZDvfT8GDQFpkO99PwYNAWmQ730/Bg0BaZDvfT8GDQFpkO99PwYNAWmQ730/Bg0BaZDvfT8GDQFpkO99PwYNAWmQ730/Bg0BaZDvfT8GDQFpkO99PwYNAWmQ730/Bg0BaZDvfT8GDQFpkO99PwYNAWmQ730/Bg0BaZDvfT8GDQFpkO99PwYNAWmQ730/Bg0BaZDvfT8GDQFpkO99PwYNAWmQ730/Bg0BaZDvfT8GDQFpkO99PwYNAWmQ730/Bg0BaZDvfT8GDQFpkO99PwYNAWmQ730/Bg0BaZDvfT8GDQFpkO99PwYNAWmQ730/Bg0BaZDvfT8GDQFpkO99PwYNAWmQ730/Bg0BaZDvfT8GDQFpkO99PwYNAWmQ730/Bg0BaZDvfT8GDQFpkO99PwYNAWmQ730/Bg0BaZDvfT8GDQFpkO99PwYNAWmQ730/Bg0BaZDvfT8GDQFpkO99PwYNAWmQ730/Bg0BaZDvfT8GDQFpkO99PwYNAWmQ730/Bg0BaZDvfT8GDQFpkO99PwYNAWmQ730/Bg0BaZDvfT8GDQFpkO99PwYNAWmQ730/Bg0BaZDvfT8GDQFpkO99PwYNAWmQ730/Bg0BaZDvfT8GDQFpkO99PwYNAWmQ730/Bg0BaZDvfT8GDQFpkO99PwYNAWmQ730/Bg0BaZDvfT8GDQFpkO99PwYNAWmQ730/Bg0BaZDvfT8GDQFpkO99PwYNAWmQ730/Bg0BaZDvfT8GDQFpkO99PwYNAWmQ730/Bg0BaZDvfT8GDQFpkO99PwYNAWmQ730/Bg0BaZDvfT8GDQFpkO99PwYNAWmQ730/Bg0BaZDvfT8GDQFpkO99PwYNAWmQ730/Bg0BaZDvfT8GDQFpkO99PwYNAWmQ730/Bg0BaZDvfT8GDQFpkO99PwYNAWmQ730/Bg0BaZDvfT8GDQFpkO99PwYNAWmQ730/Bg0BaZDvfT8GDQFpkO99PwYNAWmQ730/Bg0BaZDvfT8GDQFpkO99PwYNAWmQ730/Bg0BaZDvfT8GDQFpkO99PwYNAWmQ730/Bg0BaZDvfT8GDQFpkO99PwYNAWmQ730/Bg0BaZDvfT8GDQFpkO99PwYNAWmQ730/Bg0BaZDvfT8GDQFpkO99PwYNAWmQ730/Bg0BaZDvfT8GDQFpkO99PwYNAWmQ730/Bg0BaZDvfT8GDQFpkO99PwYNAWmQ730/Bg0BaZDvfT8GDQFpkO99PwYNAWmQ730/Bg0BaZDvfT8GDQFpkO99PwYNAWmQ730/Bg0BaZDvfT8GDQFpkO99PwYNAWmQ730/Bg0BaZDvfT8GDQFpkO99PwYNAWmQ730/Bg0BaZDvfT8GDQFpkO99PwYNAWmQ730/Bg0BaZDvfT8GDQFpkO99PwYNAWmQ730/Bg0BaZDvfT8GDQFpkO99PwYNAWmQ730/Bg0BaZDvfT8GDQFpkO99PwYNAWmQ730/Bg0BaZDvfT8GDQFpkO99PwYNAWmQ730/Bg0BaZDvfT8GDQFpkO99PwYNAWmQ730/Bg0BaZDvfT8GDQFpkO99PwYNAWmQ730/Bg0BaZDvfT8GDQFpkO99PwYNAWmQ730/Bg0BaZDvfT8GDQFpkO99PwYNAWmQ730/Bg0BaZDvfT8GDQFpkO99PwYNAWmQ730/Bg0BaZDvfT8GDQFpkO99PwYNAWmQ730/Bg0BaZDvfT8GDQFpkO99PwYNAWmQ730/Bg0BaZDvfT8GDQFpkO99PwYNAWmQ730/Bg0BaZDvfT8GDQFpkO99PwYNAWmQ730/Bg0BaZDvfT8GDQFpkO99PwYNAWmQ730/Bg0BaZDvfT8GDQFpkO99PwYNAWmQ730/Bg0BaZDvfT8GDQFpkO99PwYNAWmQ730/Bg0BaZDvfT8GDQFpkO99PwYNAWmQ730/Bg0BaZDvfT8GDQFpkO99PwYNAWmQ730/Bg0BaZDvfT8GDQFpkO99PwYNAWmQ730/Bg0BaZDvfT8GDQFpkO99PwYNAWmQ730/Bg0BaZDvfT8GDQFpkO99PwYNAWmQ730/Bg0A=\",\"dtype\":\"float64\",\"shape\":[1000]}},\"selected\":{\"id\":\"ef2ce946-7d5b-453b-bb16-657bd923c8fb\",\"type\":\"Selection\"},\"selection_policy\":{\"id\":\"ffb17e6e-d447-43e0-a4f1-7fd2d6eb3713\",\"type\":\"UnionRenderers\"}},\"id\":\"52e620d5-15e6-45b9-aabb-ddc37855ab72\",\"type\":\"ColumnDataSource\"},{\"attributes\":{\"plot\":null,\"text\":\"Regression model vs. baseline\"},\"id\":\"c374b771-8b09-4c07-95f9-cbe388ce7fb9\",\"type\":\"Title\"},{\"attributes\":{\"fill_alpha\":{\"value\":0.1},\"fill_color\":{\"value\":\"#1f77b4\"},\"line_alpha\":{\"value\":0.1},\"line_color\":{\"value\":\"#1f77b4\"},\"size\":{\"units\":\"screen\",\"value\":10},\"x\":{\"field\":\"x\"},\"y\":{\"field\":\"y\"}},\"id\":\"b260b5ee-3742-4651-8185-d47a90a53700\",\"type\":\"Circle\"},{\"attributes\":{},\"id\":\"36d4a521-9d2f-45a9-a5ca-8d3b829b12bb\",\"type\":\"ResetTool\"},{\"attributes\":{\"data_source\":{\"id\":\"41bfed47-c8f0-49d5-9c81-2ffde57d5374\",\"type\":\"ColumnDataSource\"},\"glyph\":{\"id\":\"822c4ded-35c3-4538-b027-b6b6d95ce79b\",\"type\":\"Circle\"},\"hover_glyph\":null,\"muted_glyph\":null,\"nonselection_glyph\":{\"id\":\"be209565-438b-47cf-86d0-3cc0a4f12f21\",\"type\":\"Circle\"},\"selection_glyph\":null,\"view\":{\"id\":\"2fd38c8e-9eb0-4f4b-abe3-39ab14c74a6c\",\"type\":\"CDSView\"}},\"id\":\"f9c3190c-ad4b-450d-a695-06a448365e78\",\"type\":\"GlyphRenderer\"},{\"attributes\":{},\"id\":\"2e5a11c1-c717-497d-addf-02e2e1927509\",\"type\":\"WheelZoomTool\"},{\"attributes\":{},\"id\":\"69e540e4-5914-4f6d-9b55-0dc694bfce21\",\"type\":\"UnionRenderers\"},{\"attributes\":{},\"id\":\"ef2ce946-7d5b-453b-bb16-657bd923c8fb\",\"type\":\"Selection\"},{\"attributes\":{\"below\":[{\"id\":\"b5f84240-c518-450c-a830-d2d370c20801\",\"type\":\"LinearAxis\"}],\"left\":[{\"id\":\"cbdbd99c-be2c-40eb-aa67-d01dc4def6cc\",\"type\":\"LinearAxis\"}],\"plot_height\":300,\"renderers\":[{\"id\":\"b5f84240-c518-450c-a830-d2d370c20801\",\"type\":\"LinearAxis\"},{\"id\":\"d607c33c-e7d9-4e4f-aa9c-07c22ee4ca38\",\"type\":\"Grid\"},{\"id\":\"cbdbd99c-be2c-40eb-aa67-d01dc4def6cc\",\"type\":\"LinearAxis\"},{\"id\":\"e5003c9c-1a7f-4623-b49b-7bd3e191afcd\",\"type\":\"Grid\"},{\"id\":\"4999f1d3-6419-4d3f-ac17-1c6e14cdf04f\",\"type\":\"BoxAnnotation\"},{\"id\":\"46b6b752-87a5-448a-9a6a-8c825aa19765\",\"type\":\"GlyphRenderer\"},{\"id\":\"f9c3190c-ad4b-450d-a695-06a448365e78\",\"type\":\"GlyphRenderer\"},{\"id\":\"ffbd3204-11c9-45bd-aeeb-e257252f9931\",\"type\":\"GlyphRenderer\"},{\"id\":\"5c54a457-494f-4e1e-aaa1-f4eb72441929\",\"type\":\"GlyphRenderer\"}],\"title\":{\"id\":\"c374b771-8b09-4c07-95f9-cbe388ce7fb9\",\"type\":\"Title\"},\"toolbar\":{\"id\":\"d52ceb0a-9d21-45a9-9def-25d336172363\",\"type\":\"Toolbar\"},\"x_range\":{\"id\":\"dfc04658-ee0b-4d97-92af-490877a72466\",\"type\":\"DataRange1d\"},\"x_scale\":{\"id\":\"03928a13-4c69-4160-9c45-ca5ab5014b75\",\"type\":\"LinearScale\"},\"y_range\":{\"id\":\"e5f28672-b171-4b5b-86a1-d36aa2263aee\",\"type\":\"DataRange1d\"},\"y_scale\":{\"id\":\"7d8ccca9-df8b-4341-889a-a12bfb7030f9\",\"type\":\"LinearScale\"}},\"id\":\"d3738d38-45c5-4426-8357-c69ba64f1c4d\",\"subtype\":\"Figure\",\"type\":\"Plot\"},{\"attributes\":{\"bottom_units\":\"screen\",\"fill_alpha\":{\"value\":0.5},\"fill_color\":{\"value\":\"lightgrey\"},\"left_units\":\"screen\",\"level\":\"overlay\",\"line_alpha\":{\"value\":1.0},\"line_color\":{\"value\":\"black\"},\"line_dash\":[4,4],\"line_width\":{\"value\":2},\"plot\":null,\"render_mode\":\"css\",\"right_units\":\"screen\",\"top_units\":\"screen\"},\"id\":\"4999f1d3-6419-4d3f-ac17-1c6e14cdf04f\",\"type\":\"BoxAnnotation\"},{\"attributes\":{},\"id\":\"c61e8bcd-9925-4b49-ade8-7667554ecf75\",\"type\":\"BasicTickFormatter\"},{\"attributes\":{},\"id\":\"55260376-6c92-43e5-ab7a-180111c32fb4\",\"type\":\"Selection\"},{\"attributes\":{\"overlay\":{\"id\":\"4999f1d3-6419-4d3f-ac17-1c6e14cdf04f\",\"type\":\"BoxAnnotation\"}},\"id\":\"ab54107b-fdd3-4036-826f-da966c83499f\",\"type\":\"BoxZoomTool\"},{\"attributes\":{\"fill_alpha\":{\"value\":0.1},\"fill_color\":{\"value\":\"#1f77b4\"},\"line_alpha\":{\"value\":0.1},\"line_color\":{\"value\":\"#1f77b4\"},\"size\":{\"units\":\"screen\",\"value\":10},\"x\":{\"field\":\"x\"},\"y\":{\"field\":\"y\"}},\"id\":\"be209565-438b-47cf-86d0-3cc0a4f12f21\",\"type\":\"Circle\"},{\"attributes\":{\"dimension\":1,\"plot\":{\"id\":\"d3738d38-45c5-4426-8357-c69ba64f1c4d\",\"subtype\":\"Figure\",\"type\":\"Plot\"},\"ticker\":{\"id\":\"21e58b32-e997-4bd9-aeb3-ac056511fe2a\",\"type\":\"BasicTicker\"}},\"id\":\"e5003c9c-1a7f-4623-b49b-7bd3e191afcd\",\"type\":\"Grid\"},{\"attributes\":{\"source\":{\"id\":\"41bfed47-c8f0-49d5-9c81-2ffde57d5374\",\"type\":\"ColumnDataSource\"}},\"id\":\"2fd38c8e-9eb0-4f4b-abe3-39ab14c74a6c\",\"type\":\"CDSView\"},{\"attributes\":{\"callback\":null},\"id\":\"e5f28672-b171-4b5b-86a1-d36aa2263aee\",\"type\":\"DataRange1d\"},{\"attributes\":{},\"id\":\"6150a523-5d39-4d8a-a391-97f8fe6d1de3\",\"type\":\"SaveTool\"},{\"attributes\":{\"line_color\":\"#2222aa\",\"line_width\":3,\"x\":{\"field\":\"x\"},\"y\":{\"field\":\"y\"}},\"id\":\"e68c2e0f-b744-4152-9a76-028125e2d1b4\",\"type\":\"Line\"},{\"attributes\":{\"active_drag\":\"auto\",\"active_inspect\":\"auto\",\"active_scroll\":\"auto\",\"active_tap\":\"auto\",\"tools\":[{\"id\":\"c80b6b08-e163-4560-925f-fd509308d712\",\"type\":\"PanTool\"},{\"id\":\"2e5a11c1-c717-497d-addf-02e2e1927509\",\"type\":\"WheelZoomTool\"},{\"id\":\"ab54107b-fdd3-4036-826f-da966c83499f\",\"type\":\"BoxZoomTool\"},{\"id\":\"6150a523-5d39-4d8a-a391-97f8fe6d1de3\",\"type\":\"SaveTool\"},{\"id\":\"36d4a521-9d2f-45a9-a5ca-8d3b829b12bb\",\"type\":\"ResetTool\"},{\"id\":\"22c5e629-796c-4f5b-ae31-87cfdb35546f\",\"type\":\"HelpTool\"}]},\"id\":\"d52ceb0a-9d21-45a9-9def-25d336172363\",\"type\":\"Toolbar\"},{\"attributes\":{\"fill_alpha\":{\"value\":0.5},\"fill_color\":{\"value\":\"green\"},\"line_alpha\":{\"value\":0.5},\"line_color\":{\"value\":\"green\"},\"size\":{\"units\":\"screen\",\"value\":10},\"x\":{\"field\":\"x\"},\"y\":{\"field\":\"y\"}},\"id\":\"0a1de0b9-fcc5-4a06-b484-0b23d31517be\",\"type\":\"Circle\"},{\"attributes\":{\"axis_label\":\"Selected Predictors\",\"formatter\":{\"id\":\"47e87948-72d4-4d08-8acb-9b0f7eec2052\",\"type\":\"BasicTickFormatter\"},\"plot\":{\"id\":\"d3738d38-45c5-4426-8357-c69ba64f1c4d\",\"subtype\":\"Figure\",\"type\":\"Plot\"},\"ticker\":{\"id\":\"c0ec98cf-8d3b-4df5-89c2-5f78f097103e\",\"type\":\"BasicTicker\"}},\"id\":\"b5f84240-c518-450c-a830-d2d370c20801\",\"type\":\"LinearAxis\"},{\"attributes\":{\"source\":{\"id\":\"52e620d5-15e6-45b9-aabb-ddc37855ab72\",\"type\":\"ColumnDataSource\"}},\"id\":\"c37e5511-330e-40dd-968d-ee093f28e1e7\",\"type\":\"CDSView\"},{\"attributes\":{\"callback\":null,\"data\":{\"x\":{\"__ndarray__\":\"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\",\"dtype\":\"float64\",\"shape\":[1000]},\"y\":[627,637,625,604,609,613,595,718,678,654,592,623,614,671,677,664,652,695,602,656,579,676,628,654,580,600,710,606,645,597,704,642,685,740,660,635,603,680,590,613,567,581,713,638,560,648,553,598,654,637,606,659,618,642,608,639,705,592,611,669,620,634,576,717,604,587,570,640,608,637,680,621,637,586,633,569,665,542,685,601,602,574,576,668,625,568,614,605,580,606,552,679,624,649,655,545,723,648,691,671,608,638,618,669,598,619,676,734,643,551,606,636,587,625,599,635,611,543,693,589,697,784,649,692,630,698,685,685,587,684,648,680,680,586,727,555,613,600,593,559,731,677,631,592,615,571,671,622,615,658,552,687,691,637,708,617,573,605,655,648,730,649,644,706,641,674,606,659,676,634,572,602,648,650,619,616,628,668,568,603,591,673,610,578,540,667,592,592,667,644,641,563,610,689,640,603,620,687,523,605,606,619,589,639,646,639,706,625,707,664,640,683,593,644,646,594,638,601,625,570,656,629,668,631,658,638,641,598,658,653,622,579,597,597,589,616,612,590,651,622,563,716,647,679,652,627,603,686,596,617,629,645,621,593,648,615,583,652,634,540,678,628,690,639,609,560,575,607,649,556,614,666,608,680,703,634,594,619,615,731,644,636,550,640,747,657,599,687,574,559,551,635,654,657,571,667,669,606,608,582,564,637,649,697,662,626,604,550,628,661,652,584,603,588,613,690,623,661,654,659,590,664,656,691,711,629,642,671,677,621,639,603,661,591,608,661,687,637,619,722,654,682,590,596,693,769,617,632,623,693,567,650,605,626,568,639,691,553,630,657,642,630,629,591,706,601,592,579,548,633,635,604,629,639,606,537,593,603,655,626,597,694,551,620,542,712,589,646,606,640,621,643,643,582,662,683,627,653,701,580,619,627,697,550,670,721,623,625,619,610,590,750,629,755,578,681,639,583,597,575,596,624,609,771,637,670,621,607,649,720,612,679,590,575,533,605,678,552,600,628,584,596,630,645,628,652,566,675,647,628,623,663,619,646,701,572,568,635,606,687,595,662,686,652,612,653,658,676,585,652,598,600,740,674,640,692,636,717,620,644,584,587,621,638,615,669,648,651,622,632,705,621,680,572,628,616,629,570,630,608,579,589,700,652,676,585,549,665,633,617,590,596,690,660,654,705,701,663,645,614,648,639,711,703,618,634,614,632,651,757,598,585,656,619,555,645,660,654,688,626,622,623,582,645,637,612,718,601,517,603,552,603,591,656,596,617,625,592,538,609,677,606,581,646,641,663,592,707,565,653,591,578,658,612,590,660,669,643,610,667,588,596,541,573,666,651,655,595,549,647,635,682,659,594,650,617,597,595,566,573,623,618,684,710,754,676,626,629,696,606,627,648,592,616,639,611,630,605,681,601,597,580,630,635,601,682,648,580,682,507,643,694,629,682,659,607,623,620,627,624,598,660,600,582,582,618,600,613,591,547,642,623,676,636,657,633,613,670,589,654,717,606,587,619,634,595,651,635,702,649,605,604,653,587,612,582,580,600,603,593,637,549,700,579,573,640,553,606,583,658,668,545,585,718,765,653,535,707,603,691,563,685,621,688,609,647,578,648,636,654,697,628,640,573,691,605,723,578,641,573,588,655,612,676,636,703,593,677,601,641,629,665,770,618,607,650,600,671,605,624,627,704,652,593,688,644,621,518,609,658,684,619,715,595,555,640,604,617,551,567,619,609,618,586,629,592,621,602,620,643,604,689,685,705,657,720,623,579,658,546,668,657,644,656,560,705,699,621,581,604,582,665,575,559,643,609,617,663,600,664,532,675,571,683,739,621,670,625,636,599,637,632,668,685,635,540,722,577,709,572,699,613,648,592,689,727,583,663,699,698,654,715,717,582,661,634,587,557,651,521,685,647,638,703,661,644,681,680,662,572,650,599,634,606,602,655,629,645,741,611,668,637,580,697,602,676,619,594,626,645,598,605,621,555,604,625,610,631,684,660,686,658,689,658,596,635,562,611,588,596,672,552,687,625,669,661,725,669,620,645,661,603,715,658,551,590,682,635,656,673,603,715,706,571,667,614,609,599,639,639,695,628,596,640,674,552,590,608,607,622,609,756,689,655,648,609,566,635,608,666,633,627,631,567,559,683,627,626,627,667,687,662,606,589,640,655,613,620,587,654,651,680,647,673,602,648,584,689,597,628,619,638,660,732,572,654,655,615,697,649,692,585,652,670,569,641,591,615,772,683,619,654,606,671,674,623,676,658,687,657]},\"selected\":{\"id\":\"55260376-6c92-43e5-ab7a-180111c32fb4\",\"type\":\"Selection\"},\"selection_policy\":{\"id\":\"45e14043-e532-4192-a497-6504344658db\",\"type\":\"UnionRenderers\"}},\"id\":\"6b4d77f9-614e-4c69-8c6c-5d3e310de566\",\"type\":\"ColumnDataSource\"},{\"attributes\":{\"line_alpha\":0.1,\"line_color\":\"#1f77b4\",\"line_width\":2,\"x\":{\"field\":\"x\"},\"y\":{\"field\":\"y\"}},\"id\":\"5433fb8f-cf58-468e-ac75-5c5569aaa15a\",\"type\":\"Line\"},{\"attributes\":{\"source\":{\"id\":\"6b4d77f9-614e-4c69-8c6c-5d3e310de566\",\"type\":\"ColumnDataSource\"}},\"id\":\"ebfee4f8-5480-4d1e-a0b3-ec2a74200c3f\",\"type\":\"CDSView\"},{\"attributes\":{},\"id\":\"2983dd68-6a05-4c21-a827-1c80c4bd44f6\",\"type\":\"Selection\"},{\"attributes\":{\"axis_label\":\"Predicted Cost\",\"formatter\":{\"id\":\"c61e8bcd-9925-4b49-ade8-7667554ecf75\",\"type\":\"BasicTickFormatter\"},\"plot\":{\"id\":\"d3738d38-45c5-4426-8357-c69ba64f1c4d\",\"subtype\":\"Figure\",\"type\":\"Plot\"},\"ticker\":{\"id\":\"21e58b32-e997-4bd9-aeb3-ac056511fe2a\",\"type\":\"BasicTicker\"}},\"id\":\"cbdbd99c-be2c-40eb-aa67-d01dc4def6cc\",\"type\":\"LinearAxis\"},{\"attributes\":{\"fill_alpha\":{\"value\":0.5},\"fill_color\":{\"value\":\"pink\"},\"line_alpha\":{\"value\":0.5},\"line_color\":{\"value\":\"pink\"},\"size\":{\"units\":\"screen\",\"value\":10},\"x\":{\"field\":\"x\"},\"y\":{\"field\":\"y\"}},\"id\":\"822c4ded-35c3-4538-b027-b6b6d95ce79b\",\"type\":\"Circle\"},{\"attributes\":{\"data_source\":{\"id\":\"6b4d77f9-614e-4c69-8c6c-5d3e310de566\",\"type\":\"ColumnDataSource\"},\"glyph\":{\"id\":\"0a1de0b9-fcc5-4a06-b484-0b23d31517be\",\"type\":\"Circle\"},\"hover_glyph\":null,\"muted_glyph\":null,\"nonselection_glyph\":{\"id\":\"b260b5ee-3742-4651-8185-d47a90a53700\",\"type\":\"Circle\"},\"selection_glyph\":null,\"view\":{\"id\":\"ebfee4f8-5480-4d1e-a0b3-ec2a74200c3f\",\"type\":\"CDSView\"}},\"id\":\"46b6b752-87a5-448a-9a6a-8c825aa19765\",\"type\":\"GlyphRenderer\"},{\"attributes\":{},\"id\":\"03928a13-4c69-4160-9c45-ca5ab5014b75\",\"type\":\"LinearScale\"},{\"attributes\":{},\"id\":\"21e58b32-e997-4bd9-aeb3-ac056511fe2a\",\"type\":\"BasicTicker\"},{\"attributes\":{\"data_source\":{\"id\":\"f0166e1b-3e21-4303-ab3a-0e8fbafa7dfd\",\"type\":\"ColumnDataSource\"},\"glyph\":{\"id\":\"e68c2e0f-b744-4152-9a76-028125e2d1b4\",\"type\":\"Line\"},\"hover_glyph\":null,\"muted_glyph\":null,\"nonselection_glyph\":{\"id\":\"ef010e87-100f-46eb-8ccc-dfad863fb62d\",\"type\":\"Line\"},\"selection_glyph\":null,\"view\":{\"id\":\"3a2a92ca-b14a-4a83-adcd-08d97118eef8\",\"type\":\"CDSView\"}},\"id\":\"ffbd3204-11c9-45bd-aeeb-e257252f9931\",\"type\":\"GlyphRenderer\"},{\"attributes\":{},\"id\":\"47e87948-72d4-4d08-8acb-9b0f7eec2052\",\"type\":\"BasicTickFormatter\"},{\"attributes\":{},\"id\":\"7d8ccca9-df8b-4341-889a-a12bfb7030f9\",\"type\":\"LinearScale\"},{\"attributes\":{\"line_alpha\":0.1,\"line_color\":\"#1f77b4\",\"line_width\":3,\"x\":{\"field\":\"x\"},\"y\":{\"field\":\"y\"}},\"id\":\"ef010e87-100f-46eb-8ccc-dfad863fb62d\",\"type\":\"Line\"},{\"attributes\":{\"callback\":null,\"data\":{\"x\":{\"__ndarray__\":\"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\",\"dtype\":\"float64\",\"shape\":[1000]},\"y\":{\"__ndarray__\":\"RXla6I7Dg0BFeVrojsODQEV5WuiOw4NARXla6I7Dg0BFeVrojsODQEV5WuiOw4NARXla6I7Dg0BFeVrojsODQEV5WuiOw4NARXla6I7Dg0BFeVrojsODQEV5WuiOw4NARXla6I7Dg0BFeVrojsODQEV5WuiOw4NARXla6I7Dg0BFeVrojsODQEV5WuiOw4NARXla6I7Dg0BFeVrojsODQEV5WuiOw4NARXla6I7Dg0BFeVrojsODQEV5WuiOw4NARXla6I7Dg0BFeVrojsODQEV5WuiOw4NARXla6I7Dg0BFeVrojsODQEV5WuiOw4NARXla6I7Dg0BFeVrojsODQEV5WuiOw4NARXla6I7Dg0BFeVrojsODQEV5WuiOw4NARXla6I7Dg0BFeVrojsODQEV5WuiOw4NARXla6I7Dg0D0/////5GBQEV5WuiOw4NARXla6I7Dg0BFeVrojsODQEV5WuiOw4NARXla6I7Dg0BFeVrojsODQEV5WuiOw4NARXla6I7Dg0BFeVrojsODQEV5WuiOw4NARXla6I7Dg0BFeVrojsODQEV5WuiOw4NARXla6I7Dg0BFeVrojsODQEV5WuiOw4NARXla6I7Dg0BFeVrojsODQEV5WuiOw4NARXla6I7Dg0BFeVrojsODQEV5WuiOw4NARXla6I7Dg0BFeVrojsODQEV5WuiOw4NARXla6I7Dg0BFeVrojsODQEV5WuiOw4NARXla6I7Dg0BFeVrojsODQEV5WuiOw4NARXla6I7Dg0BFeVrojsODQEV5WuiOw4NARXla6I7Dg0BFeVrojsODQEV5WuiOw4NARXla6I7Dg0BFeVrojsODQEV5WuiOw4NARXla6I7Dg0BFeVrojsODQEV5WuiOw4NARXla6I7Dg0BFeVrojsODQEV5WuiOw4NARXla6I7Dg0BFeVrojsODQEV5WuiOw4NARXla6I7Dg0BFeVrojsODQEV5WuiOw4NARXla6I7Dg0BFeVrojsODQEV5WuiOw4NARXla6I7Dg0BFeVrojsODQEV5WuiOw4NARXla6I7Dg0BFeVrojsODQEV5WuiOw4NARXla6I7Dg0BFeVrojsODQEV5WuiOw4NARXla6I7Dg0BFeVrojsODQEV5WuiOw4NARXla6I7Dg0BFeVrojsODQEV5WuiOw4NARXla6I7Dg0BFeVrojsODQEV5WuiOw4NARXla6I7Dg0BFeVrojsODQEV5WuiOw4NARXla6I7Dg0BFeVrojsODQEV5WuiOw4NARXla6I7Dg0BFeVrojsODQEV5WuiOw4NARXla6I7Dg0BFeVrojsODQEV5WuiOw4NARXla6I7Dg0BFeVrojsODQEV5WuiOw4NARXla6I7Dg0BFeVrojsODQEV5WuiOw4NARXla6I7Dg0BFeVrojsODQEV5WuiOw4NARXla6I7Dg0BFeVrojsODQEV5WuiOw4NARXla6I7Dg0BFeVrojsODQEV5WuiOw4NARXla6I7Dg0BFeVrojsODQEV5WuiOw4NARXla6I7Dg0BFeVrojsODQEV5WuiOw4NARXla6I7Dg0BFeVrojsODQEV5WuiOw4NARXla6I7Dg0BFeVrojsODQEV5WuiOw4NARXla6I7Dg0BFeVrojsODQEV5WuiOw4NARXla6I7Dg0BFeVrojsODQEV5WuiOw4NARXla6I7Dg0BFeVrojsODQEV5WuiOw4NARXla6I7Dg0BFeVrojsODQEV5WuiOw4NARXla6I7Dg0BFeVrojsODQEV5WuiOw4NARXla6I7Dg0BFeVrojsODQEV5WuiOw4NARXla6I7Dg0BFeVrojsODQEV5WuiOw4NARXla6I7Dg0BFeVrojsODQEV5WuiOw4NARXla6I7Dg0BFeVrojsODQEV5WuiOw4NARXla6I7Dg0BFeVrojsODQEV5WuiOw4NARXla6I7Dg0BFeVrojsODQEV5WuiOw4NARXla6I7Dg0D0/////5GBQEV5WuiOw4NARXla6I7Dg0BFeVrojsODQEV5WuiOw4NARXla6I7Dg0BFeVrojsODQEV5WuiOw4NARXla6I7Dg0BFeVrojsODQEV5WuiOw4NARXla6I7Dg0BFeVrojsODQEV5WuiOw4NARXla6I7Dg0BFeVrojsODQEV5WuiOw4NARXla6I7Dg0BFeVrojsODQEV5WuiOw4NARXla6I7Dg0BFeVrojsODQEV5WuiOw4NARXla6I7Dg0BFeVrojsODQEV5WuiOw4NARXla6I7Dg0BFeVrojsODQEV5WuiOw4NARXla6I7Dg0BFeVrojsODQEV5WuiOw4NARXla6I7Dg0BFeVrojsODQEV5WuiOw4NARXla6I7Dg0BFeVrojsODQEV5WuiOw4NARXla6I7Dg0BFeVrojsODQEV5WuiOw4NARXla6I7Dg0BFeVrojsODQEV5WuiOw4NARXla6I7Dg0BFeVrojsODQEV5WuiOw4NARXla6I7Dg0BFeVrojsODQEV5WuiOw4NARXla6I7Dg0BFeVrojsODQEV5WuiOw4NARXla6I7Dg0BFeVrojsODQEV5WuiOw4NARXla6I7Dg0BFeVrojsODQEV5WuiOw4NARXla6I7Dg0BFeVrojsODQEV5WuiOw4NARXla6I7Dg0BFeVrojsODQEV5WuiOw4NARXla6I7Dg0BFeVrojsODQEV5WuiOw4NARXla6I7Dg0BFeVrojsODQEV5WuiOw4NARXla6I7Dg0BFeVrojsODQEV5WuiOw4NARXla6I7Dg0BFeVrojsODQEV5WuiOw4NARXla6I7Dg0BFeVrojsODQEV5WuiOw4NARXla6I7Dg0BFeVrojsODQEV5WuiOw4NARXla6I7Dg0BFeVrojsODQEV5WuiOw4NARXla6I7Dg0BFeVrojsODQEV5WuiOw4NARXla6I7Dg0BFeVrojsODQEV5WuiOw4NARXla6I7Dg0BFeVrojsODQEV5WuiOw4NARXla6I7Dg0BFeVrojsODQEV5WuiOw4NARXla6I7Dg0BFeVrojsODQEV5WuiOw4NARXla6I7Dg0BFeVrojsODQEV5WuiOw4NARXla6I7Dg0BFeVrojsODQEV5WuiOw4NARXla6I7Dg0BFeVrojsODQEV5WuiOw4NARXla6I7Dg0BFeVrojsODQEV5WuiOw4NARXla6I7Dg0BFeVrojsODQEV5WuiOw4NARXla6I7Dg0BFeVrojsODQEV5WuiOw4NARXla6I7Dg0BFeVrojsODQEV5WuiOw4NARXla6I7Dg0BFeVrojsODQEV5WuiOw4NARXla6I7Dg0BFeVrojsODQEV5WuiOw4NARXla6I7Dg0BFeVrojsODQEV5WuiOw4NARXla6I7Dg0BFeVrojsODQEV5WuiOw4NARXla6I7Dg0BFeVrojsODQEV5WuiOw4NARXla6I7Dg0BFeVrojsODQEV5WuiOw4NARXla6I7Dg0BFeVrojsODQEV5WuiOw4NARXla6I7Dg0BFeVrojsODQEV5WuiOw4NARXla6I7Dg0BFeVrojsODQEV5WuiOw4NARXla6I7Dg0BFeVrojsODQEV5WuiOw4NARXla6I7Dg0BFeVrojsODQEV5WuiOw4NARXla6I7Dg0BFeVrojsODQEV5WuiOw4NARXla6I7Dg0BFeVrojsODQEV5WuiOw4NARXla6I7Dg0BFeVrojsODQEV5WuiOw4NARXla6I7Dg0BFeVrojsODQEV5WuiOw4NARXla6I7Dg0BFeVrojsODQEV5WuiOw4NARXla6I7Dg0BFeVrojsODQEV5WuiOw4NARXla6I7Dg0BFeVrojsODQEV5WuiOw4NARXla6I7Dg0BFeVrojsODQEV5WuiOw4NARXla6I7Dg0BFeVrojsODQEV5WuiOw4NARXla6I7Dg0BFeVrojsODQEV5WuiOw4NARXla6I7Dg0BFeVrojsODQEV5WuiOw4NARXla6I7Dg0BFeVrojsODQEV5WuiOw4NARXla6I7Dg0BFeVrojsODQEV5WuiOw4NARXla6I7Dg0BFeVrojsODQEV5WuiOw4NARXla6I7Dg0BFeVrojsODQEV5WuiOw4NARXla6I7Dg0BFeVrojsODQEV5WuiOw4NARXla6I7Dg0BFeVrojsODQEV5WuiOw4NARXla6I7Dg0BFeVrojsODQEV5WuiOw4NARXla6I7Dg0BFeVrojsODQEV5WuiOw4NARXla6I7Dg0BFeVrojsODQEV5WuiOw4NARXla6I7Dg0BFeVrojsODQEV5WuiOw4NARXla6I7Dg0BFeVrojsODQEV5WuiOw4NARXla6I7Dg0BFeVrojsODQEV5WuiOw4NARXla6I7Dg0BFeVrojsODQEV5WuiOw4NARXla6I7Dg0BFeVrojsODQEV5WuiOw4NARXla6I7Dg0BFeVrojsODQEV5WuiOw4NARXla6I7Dg0BFeVrojsODQEV5WuiOw4NARXla6I7Dg0BFeVrojsODQEV5WuiOw4NARXla6I7Dg0BFeVrojsODQEV5WuiOw4NARXla6I7Dg0BFeVrojsODQEV5WuiOw4NARXla6I7Dg0BFeVrojsODQEV5WuiOw4NARXla6I7Dg0BFeVrojsODQEV5WuiOw4NARXla6I7Dg0BFeVrojsODQEV5WuiOw4NARXla6I7Dg0BFeVrojsODQEV5WuiOw4NARXla6I7Dg0BFeVrojsODQEV5WuiOw4NARXla6I7Dg0BFeVrojsODQEV5WuiOw4NARXla6I7Dg0BFeVrojsODQEV5WuiOw4NARXla6I7Dg0BFeVrojsODQEV5WuiOw4NARXla6I7Dg0BFeVrojsODQEV5WuiOw4NARXla6I7Dg0BFeVrojsODQEV5WuiOw4NARXla6I7Dg0BFeVrojsODQEV5WuiOw4NARXla6I7Dg0BFeVrojsODQEV5WuiOw4NARXla6I7Dg0BFeVrojsODQEV5WuiOw4NARXla6I7Dg0BFeVrojsODQEV5WuiOw4NARXla6I7Dg0BFeVrojsODQEV5WuiOw4NARXla6I7Dg0BFeVrojsODQEV5WuiOw4NARXla6I7Dg0BFeVrojsODQEV5WuiOw4NARXla6I7Dg0BFeVrojsODQEV5WuiOw4NARXla6I7Dg0BFeVrojsODQEV5WuiOw4NARXla6I7Dg0BFeVrojsODQEV5WuiOw4NARXla6I7Dg0BFeVrojsODQEV5WuiOw4NARXla6I7Dg0BFeVrojsODQEV5WuiOw4NARXla6I7Dg0BFeVrojsODQEV5WuiOw4NARXla6I7Dg0BFeVrojsODQEV5WuiOw4NARXla6I7Dg0BFeVrojsODQEV5WuiOw4NARXla6I7Dg0BFeVrojsODQEV5WuiOw4NARXla6I7Dg0BFeVrojsODQEV5WuiOw4NARXla6I7Dg0BFeVrojsODQEV5WuiOw4NARXla6I7Dg0BFeVrojsODQEV5WuiOw4NARXla6I7Dg0BFeVrojsODQEV5WuiOw4NARXla6I7Dg0BFeVrojsODQEV5WuiOw4NARXla6I7Dg0BFeVrojsODQEV5WuiOw4NARXla6I7Dg0BFeVrojsODQEV5WuiOw4NARXla6I7Dg0BFeVrojsODQEV5WuiOw4NARXla6I7Dg0BFeVrojsODQEV5WuiOw4NARXla6I7Dg0BFeVrojsODQEV5WuiOw4NARXla6I7Dg0BFeVrojsODQEV5WuiOw4NARXla6I7Dg0BFeVrojsODQEV5WuiOw4NARXla6I7Dg0BFeVrojsODQEV5WuiOw4NARXla6I7Dg0BFeVrojsODQEV5WuiOw4NARXla6I7Dg0BFeVrojsODQEV5WuiOw4NARXla6I7Dg0BFeVrojsODQEV5WuiOw4NARXla6I7Dg0BFeVrojsODQEV5WuiOw4NARXla6I7Dg0BFeVrojsODQEV5WuiOw4NARXla6I7Dg0BFeVrojsODQEV5WuiOw4NARXla6I7Dg0BFeVrojsODQEV5WuiOw4NARXla6I7Dg0BFeVrojsODQEV5WuiOw4NARXla6I7Dg0BFeVrojsODQEV5WuiOw4NARXla6I7Dg0BFeVrojsODQEV5WuiOw4NARXla6I7Dg0BFeVrojsODQEV5WuiOw4NA9P////+RgUBFeVrojsODQEV5WuiOw4NARXla6I7Dg0BFeVrojsODQEV5WuiOw4NA9P////+RgUBFeVrojsODQEV5WuiOw4NARXla6I7Dg0BFeVrojsODQEV5WuiOw4NARXla6I7Dg0BFeVrojsODQEV5WuiOw4NARXla6I7Dg0BFeVrojsODQEV5WuiOw4NARXla6I7Dg0BFeVrojsODQEV5WuiOw4NARXla6I7Dg0BFeVrojsODQEV5WuiOw4NARXla6I7Dg0BFeVrojsODQEV5WuiOw4NARXla6I7Dg0BFeVrojsODQEV5WuiOw4NARXla6I7Dg0BFeVrojsODQEV5WuiOw4NARXla6I7Dg0BFeVrojsODQEV5WuiOw4NARXla6I7Dg0BFeVrojsODQEV5WuiOw4NARXla6I7Dg0BFeVrojsODQEV5WuiOw4NARXla6I7Dg0BFeVrojsODQEV5WuiOw4NARXla6I7Dg0BFeVrojsODQEV5WuiOw4NARXla6I7Dg0BFeVrojsODQEV5WuiOw4NARXla6I7Dg0BFeVrojsODQEV5WuiOw4NARXla6I7Dg0BFeVrojsODQEV5WuiOw4NARXla6I7Dg0BFeVrojsODQEV5WuiOw4NARXla6I7Dg0BFeVrojsODQEV5WuiOw4NARXla6I7Dg0BFeVrojsODQEV5WuiOw4NARXla6I7Dg0BFeVrojsODQEV5WuiOw4NARXla6I7Dg0BFeVrojsODQEV5WuiOw4NARXla6I7Dg0BFeVrojsODQEV5WuiOw4NARXla6I7Dg0BFeVrojsODQEV5WuiOw4NARXla6I7Dg0BFeVrojsODQEV5WuiOw4NARXla6I7Dg0BFeVrojsODQEV5WuiOw4NARXla6I7Dg0BFeVrojsODQEV5WuiOw4NARXla6I7Dg0BFeVrojsODQEV5WuiOw4NARXla6I7Dg0BFeVrojsODQEV5WuiOw4NARXla6I7Dg0BFeVrojsODQEV5WuiOw4NARXla6I7Dg0BFeVrojsODQEV5WuiOw4NARXla6I7Dg0BFeVrojsODQEV5WuiOw4NARXla6I7Dg0BFeVrojsODQEV5WuiOw4NARXla6I7Dg0BFeVrojsODQEV5WuiOw4NARXla6I7Dg0BFeVrojsODQEV5WuiOw4NARXla6I7Dg0BFeVrojsODQEV5WuiOw4NARXla6I7Dg0BFeVrojsODQEV5WuiOw4NARXla6I7Dg0BFeVrojsODQEV5WuiOw4NARXla6I7Dg0BFeVrojsODQEV5WuiOw4NARXla6I7Dg0BFeVrojsODQEV5WuiOw4NARXla6I7Dg0BFeVrojsODQEV5WuiOw4NARXla6I7Dg0BFeVrojsODQEV5WuiOw4NARXla6I7Dg0BFeVrojsODQEV5WuiOw4NARXla6I7Dg0BFeVrojsODQEV5WuiOw4NARXla6I7Dg0BFeVrojsODQEV5WuiOw4NARXla6I7Dg0BFeVrojsODQEV5WuiOw4NARXla6I7Dg0BFeVrojsODQEV5WuiOw4NARXla6I7Dg0BFeVrojsODQEV5WuiOw4NARXla6I7Dg0BFeVrojsODQEV5WuiOw4NARXla6I7Dg0BFeVrojsODQEV5WuiOw4NARXla6I7Dg0BFeVrojsODQEV5WuiOw4NARXla6I7Dg0BFeVrojsODQEV5WuiOw4NARXla6I7Dg0BFeVrojsODQEV5WuiOw4NARXla6I7Dg0BFeVrojsODQEV5WuiOw4NARXla6I7Dg0BFeVrojsODQEV5WuiOw4NARXla6I7Dg0BFeVrojsODQEV5WuiOw4NARXla6I7Dg0BFeVrojsODQEV5WuiOw4NARXla6I7Dg0BFeVrojsODQEV5WuiOw4NARXla6I7Dg0BFeVrojsODQEV5WuiOw4NARXla6I7Dg0BFeVrojsODQEV5WuiOw4NARXla6I7Dg0BFeVrojsODQEV5WuiOw4NARXla6I7Dg0BFeVrojsODQEV5WuiOw4NARXla6I7Dg0BFeVrojsODQEV5WuiOw4NARXla6I7Dg0BFeVrojsODQEV5WuiOw4NARXla6I7Dg0BFeVrojsODQEV5WuiOw4NARXla6I7Dg0BFeVrojsODQEV5WuiOw4NARXla6I7Dg0BFeVrojsODQEV5WuiOw4NARXla6I7Dg0BFeVrojsODQEV5WuiOw4NARXla6I7Dg0BFeVrojsODQEV5WuiOw4NARXla6I7Dg0BFeVrojsODQEV5WuiOw4NARXla6I7Dg0BFeVrojsODQEV5WuiOw4NARXla6I7Dg0BFeVrojsODQEV5WuiOw4NARXla6I7Dg0BFeVrojsODQEV5WuiOw4NARXla6I7Dg0BFeVrojsODQEV5WuiOw4NARXla6I7Dg0BFeVrojsODQEV5WuiOw4NARXla6I7Dg0BFeVrojsODQEV5WuiOw4NARXla6I7Dg0BFeVrojsODQEV5WuiOw4NARXla6I7Dg0BFeVrojsODQEV5WuiOw4NARXla6I7Dg0BFeVrojsODQEV5WuiOw4NARXla6I7Dg0BFeVrojsODQEV5WuiOw4NARXla6I7Dg0BFeVrojsODQEV5WuiOw4NARXla6I7Dg0BFeVrojsODQEV5WuiOw4NARXla6I7Dg0BFeVrojsODQEV5WuiOw4NARXla6I7Dg0BFeVrojsODQEV5WuiOw4NARXla6I7Dg0BFeVrojsODQEV5WuiOw4NARXla6I7Dg0BFeVrojsODQEV5WuiOw4NARXla6I7Dg0BFeVrojsODQEV5WuiOw4NARXla6I7Dg0BFeVrojsODQEV5WuiOw4NARXla6I7Dg0BFeVrojsODQEV5WuiOw4NARXla6I7Dg0BFeVrojsODQEV5WuiOw4NARXla6I7Dg0BFeVrojsODQEV5WuiOw4NARXla6I7Dg0BFeVrojsODQEV5WuiOw4NARXla6I7Dg0BFeVrojsODQEV5WuiOw4NARXla6I7Dg0BFeVrojsODQEV5WuiOw4NARXla6I7Dg0BFeVrojsODQEV5WuiOw4NARXla6I7Dg0BFeVrojsODQEV5WuiOw4NARXla6I7Dg0BFeVrojsODQEV5WuiOw4NARXla6I7Dg0BFeVrojsODQEV5WuiOw4NARXla6I7Dg0BFeVrojsODQEV5WuiOw4NARXla6I7Dg0BFeVrojsODQEV5WuiOw4NARXla6I7Dg0BFeVrojsODQEV5WuiOw4NARXla6I7Dg0BFeVrojsODQEV5WuiOw4NARXla6I7Dg0BFeVrojsODQEV5WuiOw4NARXla6I7Dg0BFeVrojsODQEV5WuiOw4NARXla6I7Dg0BFeVrojsODQEV5WuiOw4NARXla6I7Dg0BFeVrojsODQEV5WuiOw4NARXla6I7Dg0BFeVrojsODQEV5WuiOw4NARXla6I7Dg0BFeVrojsODQEV5WuiOw4NARXla6I7Dg0BFeVrojsODQEV5WuiOw4NARXla6I7Dg0BFeVrojsODQEV5WuiOw4NARXla6I7Dg0BFeVrojsODQEV5WuiOw4NARXla6I7Dg0BFeVrojsODQEV5WuiOw4NARXla6I7Dg0BFeVrojsODQEV5WuiOw4NARXla6I7Dg0BFeVrojsODQEV5WuiOw4NARXla6I7Dg0BFeVrojsODQEV5WuiOw4NARXla6I7Dg0BFeVrojsODQEV5WuiOw4NARXla6I7Dg0BFeVrojsODQEV5WuiOw4NARXla6I7Dg0BFeVrojsODQEV5WuiOw4NARXla6I7Dg0BFeVrojsODQEV5WuiOw4NARXla6I7Dg0BFeVrojsODQEV5WuiOw4NARXla6I7Dg0BFeVrojsODQEV5WuiOw4NARXla6I7Dg0BFeVrojsODQEV5WuiOw4NARXla6I7Dg0BFeVrojsODQEV5WuiOw4NARXla6I7Dg0BFeVrojsODQEV5WuiOw4NARXla6I7Dg0BFeVrojsODQEV5WuiOw4NARXla6I7Dg0BFeVrojsODQEV5WuiOw4NARXla6I7Dg0BFeVrojsODQEV5WuiOw4NARXla6I7Dg0BFeVrojsODQEV5WuiOw4NARXla6I7Dg0BFeVrojsODQEV5WuiOw4NARXla6I7Dg0BFeVrojsODQEV5WuiOw4NARXla6I7Dg0BFeVrojsODQEV5WuiOw4NARXla6I7Dg0BFeVrojsODQEV5WuiOw4NARXla6I7Dg0BFeVrojsODQEV5WuiOw4NARXla6I7Dg0BFeVrojsODQEV5WuiOw4NARXla6I7Dg0BFeVrojsODQEV5WuiOw4NARXla6I7Dg0BFeVrojsODQEV5WuiOw4NARXla6I7Dg0BFeVrojsODQEV5WuiOw4NARXla6I7Dg0A=\",\"dtype\":\"float64\",\"shape\":[1000]}},\"selected\":{\"id\":\"2983dd68-6a05-4c21-a827-1c80c4bd44f6\",\"type\":\"Selection\"},\"selection_policy\":{\"id\":\"69e540e4-5914-4f6d-9b55-0dc694bfce21\",\"type\":\"UnionRenderers\"}},\"id\":\"f0166e1b-3e21-4303-ab3a-0e8fbafa7dfd\",\"type\":\"ColumnDataSource\"},{\"attributes\":{},\"id\":\"45e14043-e532-4192-a497-6504344658db\",\"type\":\"UnionRenderers\"},{\"attributes\":{},\"id\":\"3be97c3b-4e43-4108-b262-2dcbfc103808\",\"type\":\"Selection\"},{\"attributes\":{},\"id\":\"7376a9c5-af9e-46ac-84a0-a9f6439670ea\",\"type\":\"UnionRenderers\"},{\"attributes\":{},\"id\":\"c80b6b08-e163-4560-925f-fd509308d712\",\"type\":\"PanTool\"},{\"attributes\":{},\"id\":\"22c5e629-796c-4f5b-ae31-87cfdb35546f\",\"type\":\"HelpTool\"},{\"attributes\":{},\"id\":\"ffb17e6e-d447-43e0-a4f1-7fd2d6eb3713\",\"type\":\"UnionRenderers\"},{\"attributes\":{\"callback\":null},\"id\":\"dfc04658-ee0b-4d97-92af-490877a72466\",\"type\":\"DataRange1d\"},{\"attributes\":{\"line_color\":\"purple\",\"line_width\":2,\"x\":{\"field\":\"x\"},\"y\":{\"field\":\"y\"}},\"id\":\"6f7e14d7-c0b8-436a-a5c8-fdb89ebdb353\",\"type\":\"Line\"},{\"attributes\":{\"source\":{\"id\":\"f0166e1b-3e21-4303-ab3a-0e8fbafa7dfd\",\"type\":\"ColumnDataSource\"}},\"id\":\"3a2a92ca-b14a-4a83-adcd-08d97118eef8\",\"type\":\"CDSView\"},{\"attributes\":{},\"id\":\"c0ec98cf-8d3b-4df5-89c2-5f78f097103e\",\"type\":\"BasicTicker\"},{\"attributes\":{\"data_source\":{\"id\":\"52e620d5-15e6-45b9-aabb-ddc37855ab72\",\"type\":\"ColumnDataSource\"},\"glyph\":{\"id\":\"6f7e14d7-c0b8-436a-a5c8-fdb89ebdb353\",\"type\":\"Line\"},\"hover_glyph\":null,\"muted_glyph\":null,\"nonselection_glyph\":{\"id\":\"5433fb8f-cf58-468e-ac75-5c5569aaa15a\",\"type\":\"Line\"},\"selection_glyph\":null,\"view\":{\"id\":\"c37e5511-330e-40dd-968d-ee093f28e1e7\",\"type\":\"CDSView\"}},\"id\":\"5c54a457-494f-4e1e-aaa1-f4eb72441929\",\"type\":\"GlyphRenderer\"},{\"attributes\":{\"callback\":null,\"data\":{\"x\":{\"__ndarray__\":\"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\",\"dtype\":\"float64\",\"shape\":[1000]},\"y\":{\"__ndarray__\":\"UXla6I7Dg0BReVrojsODQFF5WuiOw4NAUXla6I7Dg0BReVrojsODQFF5WuiOw4NAUXla6I7Dg0BReVrojsODQFF5WuiOw4NAUXla6I7Dg0BReVrojsODQFF5WuiOw4NAUXla6I7Dg0BReVrojsODQFF5WuiOw4NAUXla6I7Dg0BReVrojsODQFF5WuiOw4NAUXla6I7Dg0BReVrojsODQFF5WuiOw4NAUXla6I7Dg0BReVrojsODQFF5WuiOw4NAUXla6I7Dg0BReVrojsODQFF5WuiOw4NAUXla6I7Dg0BReVrojsODQFF5WuiOw4NAUXla6I7Dg0BReVrojsODQFF5WuiOw4NAUXla6I7Dg0BReVrojsODQFF5WuiOw4NAUXla6I7Dg0BReVrojsODQFF5WuiOw4NAUXla6I7Dg0AAAAAAAJKBQFF5WuiOw4NAUXla6I7Dg0BReVrojsODQFF5WuiOw4NAUXla6I7Dg0BReVrojsODQFF5WuiOw4NAUXla6I7Dg0BReVrojsODQFF5WuiOw4NAUXla6I7Dg0BReVrojsODQFF5WuiOw4NAUXla6I7Dg0BReVrojsODQFF5WuiOw4NAUXla6I7Dg0BReVrojsODQFF5WuiOw4NAUXla6I7Dg0BReVrojsODQFF5WuiOw4NAUXla6I7Dg0BReVrojsODQFF5WuiOw4NAUXla6I7Dg0BReVrojsODQFF5WuiOw4NAUXla6I7Dg0BReVrojsODQFF5WuiOw4NAUXla6I7Dg0BReVrojsODQFF5WuiOw4NAUXla6I7Dg0BReVrojsODQFF5WuiOw4NAUXla6I7Dg0BReVrojsODQFF5WuiOw4NAUXla6I7Dg0BReVrojsODQFF5WuiOw4NAUXla6I7Dg0BReVrojsODQFF5WuiOw4NAUXla6I7Dg0BReVrojsODQFF5WuiOw4NAUXla6I7Dg0BReVrojsODQFF5WuiOw4NAUXla6I7Dg0BReVrojsODQFF5WuiOw4NAUXla6I7Dg0BReVrojsODQFF5WuiOw4NAUXla6I7Dg0BReVrojsODQFF5WuiOw4NAUXla6I7Dg0BReVrojsODQFF5WuiOw4NAUXla6I7Dg0BReVrojsODQFF5WuiOw4NAUXla6I7Dg0BReVrojsODQFF5WuiOw4NAUXla6I7Dg0BReVrojsODQFF5WuiOw4NAUXla6I7Dg0BReVrojsODQFF5WuiOw4NAUXla6I7Dg0BReVrojsODQFF5WuiOw4NAUXla6I7Dg0BReVrojsODQFF5WuiOw4NAUXla6I7Dg0BReVrojsODQFF5WuiOw4NAUXla6I7Dg0BReVrojsODQFF5WuiOw4NAUXla6I7Dg0BReVrojsODQFF5WuiOw4NAUXla6I7Dg0BReVrojsODQFF5WuiOw4NAUXla6I7Dg0BReVrojsODQFF5WuiOw4NAUXla6I7Dg0BReVrojsODQFF5WuiOw4NAUXla6I7Dg0BReVrojsODQFF5WuiOw4NAUXla6I7Dg0BReVrojsODQFF5WuiOw4NAUXla6I7Dg0BReVrojsODQFF5WuiOw4NAUXla6I7Dg0BReVrojsODQFF5WuiOw4NAUXla6I7Dg0BReVrojsODQFF5WuiOw4NAUXla6I7Dg0BReVrojsODQFF5WuiOw4NAUXla6I7Dg0BReVrojsODQFF5WuiOw4NAUXla6I7Dg0BReVrojsODQFF5WuiOw4NAUXla6I7Dg0BReVrojsODQFF5WuiOw4NAUXla6I7Dg0BReVrojsODQFF5WuiOw4NAUXla6I7Dg0BReVrojsODQFF5WuiOw4NAUXla6I7Dg0BReVrojsODQFF5WuiOw4NAUXla6I7Dg0BReVrojsODQFF5WuiOw4NAUXla6I7Dg0BReVrojsODQFF5WuiOw4NAUXla6I7Dg0BReVrojsODQFF5WuiOw4NAUXla6I7Dg0AAAAAAAJKBQFF5WuiOw4NAUXla6I7Dg0BReVrojsODQFF5WuiOw4NAUXla6I7Dg0BReVrojsODQFF5WuiOw4NAUXla6I7Dg0BReVrojsODQFF5WuiOw4NAUXla6I7Dg0BReVrojsODQFF5WuiOw4NAUXla6I7Dg0BReVrojsODQFF5WuiOw4NAUXla6I7Dg0BReVrojsODQFF5WuiOw4NAUXla6I7Dg0BReVrojsODQFF5WuiOw4NAUXla6I7Dg0BReVrojsODQFF5WuiOw4NAUXla6I7Dg0BReVrojsODQFF5WuiOw4NAUXla6I7Dg0BReVrojsODQFF5WuiOw4NAUXla6I7Dg0BReVrojsODQFF5WuiOw4NAUXla6I7Dg0BReVrojsODQFF5WuiOw4NAUXla6I7Dg0BReVrojsODQFF5WuiOw4NAUXla6I7Dg0BReVrojsODQFF5WuiOw4NAUXla6I7Dg0BReVrojsODQFF5WuiOw4NAUXla6I7Dg0BReVrojsODQFF5WuiOw4NAUXla6I7Dg0BReVrojsODQFF5WuiOw4NAUXla6I7Dg0BReVrojsODQFF5WuiOw4NAUXla6I7Dg0BReVrojsODQFF5WuiOw4NAUXla6I7Dg0BReVrojsODQFF5WuiOw4NAUXla6I7Dg0BReVrojsODQFF5WuiOw4NAUXla6I7Dg0BReVrojsODQFF5WuiOw4NAUXla6I7Dg0BReVrojsODQFF5WuiOw4NAUXla6I7Dg0BReVrojsODQFF5WuiOw4NAUXla6I7Dg0BReVrojsODQFF5WuiOw4NAUXla6I7Dg0BReVrojsODQFF5WuiOw4NAUXla6I7Dg0BReVrojsODQFF5WuiOw4NAUXla6I7Dg0BReVrojsODQFF5WuiOw4NAUXla6I7Dg0BReVrojsODQFF5WuiOw4NAUXla6I7Dg0BReVrojsODQFF5WuiOw4NAUXla6I7Dg0BReVrojsODQFF5WuiOw4NAUXla6I7Dg0BReVrojsODQFF5WuiOw4NAUXla6I7Dg0BReVrojsODQFF5WuiOw4NAUXla6I7Dg0BReVrojsODQFF5WuiOw4NAUXla6I7Dg0BReVrojsODQFF5WuiOw4NAUXla6I7Dg0BReVrojsODQFF5WuiOw4NAUXla6I7Dg0BReVrojsODQFF5WuiOw4NAUXla6I7Dg0BReVrojsODQFF5WuiOw4NAUXla6I7Dg0BReVrojsODQFF5WuiOw4NAUXla6I7Dg0BReVrojsODQFF5WuiOw4NAUXla6I7Dg0BReVrojsODQFF5WuiOw4NAUXla6I7Dg0BReVrojsODQFF5WuiOw4NAUXla6I7Dg0BReVrojsODQFF5WuiOw4NAUXla6I7Dg0BReVrojsODQFF5WuiOw4NAUXla6I7Dg0BReVrojsODQFF5WuiOw4NAUXla6I7Dg0BReVrojsODQFF5WuiOw4NAUXla6I7Dg0BReVrojsODQFF5WuiOw4NAUXla6I7Dg0BReVrojsODQFF5WuiOw4NAUXla6I7Dg0BReVrojsODQFF5WuiOw4NAUXla6I7Dg0BReVrojsODQFF5WuiOw4NAUXla6I7Dg0BReVrojsODQFF5WuiOw4NAUXla6I7Dg0BReVrojsODQFF5WuiOw4NAUXla6I7Dg0BReVrojsODQFF5WuiOw4NAUXla6I7Dg0BReVrojsODQFF5WuiOw4NAUXla6I7Dg0BReVrojsODQFF5WuiOw4NAUXla6I7Dg0BReVrojsODQFF5WuiOw4NAUXla6I7Dg0BReVrojsODQFF5WuiOw4NAUXla6I7Dg0BReVrojsODQFF5WuiOw4NAUXla6I7Dg0BReVrojsODQFF5WuiOw4NAUXla6I7Dg0BReVrojsODQFF5WuiOw4NAUXla6I7Dg0BReVrojsODQFF5WuiOw4NAUXla6I7Dg0BReVrojsODQFF5WuiOw4NAUXla6I7Dg0BReVrojsODQFF5WuiOw4NAUXla6I7Dg0BReVrojsODQFF5WuiOw4NAUXla6I7Dg0BReVrojsODQFF5WuiOw4NAUXla6I7Dg0BReVrojsODQFF5WuiOw4NAUXla6I7Dg0BReVrojsODQFF5WuiOw4NAUXla6I7Dg0BReVrojsODQFF5WuiOw4NAUXla6I7Dg0BReVrojsODQFF5WuiOw4NAUXla6I7Dg0BReVrojsODQFF5WuiOw4NAUXla6I7Dg0BReVrojsODQFF5WuiOw4NAUXla6I7Dg0BReVrojsODQFF5WuiOw4NAUXla6I7Dg0BReVrojsODQFF5WuiOw4NAUXla6I7Dg0BReVrojsODQFF5WuiOw4NAUXla6I7Dg0BReVrojsODQFF5WuiOw4NAUXla6I7Dg0BReVrojsODQFF5WuiOw4NAUXla6I7Dg0BReVrojsODQFF5WuiOw4NAUXla6I7Dg0BReVrojsODQFF5WuiOw4NAUXla6I7Dg0BReVrojsODQFF5WuiOw4NAUXla6I7Dg0BReVrojsODQFF5WuiOw4NAUXla6I7Dg0BReVrojsODQFF5WuiOw4NAUXla6I7Dg0BReVrojsODQFF5WuiOw4NAUXla6I7Dg0BReVrojsODQFF5WuiOw4NAUXla6I7Dg0BReVrojsODQFF5WuiOw4NAUXla6I7Dg0BReVrojsODQFF5WuiOw4NAUXla6I7Dg0BReVrojsODQFF5WuiOw4NAUXla6I7Dg0BReVrojsODQFF5WuiOw4NAUXla6I7Dg0BReVrojsODQFF5WuiOw4NAUXla6I7Dg0BReVrojsODQFF5WuiOw4NAUXla6I7Dg0BReVrojsODQFF5WuiOw4NAUXla6I7Dg0BReVrojsODQFF5WuiOw4NAUXla6I7Dg0BReVrojsODQFF5WuiOw4NAUXla6I7Dg0BReVrojsODQFF5WuiOw4NAUXla6I7Dg0BReVrojsODQFF5WuiOw4NAUXla6I7Dg0BReVrojsODQFF5WuiOw4NAUXla6I7Dg0BReVrojsODQFF5WuiOw4NAUXla6I7Dg0BReVrojsODQFF5WuiOw4NAUXla6I7Dg0BReVrojsODQFF5WuiOw4NAUXla6I7Dg0BReVrojsODQFF5WuiOw4NAUXla6I7Dg0BReVrojsODQFF5WuiOw4NAUXla6I7Dg0BReVrojsODQFF5WuiOw4NAUXla6I7Dg0BReVrojsODQFF5WuiOw4NAUXla6I7Dg0BReVrojsODQFF5WuiOw4NAUXla6I7Dg0BReVrojsODQFF5WuiOw4NAUXla6I7Dg0BReVrojsODQFF5WuiOw4NAUXla6I7Dg0BReVrojsODQFF5WuiOw4NAUXla6I7Dg0BReVrojsODQFF5WuiOw4NAUXla6I7Dg0BReVrojsODQFF5WuiOw4NAUXla6I7Dg0BReVrojsODQFF5WuiOw4NAUXla6I7Dg0BReVrojsODQFF5WuiOw4NAUXla6I7Dg0BReVrojsODQFF5WuiOw4NAUXla6I7Dg0BReVrojsODQFF5WuiOw4NAUXla6I7Dg0BReVrojsODQFF5WuiOw4NAUXla6I7Dg0BReVrojsODQFF5WuiOw4NAUXla6I7Dg0BReVrojsODQFF5WuiOw4NAUXla6I7Dg0BReVrojsODQFF5WuiOw4NAUXla6I7Dg0BReVrojsODQFF5WuiOw4NAUXla6I7Dg0BReVrojsODQFF5WuiOw4NAUXla6I7Dg0BReVrojsODQFF5WuiOw4NAUXla6I7Dg0BReVrojsODQFF5WuiOw4NAUXla6I7Dg0BReVrojsODQFF5WuiOw4NAUXla6I7Dg0BReVrojsODQFF5WuiOw4NAUXla6I7Dg0BReVrojsODQFF5WuiOw4NAUXla6I7Dg0BReVrojsODQFF5WuiOw4NAUXla6I7Dg0BReVrojsODQFF5WuiOw4NAUXla6I7Dg0BReVrojsODQFF5WuiOw4NAUXla6I7Dg0BReVrojsODQFF5WuiOw4NAUXla6I7Dg0BReVrojsODQFF5WuiOw4NAUXla6I7Dg0BReVrojsODQFF5WuiOw4NAUXla6I7Dg0BReVrojsODQFF5WuiOw4NAUXla6I7Dg0BReVrojsODQFF5WuiOw4NAAAAAAACSgUBReVrojsODQFF5WuiOw4NAUXla6I7Dg0BReVrojsODQFF5WuiOw4NAAAAAAACSgUBReVrojsODQFF5WuiOw4NAUXla6I7Dg0BReVrojsODQFF5WuiOw4NAUXla6I7Dg0BReVrojsODQFF5WuiOw4NAUXla6I7Dg0BReVrojsODQFF5WuiOw4NAUXla6I7Dg0BReVrojsODQFF5WuiOw4NAUXla6I7Dg0BReVrojsODQFF5WuiOw4NAUXla6I7Dg0BReVrojsODQFF5WuiOw4NAUXla6I7Dg0BReVrojsODQFF5WuiOw4NAUXla6I7Dg0BReVrojsODQFF5WuiOw4NAUXla6I7Dg0BReVrojsODQFF5WuiOw4NAUXla6I7Dg0BReVrojsODQFF5WuiOw4NAUXla6I7Dg0BReVrojsODQFF5WuiOw4NAUXla6I7Dg0BReVrojsODQFF5WuiOw4NAUXla6I7Dg0BReVrojsODQFF5WuiOw4NAUXla6I7Dg0BReVrojsODQFF5WuiOw4NAUXla6I7Dg0BReVrojsODQFF5WuiOw4NAUXla6I7Dg0BReVrojsODQFF5WuiOw4NAUXla6I7Dg0BReVrojsODQFF5WuiOw4NAUXla6I7Dg0BReVrojsODQFF5WuiOw4NAUXla6I7Dg0BReVrojsODQFF5WuiOw4NAUXla6I7Dg0BReVrojsODQFF5WuiOw4NAUXla6I7Dg0BReVrojsODQFF5WuiOw4NAUXla6I7Dg0BReVrojsODQFF5WuiOw4NAUXla6I7Dg0BReVrojsODQFF5WuiOw4NAUXla6I7Dg0BReVrojsODQFF5WuiOw4NAUXla6I7Dg0BReVrojsODQFF5WuiOw4NAUXla6I7Dg0BReVrojsODQFF5WuiOw4NAUXla6I7Dg0BReVrojsODQFF5WuiOw4NAUXla6I7Dg0BReVrojsODQFF5WuiOw4NAUXla6I7Dg0BReVrojsODQFF5WuiOw4NAUXla6I7Dg0BReVrojsODQFF5WuiOw4NAUXla6I7Dg0BReVrojsODQFF5WuiOw4NAUXla6I7Dg0BReVrojsODQFF5WuiOw4NAUXla6I7Dg0BReVrojsODQFF5WuiOw4NAUXla6I7Dg0BReVrojsODQFF5WuiOw4NAUXla6I7Dg0BReVrojsODQFF5WuiOw4NAUXla6I7Dg0BReVrojsODQFF5WuiOw4NAUXla6I7Dg0BReVrojsODQFF5WuiOw4NAUXla6I7Dg0BReVrojsODQFF5WuiOw4NAUXla6I7Dg0BReVrojsODQFF5WuiOw4NAUXla6I7Dg0BReVrojsODQFF5WuiOw4NAUXla6I7Dg0BReVrojsODQFF5WuiOw4NAUXla6I7Dg0BReVrojsODQFF5WuiOw4NAUXla6I7Dg0BReVrojsODQFF5WuiOw4NAUXla6I7Dg0BReVrojsODQFF5WuiOw4NAUXla6I7Dg0BReVrojsODQFF5WuiOw4NAUXla6I7Dg0BReVrojsODQFF5WuiOw4NAUXla6I7Dg0BReVrojsODQFF5WuiOw4NAUXla6I7Dg0BReVrojsODQFF5WuiOw4NAUXla6I7Dg0BReVrojsODQFF5WuiOw4NAUXla6I7Dg0BReVrojsODQFF5WuiOw4NAUXla6I7Dg0BReVrojsODQFF5WuiOw4NAUXla6I7Dg0BReVrojsODQFF5WuiOw4NAUXla6I7Dg0BReVrojsODQFF5WuiOw4NAUXla6I7Dg0BReVrojsODQFF5WuiOw4NAUXla6I7Dg0BReVrojsODQFF5WuiOw4NAUXla6I7Dg0BReVrojsODQFF5WuiOw4NAUXla6I7Dg0BReVrojsODQFF5WuiOw4NAUXla6I7Dg0BReVrojsODQFF5WuiOw4NAUXla6I7Dg0BReVrojsODQFF5WuiOw4NAUXla6I7Dg0BReVrojsODQFF5WuiOw4NAUXla6I7Dg0BReVrojsODQFF5WuiOw4NAUXla6I7Dg0BReVrojsODQFF5WuiOw4NAUXla6I7Dg0BReVrojsODQFF5WuiOw4NAUXla6I7Dg0BReVrojsODQFF5WuiOw4NAUXla6I7Dg0BReVrojsODQFF5WuiOw4NAUXla6I7Dg0BReVrojsODQFF5WuiOw4NAUXla6I7Dg0BReVrojsODQFF5WuiOw4NAUXla6I7Dg0BReVrojsODQFF5WuiOw4NAUXla6I7Dg0BReVrojsODQFF5WuiOw4NAUXla6I7Dg0BReVrojsODQFF5WuiOw4NAUXla6I7Dg0BReVrojsODQFF5WuiOw4NAUXla6I7Dg0BReVrojsODQFF5WuiOw4NAUXla6I7Dg0BReVrojsODQFF5WuiOw4NAUXla6I7Dg0BReVrojsODQFF5WuiOw4NAUXla6I7Dg0BReVrojsODQFF5WuiOw4NAUXla6I7Dg0BReVrojsODQFF5WuiOw4NAUXla6I7Dg0BReVrojsODQFF5WuiOw4NAUXla6I7Dg0BReVrojsODQFF5WuiOw4NAUXla6I7Dg0BReVrojsODQFF5WuiOw4NAUXla6I7Dg0BReVrojsODQFF5WuiOw4NAUXla6I7Dg0BReVrojsODQFF5WuiOw4NAUXla6I7Dg0BReVrojsODQFF5WuiOw4NAUXla6I7Dg0BReVrojsODQFF5WuiOw4NAUXla6I7Dg0BReVrojsODQFF5WuiOw4NAUXla6I7Dg0BReVrojsODQFF5WuiOw4NAUXla6I7Dg0BReVrojsODQFF5WuiOw4NAUXla6I7Dg0BReVrojsODQFF5WuiOw4NAUXla6I7Dg0BReVrojsODQFF5WuiOw4NAUXla6I7Dg0BReVrojsODQFF5WuiOw4NAUXla6I7Dg0BReVrojsODQFF5WuiOw4NAUXla6I7Dg0BReVrojsODQFF5WuiOw4NAUXla6I7Dg0BReVrojsODQFF5WuiOw4NAUXla6I7Dg0BReVrojsODQFF5WuiOw4NAUXla6I7Dg0BReVrojsODQFF5WuiOw4NAUXla6I7Dg0BReVrojsODQFF5WuiOw4NAUXla6I7Dg0BReVrojsODQFF5WuiOw4NAUXla6I7Dg0BReVrojsODQFF5WuiOw4NAUXla6I7Dg0BReVrojsODQFF5WuiOw4NAUXla6I7Dg0BReVrojsODQFF5WuiOw4NAUXla6I7Dg0BReVrojsODQFF5WuiOw4NAUXla6I7Dg0BReVrojsODQFF5WuiOw4NAUXla6I7Dg0BReVrojsODQFF5WuiOw4NAUXla6I7Dg0BReVrojsODQFF5WuiOw4NAUXla6I7Dg0BReVrojsODQFF5WuiOw4NAUXla6I7Dg0BReVrojsODQFF5WuiOw4NAUXla6I7Dg0BReVrojsODQFF5WuiOw4NAUXla6I7Dg0BReVrojsODQFF5WuiOw4NAUXla6I7Dg0BReVrojsODQFF5WuiOw4NAUXla6I7Dg0BReVrojsODQFF5WuiOw4NAUXla6I7Dg0BReVrojsODQFF5WuiOw4NAUXla6I7Dg0BReVrojsODQFF5WuiOw4NAUXla6I7Dg0BReVrojsODQFF5WuiOw4NAUXla6I7Dg0BReVrojsODQFF5WuiOw4NAUXla6I7Dg0BReVrojsODQFF5WuiOw4NAUXla6I7Dg0BReVrojsODQFF5WuiOw4NAUXla6I7Dg0BReVrojsODQFF5WuiOw4NAUXla6I7Dg0BReVrojsODQFF5WuiOw4NAUXla6I7Dg0BReVrojsODQFF5WuiOw4NAUXla6I7Dg0BReVrojsODQFF5WuiOw4NAUXla6I7Dg0BReVrojsODQFF5WuiOw4NAUXla6I7Dg0BReVrojsODQFF5WuiOw4NAUXla6I7Dg0BReVrojsODQFF5WuiOw4NAUXla6I7Dg0BReVrojsODQFF5WuiOw4NAUXla6I7Dg0BReVrojsODQFF5WuiOw4NAUXla6I7Dg0BReVrojsODQFF5WuiOw4NAUXla6I7Dg0BReVrojsODQFF5WuiOw4NAUXla6I7Dg0BReVrojsODQFF5WuiOw4NAUXla6I7Dg0BReVrojsODQFF5WuiOw4NAUXla6I7Dg0BReVrojsODQFF5WuiOw4NAUXla6I7Dg0BReVrojsODQFF5WuiOw4NAUXla6I7Dg0BReVrojsODQFF5WuiOw4NAUXla6I7Dg0BReVrojsODQFF5WuiOw4NAUXla6I7Dg0BReVrojsODQFF5WuiOw4NAUXla6I7Dg0BReVrojsODQFF5WuiOw4NAUXla6I7Dg0BReVrojsODQFF5WuiOw4NAUXla6I7Dg0BReVrojsODQFF5WuiOw4NAUXla6I7Dg0A=\",\"dtype\":\"float64\",\"shape\":[1000]}},\"selected\":{\"id\":\"3be97c3b-4e43-4108-b262-2dcbfc103808\",\"type\":\"Selection\"},\"selection_policy\":{\"id\":\"7376a9c5-af9e-46ac-84a0-a9f6439670ea\",\"type\":\"UnionRenderers\"}},\"id\":\"41bfed47-c8f0-49d5-9c81-2ffde57d5374\",\"type\":\"ColumnDataSource\"},{\"attributes\":{\"plot\":{\"id\":\"d3738d38-45c5-4426-8357-c69ba64f1c4d\",\"subtype\":\"Figure\",\"type\":\"Plot\"},\"ticker\":{\"id\":\"c0ec98cf-8d3b-4df5-89c2-5f78f097103e\",\"type\":\"BasicTicker\"}},\"id\":\"d607c33c-e7d9-4e4f-aa9c-07c22ee4ca38\",\"type\":\"Grid\"}],\"root_ids\":[\"d3738d38-45c5-4426-8357-c69ba64f1c4d\"]},\"title\":\"Bokeh Application\",\"version\":\"0.12.16\"}};\n",
       "  var render_items = [{\"docid\":\"b7ac2a9b-95da-4ae7-92b6-b1628a14836e\",\"elementid\":\"91665c9b-7451-4f85-b2c4-a05bb4da34d7\",\"modelid\":\"d3738d38-45c5-4426-8357-c69ba64f1c4d\",\"notebook_comms_target\":\"0e59388a-6947-43a9-8c39-b6d46f04e3b9\"}];\n",
       "  root.Bokeh.embed.embed_items_notebook(docs_json, render_items);\n",
       "\n",
       "  }\n",
       "  if (root.Bokeh !== undefined) {\n",
       "    embed_document(root);\n",
       "  } else {\n",
       "    var attempts = 0;\n",
       "    var timer = setInterval(function(root) {\n",
       "      if (root.Bokeh !== undefined) {\n",
       "        embed_document(root);\n",
       "        clearInterval(timer);\n",
       "      }\n",
       "      attempts++;\n",
       "      if (attempts > 100) {\n",
       "        console.log(\"Bokeh: ERROR: Unable to run BokehJS code because BokehJS library is missing\")\n",
       "        clearInterval(timer);\n",
       "      }\n",
       "    }, 10, root)\n",
       "  }\n",
       "})(window);"
      ],
      "application/vnd.bokehjs_exec.v0+json": ""
     },
     "metadata": {
      "application/vnd.bokehjs_exec.v0+json": {
       "id": "d3738d38-45c5-4426-8357-c69ba64f1c4d"
      }
     },
     "output_type": "display_data"
    },
    {
     "data": {
      "text/html": [
       "<p><code>&lt;Bokeh Notebook handle for <strong>In[252]</strong>&gt;</code></p>"
      ],
      "text/plain": [
       "<bokeh.io.notebook.CommsHandle at 0x7f135ac17860>"
      ]
     },
     "execution_count": 252,
     "metadata": {},
     "output_type": "execute_result"
    }
   ],
   "source": [
    "style = {'description_width': '125px'}\n",
    "\n",
    "m = widgets.SelectMultiple(\n",
    "    options=X_names,\n",
    "    value=X_names,\n",
    "    rows=10,\n",
    "    description='Selected Features:',\n",
    "    disabled=False,\n",
    "    layout=Layout(width='50%', height='200px', border='1px dotted blue'),\n",
    "    style=style\n",
    ")\n",
    "\n",
    "def update_regression(features):\n",
    "    X_selected = list(features)\n",
    "    \n",
    "    # update predictions based on selected features:\n",
    "    X_train, y_train, lm_train_pred = make_predictions(x_train_sample, y_train_sample, X_selected)\n",
    "    \n",
    "    regdummy.fit(X_train, y_train)\n",
    "    dummy_y = regdummy.predict(X_train)\n",
    "    \n",
    "    x_arr, y_arr = make_plot_arrays(X_train, lm_train_pred)\n",
    "    \n",
    "    # update plots:\n",
    "    r1.data_source.data['x'] = x_arr\n",
    "    r1.data_source.data['y'] = y_train\n",
    "    \n",
    "    r2.data_source.data['x'] = x_arr\n",
    "    r2.data_source.data['y'] = lm_train_pred\n",
    "    \n",
    "    r3.data_source.data['x'] = x_arr\n",
    "    r3.data_source.data['y'] = y_arr\n",
    "    \n",
    "    pred_r2 = calc_r2(y_train, lm_train_pred)\n",
    "    baseline_r2 = calc_r2(y_train, dummy_y)\n",
    "    \n",
    "    print('Predicted R^2 on sample data: {}'.format(pred_r2))\n",
    "    print('Baseline R^2: {}'.format(baseline_r2))\n",
    "    push_notebook()\n",
    "    \n",
    "interact_manual(update_regression, features = m)\n",
    "show(p, notebook_handle=True)"
   ]
  }
 ],
 "metadata": {
  "kernelspec": {
   "display_name": "conda_python3",
   "language": "python",
   "name": "conda_python3"
  },
  "language_info": {
   "codemirror_mode": {
    "name": "ipython",
    "version": 3
   },
   "file_extension": ".py",
   "mimetype": "text/x-python",
   "name": "python",
   "nbconvert_exporter": "python",
   "pygments_lexer": "ipython3",
   "version": "3.6.4"
  }
 },
 "nbformat": 4,
 "nbformat_minor": 2
}
