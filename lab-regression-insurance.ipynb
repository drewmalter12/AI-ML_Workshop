{
 "cells": [
  {
   "cell_type": "code",
   "execution_count": 252,
   "metadata": {},
   "outputs": [],
   "source": [
    "import os\n",
    "import matplotlib.pyplot as plt\n",
    "import numpy as np\n",
    "import pandas as pd\n",
    "import seaborn as sns\n",
    "import statsmodels.api as sm\n",
    "import warnings\n",
    "\n",
    "from ipywidgets import interact, widgets\n",
    "\n",
    "from bokeh.io import push_notebook, show, output_notebook, curdoc\n",
    "from bokeh.plotting import figure\n",
    "from bokeh.models.annotations import Title\n",
    "from bokeh.models.widgets import MultiSelect\n",
    "from bokeh.models import Button\n",
    "from bokeh.layouts import widgetbox, column, row\n",
    "\n",
    "from sklearn.model_selection import train_test_split\n",
    "from sklearn import linear_model\n",
    "\n",
    "%matplotlib inline\n",
    "warnings.filterwarnings('ignore')"
   ]
  },
  {
   "cell_type": "code",
   "execution_count": 253,
   "metadata": {},
   "outputs": [
    {
     "data": {
      "text/html": [
       "<div>\n",
       "<style scoped>\n",
       "    .dataframe tbody tr th:only-of-type {\n",
       "        vertical-align: middle;\n",
       "    }\n",
       "\n",
       "    .dataframe tbody tr th {\n",
       "        vertical-align: top;\n",
       "    }\n",
       "\n",
       "    .dataframe thead th {\n",
       "        text-align: right;\n",
       "    }\n",
       "</style>\n",
       "<table border=\"1\" class=\"dataframe\">\n",
       "  <thead>\n",
       "    <tr style=\"text-align: right;\">\n",
       "      <th></th>\n",
       "      <th>customer_ID</th>\n",
       "      <th>shopping_pt</th>\n",
       "      <th>record_type</th>\n",
       "      <th>day</th>\n",
       "      <th>time</th>\n",
       "      <th>state</th>\n",
       "      <th>location</th>\n",
       "      <th>group_size</th>\n",
       "      <th>homeowner</th>\n",
       "      <th>car_age</th>\n",
       "      <th>...</th>\n",
       "      <th>C_previous</th>\n",
       "      <th>duration_previous</th>\n",
       "      <th>A</th>\n",
       "      <th>B</th>\n",
       "      <th>C</th>\n",
       "      <th>D</th>\n",
       "      <th>E</th>\n",
       "      <th>F</th>\n",
       "      <th>G</th>\n",
       "      <th>cost</th>\n",
       "    </tr>\n",
       "  </thead>\n",
       "  <tbody>\n",
       "    <tr>\n",
       "      <th>0</th>\n",
       "      <td>10000000</td>\n",
       "      <td>1</td>\n",
       "      <td>0</td>\n",
       "      <td>0</td>\n",
       "      <td>8:35</td>\n",
       "      <td>IN</td>\n",
       "      <td>10001</td>\n",
       "      <td>2</td>\n",
       "      <td>0</td>\n",
       "      <td>2</td>\n",
       "      <td>...</td>\n",
       "      <td>1.0</td>\n",
       "      <td>2.0</td>\n",
       "      <td>1</td>\n",
       "      <td>0</td>\n",
       "      <td>2</td>\n",
       "      <td>2</td>\n",
       "      <td>1</td>\n",
       "      <td>2</td>\n",
       "      <td>2</td>\n",
       "      <td>633</td>\n",
       "    </tr>\n",
       "    <tr>\n",
       "      <th>1</th>\n",
       "      <td>10000000</td>\n",
       "      <td>2</td>\n",
       "      <td>0</td>\n",
       "      <td>0</td>\n",
       "      <td>8:38</td>\n",
       "      <td>IN</td>\n",
       "      <td>10001</td>\n",
       "      <td>2</td>\n",
       "      <td>0</td>\n",
       "      <td>2</td>\n",
       "      <td>...</td>\n",
       "      <td>1.0</td>\n",
       "      <td>2.0</td>\n",
       "      <td>1</td>\n",
       "      <td>0</td>\n",
       "      <td>2</td>\n",
       "      <td>2</td>\n",
       "      <td>1</td>\n",
       "      <td>2</td>\n",
       "      <td>1</td>\n",
       "      <td>630</td>\n",
       "    </tr>\n",
       "    <tr>\n",
       "      <th>2</th>\n",
       "      <td>10000000</td>\n",
       "      <td>3</td>\n",
       "      <td>0</td>\n",
       "      <td>0</td>\n",
       "      <td>8:38</td>\n",
       "      <td>IN</td>\n",
       "      <td>10001</td>\n",
       "      <td>2</td>\n",
       "      <td>0</td>\n",
       "      <td>2</td>\n",
       "      <td>...</td>\n",
       "      <td>1.0</td>\n",
       "      <td>2.0</td>\n",
       "      <td>1</td>\n",
       "      <td>0</td>\n",
       "      <td>2</td>\n",
       "      <td>2</td>\n",
       "      <td>1</td>\n",
       "      <td>2</td>\n",
       "      <td>1</td>\n",
       "      <td>630</td>\n",
       "    </tr>\n",
       "    <tr>\n",
       "      <th>3</th>\n",
       "      <td>10000000</td>\n",
       "      <td>4</td>\n",
       "      <td>0</td>\n",
       "      <td>0</td>\n",
       "      <td>8:39</td>\n",
       "      <td>IN</td>\n",
       "      <td>10001</td>\n",
       "      <td>2</td>\n",
       "      <td>0</td>\n",
       "      <td>2</td>\n",
       "      <td>...</td>\n",
       "      <td>1.0</td>\n",
       "      <td>2.0</td>\n",
       "      <td>1</td>\n",
       "      <td>0</td>\n",
       "      <td>2</td>\n",
       "      <td>2</td>\n",
       "      <td>1</td>\n",
       "      <td>2</td>\n",
       "      <td>1</td>\n",
       "      <td>630</td>\n",
       "    </tr>\n",
       "    <tr>\n",
       "      <th>4</th>\n",
       "      <td>10000000</td>\n",
       "      <td>5</td>\n",
       "      <td>0</td>\n",
       "      <td>0</td>\n",
       "      <td>11:55</td>\n",
       "      <td>IN</td>\n",
       "      <td>10001</td>\n",
       "      <td>2</td>\n",
       "      <td>0</td>\n",
       "      <td>2</td>\n",
       "      <td>...</td>\n",
       "      <td>1.0</td>\n",
       "      <td>2.0</td>\n",
       "      <td>1</td>\n",
       "      <td>0</td>\n",
       "      <td>2</td>\n",
       "      <td>2</td>\n",
       "      <td>1</td>\n",
       "      <td>2</td>\n",
       "      <td>1</td>\n",
       "      <td>630</td>\n",
       "    </tr>\n",
       "  </tbody>\n",
       "</table>\n",
       "<p>5 rows × 25 columns</p>\n",
       "</div>"
      ],
      "text/plain": [
       "   customer_ID  shopping_pt  record_type  day   time state  location  \\\n",
       "0     10000000            1            0    0   8:35    IN     10001   \n",
       "1     10000000            2            0    0   8:38    IN     10001   \n",
       "2     10000000            3            0    0   8:38    IN     10001   \n",
       "3     10000000            4            0    0   8:39    IN     10001   \n",
       "4     10000000            5            0    0  11:55    IN     10001   \n",
       "\n",
       "   group_size  homeowner  car_age  ...  C_previous  duration_previous  A  B  \\\n",
       "0           2          0        2  ...         1.0                2.0  1  0   \n",
       "1           2          0        2  ...         1.0                2.0  1  0   \n",
       "2           2          0        2  ...         1.0                2.0  1  0   \n",
       "3           2          0        2  ...         1.0                2.0  1  0   \n",
       "4           2          0        2  ...         1.0                2.0  1  0   \n",
       "\n",
       "   C  D  E  F  G  cost  \n",
       "0  2  2  1  2  2   633  \n",
       "1  2  2  1  2  1   630  \n",
       "2  2  2  1  2  1   630  \n",
       "3  2  2  1  2  1   630  \n",
       "4  2  2  1  2  1   630  \n",
       "\n",
       "[5 rows x 25 columns]"
      ]
     },
     "execution_count": 253,
     "metadata": {},
     "output_type": "execute_result"
    }
   ],
   "source": [
    "# load dataset:\n",
    "df = pd.read_csv('data/CarInsurance_Claims.csv')\n",
    "\n",
    "# preview of the data:\n",
    "df.head()"
   ]
  },
  {
   "cell_type": "code",
   "execution_count": 254,
   "metadata": {},
   "outputs": [
    {
     "data": {
      "text/plain": [
       "(665249, 25)"
      ]
     },
     "execution_count": 254,
     "metadata": {},
     "output_type": "execute_result"
    }
   ],
   "source": [
    "# number of observations x number of features:\n",
    "df.shape"
   ]
  },
  {
   "cell_type": "code",
   "execution_count": 255,
   "metadata": {},
   "outputs": [
    {
     "data": {
      "text/plain": [
       "customer_ID            int64\n",
       "shopping_pt            int64\n",
       "record_type            int64\n",
       "day                    int64\n",
       "time                  object\n",
       "state                 object\n",
       "location               int64\n",
       "group_size             int64\n",
       "homeowner              int64\n",
       "car_age                int64\n",
       "car_value             object\n",
       "risk_factor          float64\n",
       "age_oldest             int64\n",
       "age_youngest           int64\n",
       "married_couple         int64\n",
       "C_previous           float64\n",
       "duration_previous    float64\n",
       "A                      int64\n",
       "B                      int64\n",
       "C                      int64\n",
       "D                      int64\n",
       "E                      int64\n",
       "F                      int64\n",
       "G                      int64\n",
       "cost                   int64\n",
       "dtype: object"
      ]
     },
     "execution_count": 255,
     "metadata": {},
     "output_type": "execute_result"
    }
   ],
   "source": [
    "# datatypes for each column:\n",
    "df.dtypes"
   ]
  },
  {
   "cell_type": "markdown",
   "metadata": {},
   "source": [
    "We are going to drop the A-G columns for this exercise, since they're categorical dependent variables which don't have a relationship with the rest of the predictor variables or the cost.  We'll also remove customer_ID to avoid overfitting the predictions to individual customers."
   ]
  },
  {
   "cell_type": "code",
   "execution_count": 256,
   "metadata": {},
   "outputs": [],
   "source": [
    "df.drop(columns=['A', 'B', 'C', 'D', 'E', 'F', 'G', 'customer_ID'], \n",
    "        axis = 1, \n",
    "       inplace=True)"
   ]
  },
  {
   "cell_type": "code",
   "execution_count": 257,
   "metadata": {},
   "outputs": [
    {
     "data": {
      "image/png": "[encoded data removed]",
      "text/plain": [
       "<Figure size 432x288 with 1 Axes>"
      ]
     },
     "metadata": {},
     "output_type": "display_data"
    }
   ],
   "source": [
    "# percentage of missing values by column:\n",
    "nulls = df.isnull().sum() / df.shape[0]\n",
    "labels = nulls.index\n",
    "_ = plt.plot(nulls)\n",
    "_ = plt.xticks(rotation='vertical')"
   ]
  },
  {
   "cell_type": "markdown",
   "metadata": {},
   "source": [
    "There are a relatively high number of nulls in the risk_factor column at over 35%. C_previous and duration_previous are also missing some values.  We could fill in the missing values with a number of methods (mean, median, separate classification / regression models).  We are fortunate to have a lot of data in this set, so will drop the records with missing values."
   ]
  },
  {
   "cell_type": "code",
   "execution_count": 258,
   "metadata": {},
   "outputs": [
    {
     "data": {
      "text/plain": [
       "<matplotlib.axes._subplots.AxesSubplot at 0x7f3f28164ef0>"
      ]
     },
     "execution_count": 258,
     "metadata": {},
     "output_type": "execute_result"
    },
    {
     "data": {
      "image/png": "[encoded data removed]",
      "text/plain": [
       "<Figure size 432x288 with 1 Axes>"
      ]
     },
     "metadata": {},
     "output_type": "display_data"
    }
   ],
   "source": [
    "df2 = df.dropna()\n",
    "\n",
    "# check shape of distributions with and without NAs\n",
    "df['cost'].hist()\n",
    "df2['cost'].hist()"
   ]
  },
  {
   "cell_type": "code",
   "execution_count": 259,
   "metadata": {},
   "outputs": [
    {
     "data": {
      "text/html": [
       "<div>\n",
       "<style scoped>\n",
       "    .dataframe tbody tr th:only-of-type {\n",
       "        vertical-align: middle;\n",
       "    }\n",
       "\n",
       "    .dataframe tbody tr th {\n",
       "        vertical-align: top;\n",
       "    }\n",
       "\n",
       "    .dataframe thead th {\n",
       "        text-align: right;\n",
       "    }\n",
       "</style>\n",
       "<table border=\"1\" class=\"dataframe\">\n",
       "  <thead>\n",
       "    <tr style=\"text-align: right;\">\n",
       "      <th></th>\n",
       "      <th>shopping_pt</th>\n",
       "      <th>record_type</th>\n",
       "      <th>day</th>\n",
       "      <th>location</th>\n",
       "      <th>group_size</th>\n",
       "      <th>homeowner</th>\n",
       "      <th>car_age</th>\n",
       "      <th>risk_factor</th>\n",
       "      <th>age_oldest</th>\n",
       "      <th>age_youngest</th>\n",
       "      <th>married_couple</th>\n",
       "      <th>C_previous</th>\n",
       "      <th>duration_previous</th>\n",
       "      <th>cost</th>\n",
       "    </tr>\n",
       "  </thead>\n",
       "  <tbody>\n",
       "    <tr>\n",
       "      <th>count</th>\n",
       "      <td>665249.000000</td>\n",
       "      <td>665249.000000</td>\n",
       "      <td>665249.000000</td>\n",
       "      <td>665249.000000</td>\n",
       "      <td>665249.000000</td>\n",
       "      <td>665249.000000</td>\n",
       "      <td>665249.000000</td>\n",
       "      <td>424831.000000</td>\n",
       "      <td>665249.000000</td>\n",
       "      <td>665249.000000</td>\n",
       "      <td>665249.000000</td>\n",
       "      <td>646538.000000</td>\n",
       "      <td>646538.000000</td>\n",
       "      <td>665249.000000</td>\n",
       "    </tr>\n",
       "    <tr>\n",
       "      <th>mean</th>\n",
       "      <td>4.219966</td>\n",
       "      <td>0.145824</td>\n",
       "      <td>1.969429</td>\n",
       "      <td>12271.543022</td>\n",
       "      <td>1.234784</td>\n",
       "      <td>0.536229</td>\n",
       "      <td>8.139437</td>\n",
       "      <td>2.563996</td>\n",
       "      <td>44.992403</td>\n",
       "      <td>42.577588</td>\n",
       "      <td>0.209782</td>\n",
       "      <td>2.444718</td>\n",
       "      <td>6.003774</td>\n",
       "      <td>635.785008</td>\n",
       "    </tr>\n",
       "    <tr>\n",
       "      <th>std</th>\n",
       "      <td>2.394369</td>\n",
       "      <td>0.352930</td>\n",
       "      <td>1.453470</td>\n",
       "      <td>1564.789415</td>\n",
       "      <td>0.461036</td>\n",
       "      <td>0.498686</td>\n",
       "      <td>5.764598</td>\n",
       "      <td>1.111584</td>\n",
       "      <td>17.403440</td>\n",
       "      <td>17.460432</td>\n",
       "      <td>0.407153</td>\n",
       "      <td>1.034596</td>\n",
       "      <td>4.680793</td>\n",
       "      <td>45.993758</td>\n",
       "    </tr>\n",
       "    <tr>\n",
       "      <th>min</th>\n",
       "      <td>1.000000</td>\n",
       "      <td>0.000000</td>\n",
       "      <td>0.000000</td>\n",
       "      <td>10001.000000</td>\n",
       "      <td>1.000000</td>\n",
       "      <td>0.000000</td>\n",
       "      <td>0.000000</td>\n",
       "      <td>1.000000</td>\n",
       "      <td>18.000000</td>\n",
       "      <td>16.000000</td>\n",
       "      <td>0.000000</td>\n",
       "      <td>1.000000</td>\n",
       "      <td>0.000000</td>\n",
       "      <td>260.000000</td>\n",
       "    </tr>\n",
       "    <tr>\n",
       "      <th>25%</th>\n",
       "      <td>2.000000</td>\n",
       "      <td>0.000000</td>\n",
       "      <td>1.000000</td>\n",
       "      <td>10936.000000</td>\n",
       "      <td>1.000000</td>\n",
       "      <td>0.000000</td>\n",
       "      <td>3.000000</td>\n",
       "      <td>2.000000</td>\n",
       "      <td>28.000000</td>\n",
       "      <td>26.000000</td>\n",
       "      <td>0.000000</td>\n",
       "      <td>1.000000</td>\n",
       "      <td>2.000000</td>\n",
       "      <td>605.000000</td>\n",
       "    </tr>\n",
       "    <tr>\n",
       "      <th>50%</th>\n",
       "      <td>4.000000</td>\n",
       "      <td>0.000000</td>\n",
       "      <td>2.000000</td>\n",
       "      <td>12027.000000</td>\n",
       "      <td>1.000000</td>\n",
       "      <td>1.000000</td>\n",
       "      <td>7.000000</td>\n",
       "      <td>3.000000</td>\n",
       "      <td>44.000000</td>\n",
       "      <td>40.000000</td>\n",
       "      <td>0.000000</td>\n",
       "      <td>3.000000</td>\n",
       "      <td>5.000000</td>\n",
       "      <td>635.000000</td>\n",
       "    </tr>\n",
       "    <tr>\n",
       "      <th>75%</th>\n",
       "      <td>6.000000</td>\n",
       "      <td>0.000000</td>\n",
       "      <td>3.000000</td>\n",
       "      <td>13426.000000</td>\n",
       "      <td>1.000000</td>\n",
       "      <td>1.000000</td>\n",
       "      <td>12.000000</td>\n",
       "      <td>4.000000</td>\n",
       "      <td>60.000000</td>\n",
       "      <td>57.000000</td>\n",
       "      <td>0.000000</td>\n",
       "      <td>3.000000</td>\n",
       "      <td>9.000000</td>\n",
       "      <td>665.000000</td>\n",
       "    </tr>\n",
       "    <tr>\n",
       "      <th>max</th>\n",
       "      <td>13.000000</td>\n",
       "      <td>1.000000</td>\n",
       "      <td>6.000000</td>\n",
       "      <td>16580.000000</td>\n",
       "      <td>4.000000</td>\n",
       "      <td>1.000000</td>\n",
       "      <td>85.000000</td>\n",
       "      <td>4.000000</td>\n",
       "      <td>75.000000</td>\n",
       "      <td>75.000000</td>\n",
       "      <td>1.000000</td>\n",
       "      <td>4.000000</td>\n",
       "      <td>15.000000</td>\n",
       "      <td>922.000000</td>\n",
       "    </tr>\n",
       "  </tbody>\n",
       "</table>\n",
       "</div>"
      ],
      "text/plain": [
       "         shopping_pt    record_type            day       location  \\\n",
       "count  665249.000000  665249.000000  665249.000000  665249.000000   \n",
       "mean        4.219966       0.145824       1.969429   12271.543022   \n",
       "std         2.394369       0.352930       1.453470    1564.789415   \n",
       "min         1.000000       0.000000       0.000000   10001.000000   \n",
       "25%         2.000000       0.000000       1.000000   10936.000000   \n",
       "50%         4.000000       0.000000       2.000000   12027.000000   \n",
       "75%         6.000000       0.000000       3.000000   13426.000000   \n",
       "max        13.000000       1.000000       6.000000   16580.000000   \n",
       "\n",
       "          group_size      homeowner        car_age    risk_factor  \\\n",
       "count  665249.000000  665249.000000  665249.000000  424831.000000   \n",
       "mean        1.234784       0.536229       8.139437       2.563996   \n",
       "std         0.461036       0.498686       5.764598       1.111584   \n",
       "min         1.000000       0.000000       0.000000       1.000000   \n",
       "25%         1.000000       0.000000       3.000000       2.000000   \n",
       "50%         1.000000       1.000000       7.000000       3.000000   \n",
       "75%         1.000000       1.000000      12.000000       4.000000   \n",
       "max         4.000000       1.000000      85.000000       4.000000   \n",
       "\n",
       "          age_oldest   age_youngest  married_couple     C_previous  \\\n",
       "count  665249.000000  665249.000000   665249.000000  646538.000000   \n",
       "mean       44.992403      42.577588        0.209782       2.444718   \n",
       "std        17.403440      17.460432        0.407153       1.034596   \n",
       "min        18.000000      16.000000        0.000000       1.000000   \n",
       "25%        28.000000      26.000000        0.000000       1.000000   \n",
       "50%        44.000000      40.000000        0.000000       3.000000   \n",
       "75%        60.000000      57.000000        0.000000       3.000000   \n",
       "max        75.000000      75.000000        1.000000       4.000000   \n",
       "\n",
       "       duration_previous           cost  \n",
       "count      646538.000000  665249.000000  \n",
       "mean            6.003774     635.785008  \n",
       "std             4.680793      45.993758  \n",
       "min             0.000000     260.000000  \n",
       "25%             2.000000     605.000000  \n",
       "50%             5.000000     635.000000  \n",
       "75%             9.000000     665.000000  \n",
       "max            15.000000     922.000000  "
      ]
     },
     "execution_count": 259,
     "metadata": {},
     "output_type": "execute_result"
    }
   ],
   "source": [
    "df.describe()"
   ]
  },
  {
   "cell_type": "code",
   "execution_count": 260,
   "metadata": {},
   "outputs": [
    {
     "data": {
      "text/html": [
       "<div>\n",
       "<style scoped>\n",
       "    .dataframe tbody tr th:only-of-type {\n",
       "        vertical-align: middle;\n",
       "    }\n",
       "\n",
       "    .dataframe tbody tr th {\n",
       "        vertical-align: top;\n",
       "    }\n",
       "\n",
       "    .dataframe thead th {\n",
       "        text-align: right;\n",
       "    }\n",
       "</style>\n",
       "<table border=\"1\" class=\"dataframe\">\n",
       "  <thead>\n",
       "    <tr style=\"text-align: right;\">\n",
       "      <th></th>\n",
       "      <th>shopping_pt</th>\n",
       "      <th>record_type</th>\n",
       "      <th>day</th>\n",
       "      <th>location</th>\n",
       "      <th>group_size</th>\n",
       "      <th>homeowner</th>\n",
       "      <th>car_age</th>\n",
       "      <th>risk_factor</th>\n",
       "      <th>age_oldest</th>\n",
       "      <th>age_youngest</th>\n",
       "      <th>married_couple</th>\n",
       "      <th>C_previous</th>\n",
       "      <th>duration_previous</th>\n",
       "      <th>cost</th>\n",
       "    </tr>\n",
       "  </thead>\n",
       "  <tbody>\n",
       "    <tr>\n",
       "      <th>count</th>\n",
       "      <td>417447.000000</td>\n",
       "      <td>417447.000000</td>\n",
       "      <td>417447.000000</td>\n",
       "      <td>417447.000000</td>\n",
       "      <td>417447.000000</td>\n",
       "      <td>417447.000000</td>\n",
       "      <td>417447.000000</td>\n",
       "      <td>417447.000000</td>\n",
       "      <td>417447.000000</td>\n",
       "      <td>417447.000000</td>\n",
       "      <td>417447.000000</td>\n",
       "      <td>417447.000000</td>\n",
       "      <td>417447.000000</td>\n",
       "      <td>417447.000000</td>\n",
       "    </tr>\n",
       "    <tr>\n",
       "      <th>mean</th>\n",
       "      <td>4.267471</td>\n",
       "      <td>0.149133</td>\n",
       "      <td>1.948587</td>\n",
       "      <td>12275.645248</td>\n",
       "      <td>1.249184</td>\n",
       "      <td>0.594186</td>\n",
       "      <td>7.717696</td>\n",
       "      <td>2.559003</td>\n",
       "      <td>48.032181</td>\n",
       "      <td>45.544067</td>\n",
       "      <td>0.226383</td>\n",
       "      <td>2.596406</td>\n",
       "      <td>6.679780</td>\n",
       "      <td>632.695010</td>\n",
       "    </tr>\n",
       "    <tr>\n",
       "      <th>std</th>\n",
       "      <td>2.397240</td>\n",
       "      <td>0.356220</td>\n",
       "      <td>1.452714</td>\n",
       "      <td>1552.833289</td>\n",
       "      <td>0.470781</td>\n",
       "      <td>0.491050</td>\n",
       "      <td>5.637517</td>\n",
       "      <td>1.112997</td>\n",
       "      <td>17.878804</td>\n",
       "      <td>18.144699</td>\n",
       "      <td>0.418490</td>\n",
       "      <td>1.007123</td>\n",
       "      <td>4.825717</td>\n",
       "      <td>46.219299</td>\n",
       "    </tr>\n",
       "    <tr>\n",
       "      <th>min</th>\n",
       "      <td>1.000000</td>\n",
       "      <td>0.000000</td>\n",
       "      <td>0.000000</td>\n",
       "      <td>10001.000000</td>\n",
       "      <td>1.000000</td>\n",
       "      <td>0.000000</td>\n",
       "      <td>0.000000</td>\n",
       "      <td>1.000000</td>\n",
       "      <td>18.000000</td>\n",
       "      <td>16.000000</td>\n",
       "      <td>0.000000</td>\n",
       "      <td>1.000000</td>\n",
       "      <td>0.000000</td>\n",
       "      <td>260.000000</td>\n",
       "    </tr>\n",
       "    <tr>\n",
       "      <th>25%</th>\n",
       "      <td>2.000000</td>\n",
       "      <td>0.000000</td>\n",
       "      <td>1.000000</td>\n",
       "      <td>10965.000000</td>\n",
       "      <td>1.000000</td>\n",
       "      <td>0.000000</td>\n",
       "      <td>3.000000</td>\n",
       "      <td>2.000000</td>\n",
       "      <td>31.000000</td>\n",
       "      <td>28.000000</td>\n",
       "      <td>0.000000</td>\n",
       "      <td>2.000000</td>\n",
       "      <td>3.000000</td>\n",
       "      <td>601.000000</td>\n",
       "    </tr>\n",
       "    <tr>\n",
       "      <th>50%</th>\n",
       "      <td>4.000000</td>\n",
       "      <td>0.000000</td>\n",
       "      <td>2.000000</td>\n",
       "      <td>12037.000000</td>\n",
       "      <td>1.000000</td>\n",
       "      <td>1.000000</td>\n",
       "      <td>7.000000</td>\n",
       "      <td>3.000000</td>\n",
       "      <td>49.000000</td>\n",
       "      <td>45.000000</td>\n",
       "      <td>0.000000</td>\n",
       "      <td>3.000000</td>\n",
       "      <td>6.000000</td>\n",
       "      <td>631.000000</td>\n",
       "    </tr>\n",
       "    <tr>\n",
       "      <th>75%</th>\n",
       "      <td>6.000000</td>\n",
       "      <td>0.000000</td>\n",
       "      <td>3.000000</td>\n",
       "      <td>13427.000000</td>\n",
       "      <td>1.000000</td>\n",
       "      <td>1.000000</td>\n",
       "      <td>11.000000</td>\n",
       "      <td>4.000000</td>\n",
       "      <td>64.000000</td>\n",
       "      <td>62.000000</td>\n",
       "      <td>0.000000</td>\n",
       "      <td>3.000000</td>\n",
       "      <td>10.000000</td>\n",
       "      <td>662.000000</td>\n",
       "    </tr>\n",
       "    <tr>\n",
       "      <th>max</th>\n",
       "      <td>13.000000</td>\n",
       "      <td>1.000000</td>\n",
       "      <td>6.000000</td>\n",
       "      <td>16580.000000</td>\n",
       "      <td>4.000000</td>\n",
       "      <td>1.000000</td>\n",
       "      <td>85.000000</td>\n",
       "      <td>4.000000</td>\n",
       "      <td>75.000000</td>\n",
       "      <td>75.000000</td>\n",
       "      <td>1.000000</td>\n",
       "      <td>4.000000</td>\n",
       "      <td>15.000000</td>\n",
       "      <td>911.000000</td>\n",
       "    </tr>\n",
       "  </tbody>\n",
       "</table>\n",
       "</div>"
      ],
      "text/plain": [
       "         shopping_pt    record_type            day       location  \\\n",
       "count  417447.000000  417447.000000  417447.000000  417447.000000   \n",
       "mean        4.267471       0.149133       1.948587   12275.645248   \n",
       "std         2.397240       0.356220       1.452714    1552.833289   \n",
       "min         1.000000       0.000000       0.000000   10001.000000   \n",
       "25%         2.000000       0.000000       1.000000   10965.000000   \n",
       "50%         4.000000       0.000000       2.000000   12037.000000   \n",
       "75%         6.000000       0.000000       3.000000   13427.000000   \n",
       "max        13.000000       1.000000       6.000000   16580.000000   \n",
       "\n",
       "          group_size      homeowner        car_age    risk_factor  \\\n",
       "count  417447.000000  417447.000000  417447.000000  417447.000000   \n",
       "mean        1.249184       0.594186       7.717696       2.559003   \n",
       "std         0.470781       0.491050       5.637517       1.112997   \n",
       "min         1.000000       0.000000       0.000000       1.000000   \n",
       "25%         1.000000       0.000000       3.000000       2.000000   \n",
       "50%         1.000000       1.000000       7.000000       3.000000   \n",
       "75%         1.000000       1.000000      11.000000       4.000000   \n",
       "max         4.000000       1.000000      85.000000       4.000000   \n",
       "\n",
       "          age_oldest   age_youngest  married_couple     C_previous  \\\n",
       "count  417447.000000  417447.000000   417447.000000  417447.000000   \n",
       "mean       48.032181      45.544067        0.226383       2.596406   \n",
       "std        17.878804      18.144699        0.418490       1.007123   \n",
       "min        18.000000      16.000000        0.000000       1.000000   \n",
       "25%        31.000000      28.000000        0.000000       2.000000   \n",
       "50%        49.000000      45.000000        0.000000       3.000000   \n",
       "75%        64.000000      62.000000        0.000000       3.000000   \n",
       "max        75.000000      75.000000        1.000000       4.000000   \n",
       "\n",
       "       duration_previous           cost  \n",
       "count      417447.000000  417447.000000  \n",
       "mean            6.679780     632.695010  \n",
       "std             4.825717      46.219299  \n",
       "min             0.000000     260.000000  \n",
       "25%             3.000000     601.000000  \n",
       "50%             6.000000     631.000000  \n",
       "75%            10.000000     662.000000  \n",
       "max            15.000000     911.000000  "
      ]
     },
     "execution_count": 260,
     "metadata": {},
     "output_type": "execute_result"
    }
   ],
   "source": [
    "df2.describe()"
   ]
  },
  {
   "cell_type": "markdown",
   "metadata": {},
   "source": [
    "There are a couple of things to note from the output above. One, we didn't change the variable distributions too much by removing records with missing values. If we had, we'd risk affecting the coefficient estimates produced by the regression.\n",
    "\n",
    "By comparing the mean and median values, we can also see that several variables have skewed distributions, since the mean and median are far apart.  There are a couple remaining steps for our data prep: \n",
    "\n",
    "1) The above only looks at the numeric features in the data. We should also look at the categoricals to determine whether they have any potential value.\n",
    "\n",
    "2) Regression is sensitive to outliers in the data, so we want to evaluate and address variable skew before proceeding further.\n"
   ]
  },
  {
   "cell_type": "code",
   "execution_count": 261,
   "metadata": {},
   "outputs": [],
   "source": [
    "df = df2\n",
    "del df2"
   ]
  },
  {
   "cell_type": "code",
   "execution_count": 262,
   "metadata": {},
   "outputs": [
    {
     "data": {
      "image/png": "[encoded data removed]",
      "text/plain": [
       "<Figure size 432x288 with 2 Axes>"
      ]
     },
     "metadata": {},
     "output_type": "display_data"
    }
   ],
   "source": [
    "state_cost = df.groupby('state')['cost'].mean()\n",
    "state_count = df.groupby('state').size()\n",
    "\n",
    "f, (ax1, ax2) = plt.subplots(2, 1, sharex=True)\n",
    "_ = ax1.plot(state_cost)\n",
    "_ = ax1.set_ylabel('Average Cost')\n",
    "_ = ax1.set_title('Data by State')\n",
    "_ = ax2.plot(state_count)\n",
    "_ = ax2.set_ylabel('N')\n",
    "\n",
    "for ax in f.axes:\n",
    "    plt.sca(ax)\n",
    "    plt.xticks(rotation=90)"
   ]
  },
  {
   "cell_type": "markdown",
   "metadata": {},
   "source": [
    "There are some states with many more observations than others. Average cost also varies by up to 10% depending on the state. It may be interesting to see if geographic influence is detectable in the regression, so we'll keep the state variable for the moment."
   ]
  },
  {
   "cell_type": "code",
   "execution_count": 263,
   "metadata": {},
   "outputs": [
    {
     "data": {
      "image/png": "[encoded data removed]",
      "text/plain": [
       "<Figure size 432x288 with 1 Axes>"
      ]
     },
     "metadata": {},
     "output_type": "display_data"
    }
   ],
   "source": [
    "# get the times as a list and round to the hour:\n",
    "times = df['time'].values.tolist()\n",
    "df['time'] = [tm.split(':')[0] for tm in times]\n",
    "\n",
    "times = df.groupby('time')['cost'].mean()\n",
    "\n",
    "_ = times.hist(density=True)"
   ]
  },
  {
   "cell_type": "markdown",
   "metadata": {},
   "source": [
    "There isn't much variation of the cost across different values of the time variable. So, let's drop this feature."
   ]
  },
  {
   "cell_type": "code",
   "execution_count": 264,
   "metadata": {},
   "outputs": [
    {
     "data": {
      "image/png": "[encoded data removed]",
      "text/plain": [
       "<Figure size 432x288 with 2 Axes>"
      ]
     },
     "metadata": {},
     "output_type": "display_data"
    }
   ],
   "source": [
    "car_cost = df.groupby('car_value')['cost'].mean()\n",
    "car_counts = df.groupby('car_value').size()\n",
    "\n",
    "f, (ax1, ax2) = plt.subplots(2, 1, sharex=True)\n",
    "_ = ax1.plot(car_cost)\n",
    "_ = ax1.set_ylabel('Average Cost')\n",
    "_ = ax1.set_title('Data by Car Value')\n",
    "_ = ax2.plot(car_counts)\n",
    "_ = ax2.set_ylabel('N')\n",
    "\n",
    "for ax in f.axes:\n",
    "    plt.sca(ax)\n",
    "    plt.xticks(rotation=90)"
   ]
  },
  {
   "cell_type": "markdown",
   "metadata": {},
   "source": [
    "There appears to be a relationship between the car_value feature and the cost. However, there are relatively few observations at the high and low ends of car_value. We can try bucketing values a-c and g-i together."
   ]
  },
  {
   "cell_type": "code",
   "execution_count": 265,
   "metadata": {},
   "outputs": [],
   "source": [
    "df.loc[df['car_value'].isin(['a', 'b', 'c']), 'car_value'] = 'a-c'\n",
    "df.loc[df['car_value'].isin(['g', 'h', 'i']), 'car_value'] = 'g-i'"
   ]
  },
  {
   "cell_type": "code",
   "execution_count": 266,
   "metadata": {},
   "outputs": [],
   "source": [
    "# remove the time variable as discussed earlier:\n",
    "df.drop(columns=['time'], axis=1, inplace=True)"
   ]
  },
  {
   "cell_type": "code",
   "execution_count": 267,
   "metadata": {},
   "outputs": [],
   "source": [
    "# clean up duration_previous, C_previous, and risk_factor columns since they should be ints\n",
    "df['duration_previous'] = df['duration_previous'].astype(int)\n",
    "df['C_previous'] = df['C_previous'].astype(int)\n",
    "df['risk_factor'] = df['risk_factor'].astype(int)"
   ]
  },
  {
   "cell_type": "code",
   "execution_count": 268,
   "metadata": {},
   "outputs": [
    {
     "data": {
      "image/png": "[encoded data removed]",
      "text/plain": [
       "<Figure size 432x288 with 1 Axes>"
      ]
     },
     "metadata": {},
     "output_type": "display_data"
    }
   ],
   "source": [
    "# Example plotting a single variable to evaluate its skew:\n",
    "feature = 'duration_previous'\n",
    "plt.hist(df[feature], density=True, bins=30)\n",
    "plt.ylabel('Probability')\n",
    "plt.xlabel('Distribution of {}'.format(feature));"
   ]
  },
  {
   "cell_type": "markdown",
   "metadata": {},
   "source": [
    "What if we had a dataset with 1,000 (or 10,000) variables and wanted to evaluate the skew for each? We'd need a lot of code! Or, we can use a more interactive approach to look at each variable in turn with the Bokeh library."
   ]
  },
  {
   "cell_type": "code",
   "execution_count": 269,
   "metadata": {},
   "outputs": [
    {
     "data": {
      "text/html": [
       "\n",
       "<div class=\"bk-root\">\n",
       "    <div class=\"bk-plotdiv\" id=\"c0062087-e570-4304-add7-2bb2aed1bab1\"></div>\n",
       "</div>"
      ]
     },
     "metadata": {},
     "output_type": "display_data"
    },
    {
     "data": {
      "application/javascript": [
       "(function(root) {\n",
       "  function embed_document(root) {\n",
       "    \n",
       "  var docs_json = {\"47adfb4e-883b-438e-a9a7-198c4c4f04cd\":{\"roots\":{\"references\":[{\"attributes\":{},\"id\":\"5336a64a-4470-44e1-8569-d41dd205c9fd\",\"type\":\"LinearScale\"},{\"attributes\":{\"source\":{\"id\":\"fda02f50-4b99-43d1-84b6-5e4211d89234\",\"type\":\"ColumnDataSource\"}},\"id\":\"055fd133-94f6-4374-b292-5d8ee524c57e\",\"type\":\"CDSView\"},{\"attributes\":{},\"id\":\"a0453cd6-7a7a-452d-a50b-33d320a482f3\",\"type\":\"LinearScale\"},{\"attributes\":{},\"id\":\"87f78fd4-2fec-4449-92f0-45343d21347c\",\"type\":\"HelpTool\"},{\"attributes\":{},\"id\":\"00425e15-7a23-4215-b367-268e4dc0467c\",\"type\":\"BasicTicker\"},{\"attributes\":{\"formatter\":{\"id\":\"229a4001-27c8-41a8-af46-550c6747da87\",\"type\":\"BasicTickFormatter\"},\"plot\":{\"id\":\"c4a3729b-f441-420a-82c4-889793ae0964\",\"subtype\":\"Figure\",\"type\":\"Plot\"},\"ticker\":{\"id\":\"00425e15-7a23-4215-b367-268e4dc0467c\",\"type\":\"BasicTicker\"}},\"id\":\"4d15e581-97e4-4873-acc9-6bce4caf35b6\",\"type\":\"LinearAxis\"},{\"attributes\":{},\"id\":\"3b6507c3-2516-4ada-b275-214c0ded5cab\",\"type\":\"BasicTickFormatter\"},{\"attributes\":{},\"id\":\"229a4001-27c8-41a8-af46-550c6747da87\",\"type\":\"BasicTickFormatter\"},{\"attributes\":{},\"id\":\"43b95931-8f45-442b-ac4d-282ecc6e0784\",\"type\":\"UnionRenderers\"},{\"attributes\":{\"formatter\":{\"id\":\"3b6507c3-2516-4ada-b275-214c0ded5cab\",\"type\":\"BasicTickFormatter\"},\"plot\":{\"id\":\"c4a3729b-f441-420a-82c4-889793ae0964\",\"subtype\":\"Figure\",\"type\":\"Plot\"},\"ticker\":{\"id\":\"93893614-943c-4a55-9643-d80ab5fdf158\",\"type\":\"BasicTicker\"}},\"id\":\"344d2e66-a363-443f-986e-a59b53974fe5\",\"type\":\"LinearAxis\"},{\"attributes\":{\"dimension\":1,\"plot\":{\"id\":\"c4a3729b-f441-420a-82c4-889793ae0964\",\"subtype\":\"Figure\",\"type\":\"Plot\"},\"ticker\":{\"id\":\"93893614-943c-4a55-9643-d80ab5fdf158\",\"type\":\"BasicTicker\"}},\"id\":\"d063b1a2-13d0-4c27-b56a-55d87d88729a\",\"type\":\"Grid\"},{\"attributes\":{\"bottom_units\":\"screen\",\"fill_alpha\":{\"value\":0.5},\"fill_color\":{\"value\":\"lightgrey\"},\"left_units\":\"screen\",\"level\":\"overlay\",\"line_alpha\":{\"value\":1.0},\"line_color\":{\"value\":\"black\"},\"line_dash\":[4,4],\"line_width\":{\"value\":2},\"plot\":null,\"render_mode\":\"css\",\"right_units\":\"screen\",\"top_units\":\"screen\"},\"id\":\"25eeb2b8-2f7f-49f8-8a6a-6f78f14d77ca\",\"type\":\"BoxAnnotation\"},{\"attributes\":{\"background_fill_color\":{\"value\":\"#E8DDCB\"},\"below\":[{\"id\":\"4d15e581-97e4-4873-acc9-6bce4caf35b6\",\"type\":\"LinearAxis\"}],\"left\":[{\"id\":\"344d2e66-a363-443f-986e-a59b53974fe5\",\"type\":\"LinearAxis\"}],\"plot_height\":300,\"plot_width\":500,\"renderers\":[{\"id\":\"4d15e581-97e4-4873-acc9-6bce4caf35b6\",\"type\":\"LinearAxis\"},{\"id\":\"184f0489-8af3-4bf3-aefc-45021ec11ce9\",\"type\":\"Grid\"},{\"id\":\"344d2e66-a363-443f-986e-a59b53974fe5\",\"type\":\"LinearAxis\"},{\"id\":\"d063b1a2-13d0-4c27-b56a-55d87d88729a\",\"type\":\"Grid\"},{\"id\":\"25eeb2b8-2f7f-49f8-8a6a-6f78f14d77ca\",\"type\":\"BoxAnnotation\"},{\"id\":\"635557fd-adc6-4b62-be9f-f958e6602734\",\"type\":\"GlyphRenderer\"}],\"title\":{\"id\":\"7911baf6-14e4-4460-879f-1e96d937a165\",\"type\":\"Title\"},\"toolbar\":{\"id\":\"d41359ce-ce01-4a9a-8b1c-e6313d620d1a\",\"type\":\"Toolbar\"},\"x_range\":{\"id\":\"24828269-f664-43ff-a876-d528bef2b222\",\"type\":\"DataRange1d\"},\"x_scale\":{\"id\":\"a0453cd6-7a7a-452d-a50b-33d320a482f3\",\"type\":\"LinearScale\"},\"y_range\":{\"id\":\"8d9284e1-1ad9-4cb4-8a92-e7d1df5f7c6a\",\"type\":\"DataRange1d\"},\"y_scale\":{\"id\":\"5336a64a-4470-44e1-8569-d41dd205c9fd\",\"type\":\"LinearScale\"}},\"id\":\"c4a3729b-f441-420a-82c4-889793ae0964\",\"subtype\":\"Figure\",\"type\":\"Plot\"},{\"attributes\":{\"callback\":null,\"data\":{\"left\":{\"__ndarray__\":\"AAAAAAAAAAAzMzMzMzP7PzMzMzMzMwtAZmZmZmZmFEAzMzMzMzMbQAAAAAAAACFAZmZmZmZmJEDNzMzMzMwnQDMzMzMzMytAmZmZmZmZLkAAAAAAAAAxQDMzMzMzszJAZmZmZmZmNECZmZmZmRk2QM3MzMzMzDdAAAAAAACAOUAzMzMzMzM7QGZmZmZm5jxAmZmZmZmZPkBmZmZmZiZAQAAAAAAAAEFAmZmZmZnZQUAzMzMzM7NCQM3MzMzMjENAZmZmZmZmREAAAAAAAEBFQJmZmZmZGUZAMzMzMzPzRkDNzMzMzMxHQGZmZmZmpkhAAAAAAACASUCZmZmZmVlKQDMzMzMzM0tAzczMzMwMTEBmZmZmZuZMQAAAAAAAwE1AmZmZmZmZTkAzMzMzM3NPQGZmZmZmJlBAMzMzMzOTUEAAAAAAAABRQM3MzMzMbFFAmZmZmZnZUUBmZmZmZkZSQDMzMzMzs1JAAAAAAAAgU0DNzMzMzIxTQJmZmZmZ+VNAZmZmZmZmVEAzMzMzM9NUQA==\",\"dtype\":\"float64\",\"shape\":[50]},\"right\":{\"__ndarray__\":\"MzMzMzMz+z8zMzMzMzMLQGZmZmZmZhRAMzMzMzMzG0AAAAAAAAAhQGZmZmZmZiRAzczMzMzMJ0AzMzMzMzMrQJmZmZmZmS5AAAAAAAAAMUAzMzMzM7MyQGZmZmZmZjRAmZmZmZkZNkDNzMzMzMw3QAAAAAAAgDlAMzMzMzMzO0BmZmZmZuY8QJmZmZmZmT5AZmZmZmYmQEAAAAAAAABBQJmZmZmZ2UFAMzMzMzOzQkDNzMzMzIxDQGZmZmZmZkRAAAAAAABARUCZmZmZmRlGQDMzMzMz80ZAzczMzMzMR0BmZmZmZqZIQAAAAAAAgElAmZmZmZlZSkAzMzMzMzNLQM3MzMzMDExAZmZmZmbmTEAAAAAAAMBNQJmZmZmZmU5AMzMzMzNzT0BmZmZmZiZQQDMzMzMzk1BAAAAAAAAAUUDNzMzMzGxRQJmZmZmZ2VFAZmZmZmZGUkAzMzMzM7NSQAAAAAAAIFNAzczMzMyMU0CZmZmZmflTQGZmZmZmZlRAMzMzMzPTVEAAAAAAAEBVQA==\",\"dtype\":\"float64\",\"shape\":[50]},\"top\":{\"__ndarray__\":\"g85MhQaxsz/7bZdSXze2P7AOx29E4rE/9fsUYcJUpD9Aa2fWGFO0P4kwUnAOMrI/0SyAi08Qnz/j1cBhS8uoP1biYp/R/6E/KbRFWv6UiD9jyP5W29uOPxD8dFzAZYQ/M6Is8/LUcz86V2S46p5dP88FTlF5cGM/kacs8IGMVz+cE063Vv88P4ZWZN36Fk0/ZFBkBXzXOD9GTWSZvLcmPyvI3mThqC4/mWQWyt10Jz9lU2RxO/caP4R2bzrtEgw/CaXTmy+NHT89JFn4i1whPyGNelOhrxQ/pdjppRYGIz/eAfVGR2EIP3leFvJeNfM+5y+ykBy78T5u6kIWJqS3PtMvspAcu+E+OY16U6Gv5D68RwvZqpjqPttHC9mqmOo+bupCFiaktz7nL7KQHLvhPgml05svjd0+AAAAAAAAAAAAAAAAAAAAAAAAAAAAAAAAAAAAAAAAAAAhjXpToa/kPtMvspAcu+E+AAAAAAAAAAAAAAAAAAAAAAAAAAAAAAAAAAAAAAAAAABu6kIWJqTXPg==\",\"dtype\":\"float64\",\"shape\":[50]}},\"selected\":{\"id\":\"8dbb5e18-c12e-49ef-a889-5e72cba61f0b\",\"type\":\"Selection\"},\"selection_policy\":{\"id\":\"43b95931-8f45-442b-ac4d-282ecc6e0784\",\"type\":\"UnionRenderers\"}},\"id\":\"fda02f50-4b99-43d1-84b6-5e4211d89234\",\"type\":\"ColumnDataSource\"},{\"attributes\":{\"bottom\":{\"value\":0},\"fill_color\":{\"value\":\"#036564\"},\"left\":{\"field\":\"left\"},\"line_color\":{\"value\":\"#033649\"},\"right\":{\"field\":\"right\"},\"top\":{\"field\":\"top\"}},\"id\":\"059f2458-d8c8-4945-8e98-8e9a6c29fdd7\",\"type\":\"Quad\"},{\"attributes\":{\"plot\":{\"id\":\"c4a3729b-f441-420a-82c4-889793ae0964\",\"subtype\":\"Figure\",\"type\":\"Plot\"},\"ticker\":{\"id\":\"00425e15-7a23-4215-b367-268e4dc0467c\",\"type\":\"BasicTicker\"}},\"id\":\"184f0489-8af3-4bf3-aefc-45021ec11ce9\",\"type\":\"Grid\"},{\"attributes\":{\"data_source\":{\"id\":\"fda02f50-4b99-43d1-84b6-5e4211d89234\",\"type\":\"ColumnDataSource\"},\"glyph\":{\"id\":\"059f2458-d8c8-4945-8e98-8e9a6c29fdd7\",\"type\":\"Quad\"},\"hover_glyph\":null,\"muted_glyph\":null,\"nonselection_glyph\":{\"id\":\"66b57939-7674-4230-8a53-4a198c9184aa\",\"type\":\"Quad\"},\"selection_glyph\":null,\"view\":{\"id\":\"055fd133-94f6-4374-b292-5d8ee524c57e\",\"type\":\"CDSView\"}},\"id\":\"635557fd-adc6-4b62-be9f-f958e6602734\",\"type\":\"GlyphRenderer\"},{\"attributes\":{\"bottom\":{\"value\":0},\"fill_alpha\":{\"value\":0.1},\"fill_color\":{\"value\":\"#1f77b4\"},\"left\":{\"field\":\"left\"},\"line_alpha\":{\"value\":0.1},\"line_color\":{\"value\":\"#1f77b4\"},\"right\":{\"field\":\"right\"},\"top\":{\"field\":\"top\"}},\"id\":\"66b57939-7674-4230-8a53-4a198c9184aa\",\"type\":\"Quad\"},{\"attributes\":{\"callback\":null},\"id\":\"24828269-f664-43ff-a876-d528bef2b222\",\"type\":\"DataRange1d\"},{\"attributes\":{},\"id\":\"8dbb5e18-c12e-49ef-a889-5e72cba61f0b\",\"type\":\"Selection\"},{\"attributes\":{\"plot\":null,\"text\":\"Test\"},\"id\":\"7911baf6-14e4-4460-879f-1e96d937a165\",\"type\":\"Title\"},{\"attributes\":{},\"id\":\"dbfc0677-9298-4615-8fb0-6a55d4376081\",\"type\":\"SaveTool\"},{\"attributes\":{},\"id\":\"93893614-943c-4a55-9643-d80ab5fdf158\",\"type\":\"BasicTicker\"},{\"attributes\":{},\"id\":\"0f39d919-793c-4016-9714-16e1b0573ced\",\"type\":\"WheelZoomTool\"},{\"attributes\":{\"active_drag\":\"auto\",\"active_inspect\":\"auto\",\"active_scroll\":\"auto\",\"active_tap\":\"auto\",\"tools\":[{\"id\":\"0d25fc2f-23a1-4142-90f4-0c02a8d48e8d\",\"type\":\"PanTool\"},{\"id\":\"0f39d919-793c-4016-9714-16e1b0573ced\",\"type\":\"WheelZoomTool\"},{\"id\":\"a5c85307-d9a1-4298-a8c6-b247ce30b5f2\",\"type\":\"BoxZoomTool\"},{\"id\":\"dbfc0677-9298-4615-8fb0-6a55d4376081\",\"type\":\"SaveTool\"},{\"id\":\"fd834f65-ec42-4e3c-a947-d3940af8a220\",\"type\":\"ResetTool\"},{\"id\":\"87f78fd4-2fec-4449-92f0-45343d21347c\",\"type\":\"HelpTool\"}]},\"id\":\"d41359ce-ce01-4a9a-8b1c-e6313d620d1a\",\"type\":\"Toolbar\"},{\"attributes\":{},\"id\":\"0d25fc2f-23a1-4142-90f4-0c02a8d48e8d\",\"type\":\"PanTool\"},{\"attributes\":{\"callback\":null},\"id\":\"8d9284e1-1ad9-4cb4-8a92-e7d1df5f7c6a\",\"type\":\"DataRange1d\"},{\"attributes\":{\"overlay\":{\"id\":\"25eeb2b8-2f7f-49f8-8a6a-6f78f14d77ca\",\"type\":\"BoxAnnotation\"}},\"id\":\"a5c85307-d9a1-4298-a8c6-b247ce30b5f2\",\"type\":\"BoxZoomTool\"},{\"attributes\":{},\"id\":\"fd834f65-ec42-4e3c-a947-d3940af8a220\",\"type\":\"ResetTool\"}],\"root_ids\":[\"c4a3729b-f441-420a-82c4-889793ae0964\"]},\"title\":\"Bokeh Application\",\"version\":\"0.12.16\"}};\n",
       "  var render_items = [{\"docid\":\"47adfb4e-883b-438e-a9a7-198c4c4f04cd\",\"elementid\":\"c0062087-e570-4304-add7-2bb2aed1bab1\",\"modelid\":\"c4a3729b-f441-420a-82c4-889793ae0964\"}];\n",
       "  root.Bokeh.embed.embed_items_notebook(docs_json, render_items);\n",
       "\n",
       "  }\n",
       "  if (root.Bokeh !== undefined) {\n",
       "    embed_document(root);\n",
       "  } else {\n",
       "    var attempts = 0;\n",
       "    var timer = setInterval(function(root) {\n",
       "      if (root.Bokeh !== undefined) {\n",
       "        embed_document(root);\n",
       "        clearInterval(timer);\n",
       "      }\n",
       "      attempts++;\n",
       "      if (attempts > 100) {\n",
       "        console.log(\"Bokeh: ERROR: Unable to run BokehJS code because BokehJS library is missing\")\n",
       "        clearInterval(timer);\n",
       "      }\n",
       "    }, 10, root)\n",
       "  }\n",
       "})(window);"
      ],
      "application/vnd.bokehjs_exec.v0+json": ""
     },
     "metadata": {
      "application/vnd.bokehjs_exec.v0+json": {
       "id": "c4a3729b-f441-420a-82c4-889793ae0964"
      }
     },
     "output_type": "display_data"
    },
    {
     "data": {
      "text/html": [
       "\n",
       "    <div class=\"bk-root\">\n",
       "        <a href=\"https://bokeh.pydata.org\" target=\"_blank\" class=\"bk-logo bk-logo-small bk-logo-notebook\"></a>\n",
       "        <span id=\"dcdb6309-278e-4f65-bfd2-31ada6bd873d\">Loading BokehJS ...</span>\n",
       "    </div>"
      ]
     },
     "metadata": {},
     "output_type": "display_data"
    },
    {
     "data": {
      "application/javascript": [
       "\n",
       "(function(root) {\n",
       "  function now() {\n",
       "    return new Date();\n",
       "  }\n",
       "\n",
       "  var force = true;\n",
       "\n",
       "  if (typeof (root._bokeh_onload_callbacks) === \"undefined\" || force === true) {\n",
       "    root._bokeh_onload_callbacks = [];\n",
       "    root._bokeh_is_loading = undefined;\n",
       "  }\n",
       "\n",
       "  var JS_MIME_TYPE = 'application/javascript';\n",
       "  var HTML_MIME_TYPE = 'text/html';\n",
       "  var EXEC_MIME_TYPE = 'application/vnd.bokehjs_exec.v0+json';\n",
       "  var CLASS_NAME = 'output_bokeh rendered_html';\n",
       "\n",
       "  /**\n",
       "   * Render data to the DOM node\n",
       "   */\n",
       "  function render(props, node) {\n",
       "    var script = document.createElement(\"script\");\n",
       "    node.appendChild(script);\n",
       "  }\n",
       "\n",
       "  /**\n",
       "   * Handle when an output is cleared or removed\n",
       "   */\n",
       "  function handleClearOutput(event, handle) {\n",
       "    var cell = handle.cell;\n",
       "\n",
       "    var id = cell.output_area._bokeh_element_id;\n",
       "    var server_id = cell.output_area._bokeh_server_id;\n",
       "    // Clean up Bokeh references\n",
       "    if (id !== undefined) {\n",
       "      Bokeh.index[id].model.document.clear();\n",
       "      delete Bokeh.index[id];\n",
       "    }\n",
       "\n",
       "    if (server_id !== undefined) {\n",
       "      // Clean up Bokeh references\n",
       "      var cmd = \"from bokeh.io.state import curstate; print(curstate().uuid_to_server['\" + server_id + \"'].get_sessions()[0].document.roots[0]._id)\";\n",
       "      cell.notebook.kernel.execute(cmd, {\n",
       "        iopub: {\n",
       "          output: function(msg) {\n",
       "            var element_id = msg.content.text.trim();\n",
       "            Bokeh.index[element_id].model.document.clear();\n",
       "            delete Bokeh.index[element_id];\n",
       "          }\n",
       "        }\n",
       "      });\n",
       "      // Destroy server and session\n",
       "      var cmd = \"import bokeh.io.notebook as ion; ion.destroy_server('\" + server_id + \"')\";\n",
       "      cell.notebook.kernel.execute(cmd);\n",
       "    }\n",
       "  }\n",
       "\n",
       "  /**\n",
       "   * Handle when a new output is added\n",
       "   */\n",
       "  function handleAddOutput(event, handle) {\n",
       "    var output_area = handle.output_area;\n",
       "    var output = handle.output;\n",
       "\n",
       "    // limit handleAddOutput to display_data with EXEC_MIME_TYPE content only\n",
       "    if ((output.output_type != \"display_data\") || (!output.data.hasOwnProperty(EXEC_MIME_TYPE))) {\n",
       "      return\n",
       "    }\n",
       "\n",
       "    var toinsert = output_area.element.find(\".\" + CLASS_NAME.split(' ')[0]);\n",
       "\n",
       "    if (output.metadata[EXEC_MIME_TYPE][\"id\"] !== undefined) {\n",
       "      toinsert[toinsert.length - 1].firstChild.textContent = output.data[JS_MIME_TYPE];\n",
       "      // store reference to embed id on output_area\n",
       "      output_area._bokeh_element_id = output.metadata[EXEC_MIME_TYPE][\"id\"];\n",
       "    }\n",
       "    if (output.metadata[EXEC_MIME_TYPE][\"server_id\"] !== undefined) {\n",
       "      var bk_div = document.createElement(\"div\");\n",
       "      bk_div.innerHTML = output.data[HTML_MIME_TYPE];\n",
       "      var script_attrs = bk_div.children[0].attributes;\n",
       "      for (var i = 0; i < script_attrs.length; i++) {\n",
       "        toinsert[toinsert.length - 1].firstChild.setAttribute(script_attrs[i].name, script_attrs[i].value);\n",
       "      }\n",
       "      // store reference to server id on output_area\n",
       "      output_area._bokeh_server_id = output.metadata[EXEC_MIME_TYPE][\"server_id\"];\n",
       "    }\n",
       "  }\n",
       "\n",
       "  function register_renderer(events, OutputArea) {\n",
       "\n",
       "    function append_mime(data, metadata, element) {\n",
       "      // create a DOM node to render to\n",
       "      var toinsert = this.create_output_subarea(\n",
       "        metadata,\n",
       "        CLASS_NAME,\n",
       "        EXEC_MIME_TYPE\n",
       "      );\n",
       "      this.keyboard_manager.register_events(toinsert);\n",
       "      // Render to node\n",
       "      var props = {data: data, metadata: metadata[EXEC_MIME_TYPE]};\n",
       "      render(props, toinsert[toinsert.length - 1]);\n",
       "      element.append(toinsert);\n",
       "      return toinsert\n",
       "    }\n",
       "\n",
       "    /* Handle when an output is cleared or removed */\n",
       "    events.on('clear_output.CodeCell', handleClearOutput);\n",
       "    events.on('delete.Cell', handleClearOutput);\n",
       "\n",
       "    /* Handle when a new output is added */\n",
       "    events.on('output_added.OutputArea', handleAddOutput);\n",
       "\n",
       "    /**\n",
       "     * Register the mime type and append_mime function with output_area\n",
       "     */\n",
       "    OutputArea.prototype.register_mime_type(EXEC_MIME_TYPE, append_mime, {\n",
       "      /* Is output safe? */\n",
       "      safe: true,\n",
       "      /* Index of renderer in `output_area.display_order` */\n",
       "      index: 0\n",
       "    });\n",
       "  }\n",
       "\n",
       "  // register the mime type if in Jupyter Notebook environment and previously unregistered\n",
       "  if (root.Jupyter !== undefined) {\n",
       "    var events = require('base/js/events');\n",
       "    var OutputArea = require('notebook/js/outputarea').OutputArea;\n",
       "\n",
       "    if (OutputArea.prototype.mime_types().indexOf(EXEC_MIME_TYPE) == -1) {\n",
       "      register_renderer(events, OutputArea);\n",
       "    }\n",
       "  }\n",
       "\n",
       "  \n",
       "  if (typeof (root._bokeh_timeout) === \"undefined\" || force === true) {\n",
       "    root._bokeh_timeout = Date.now() + 5000;\n",
       "    root._bokeh_failed_load = false;\n",
       "  }\n",
       "\n",
       "  var NB_LOAD_WARNING = {'data': {'text/html':\n",
       "     \"<div style='background-color: #fdd'>\\n\"+\n",
       "     \"<p>\\n\"+\n",
       "     \"BokehJS does not appear to have successfully loaded. If loading BokehJS from CDN, this \\n\"+\n",
       "     \"may be due to a slow or bad network connection. Possible fixes:\\n\"+\n",
       "     \"</p>\\n\"+\n",
       "     \"<ul>\\n\"+\n",
       "     \"<li>re-rerun `output_notebook()` to attempt to load from CDN again, or</li>\\n\"+\n",
       "     \"<li>use INLINE resources instead, as so:</li>\\n\"+\n",
       "     \"</ul>\\n\"+\n",
       "     \"<code>\\n\"+\n",
       "     \"from bokeh.resources import INLINE\\n\"+\n",
       "     \"output_notebook(resources=INLINE)\\n\"+\n",
       "     \"</code>\\n\"+\n",
       "     \"</div>\"}};\n",
       "\n",
       "  function display_loaded() {\n",
       "    var el = document.getElementById(\"dcdb6309-278e-4f65-bfd2-31ada6bd873d\");\n",
       "    if (el != null) {\n",
       "      el.textContent = \"BokehJS is loading...\";\n",
       "    }\n",
       "    if (root.Bokeh !== undefined) {\n",
       "      if (el != null) {\n",
       "        el.textContent = \"BokehJS \" + root.Bokeh.version + \" successfully loaded.\";\n",
       "      }\n",
       "    } else if (Date.now() < root._bokeh_timeout) {\n",
       "      setTimeout(display_loaded, 100)\n",
       "    }\n",
       "  }\n",
       "\n",
       "\n",
       "  function run_callbacks() {\n",
       "    try {\n",
       "      root._bokeh_onload_callbacks.forEach(function(callback) { callback() });\n",
       "    }\n",
       "    finally {\n",
       "      delete root._bokeh_onload_callbacks\n",
       "    }\n",
       "    console.info(\"Bokeh: all callbacks have finished\");\n",
       "  }\n",
       "\n",
       "  function load_libs(js_urls, callback) {\n",
       "    root._bokeh_onload_callbacks.push(callback);\n",
       "    if (root._bokeh_is_loading > 0) {\n",
       "      console.log(\"Bokeh: BokehJS is being loaded, scheduling callback at\", now());\n",
       "      return null;\n",
       "    }\n",
       "    if (js_urls == null || js_urls.length === 0) {\n",
       "      run_callbacks();\n",
       "      return null;\n",
       "    }\n",
       "    console.log(\"Bokeh: BokehJS not loaded, scheduling load and callback at\", now());\n",
       "    root._bokeh_is_loading = js_urls.length;\n",
       "    for (var i = 0; i < js_urls.length; i++) {\n",
       "      var url = js_urls[i];\n",
       "      var s = document.createElement('script');\n",
       "      s.src = url;\n",
       "      s.async = false;\n",
       "      s.onreadystatechange = s.onload = function() {\n",
       "        root._bokeh_is_loading--;\n",
       "        if (root._bokeh_is_loading === 0) {\n",
       "          console.log(\"Bokeh: all BokehJS libraries loaded\");\n",
       "          run_callbacks()\n",
       "        }\n",
       "      };\n",
       "      s.onerror = function() {\n",
       "        console.warn(\"failed to load library \" + url);\n",
       "      };\n",
       "      console.log(\"Bokeh: injecting script tag for BokehJS library: \", url);\n",
       "      document.getElementsByTagName(\"head\")[0].appendChild(s);\n",
       "    }\n",
       "  };var element = document.getElementById(\"dcdb6309-278e-4f65-bfd2-31ada6bd873d\");\n",
       "  if (element == null) {\n",
       "    console.log(\"Bokeh: ERROR: autoload.js configured with elementid 'dcdb6309-278e-4f65-bfd2-31ada6bd873d' but no matching script tag was found. \")\n",
       "    return false;\n",
       "  }\n",
       "\n",
       "  var js_urls = [\"https://cdn.pydata.org/bokeh/release/bokeh-0.12.16.min.js\", \"https://cdn.pydata.org/bokeh/release/bokeh-widgets-0.12.16.min.js\", \"https://cdn.pydata.org/bokeh/release/bokeh-tables-0.12.16.min.js\", \"https://cdn.pydata.org/bokeh/release/bokeh-gl-0.12.16.min.js\"];\n",
       "\n",
       "  var inline_js = [\n",
       "    function(Bokeh) {\n",
       "      Bokeh.set_log_level(\"info\");\n",
       "    },\n",
       "    \n",
       "    function(Bokeh) {\n",
       "      \n",
       "    },\n",
       "    function(Bokeh) {\n",
       "      console.log(\"Bokeh: injecting CSS: https://cdn.pydata.org/bokeh/release/bokeh-0.12.16.min.css\");\n",
       "      Bokeh.embed.inject_css(\"https://cdn.pydata.org/bokeh/release/bokeh-0.12.16.min.css\");\n",
       "      console.log(\"Bokeh: injecting CSS: https://cdn.pydata.org/bokeh/release/bokeh-widgets-0.12.16.min.css\");\n",
       "      Bokeh.embed.inject_css(\"https://cdn.pydata.org/bokeh/release/bokeh-widgets-0.12.16.min.css\");\n",
       "      console.log(\"Bokeh: injecting CSS: https://cdn.pydata.org/bokeh/release/bokeh-tables-0.12.16.min.css\");\n",
       "      Bokeh.embed.inject_css(\"https://cdn.pydata.org/bokeh/release/bokeh-tables-0.12.16.min.css\");\n",
       "    }\n",
       "  ];\n",
       "\n",
       "  function run_inline_js() {\n",
       "    \n",
       "    if ((root.Bokeh !== undefined) || (force === true)) {\n",
       "      for (var i = 0; i < inline_js.length; i++) {\n",
       "        inline_js[i].call(root, root.Bokeh);\n",
       "      }if (force === true) {\n",
       "        display_loaded();\n",
       "      }} else if (Date.now() < root._bokeh_timeout) {\n",
       "      setTimeout(run_inline_js, 100);\n",
       "    } else if (!root._bokeh_failed_load) {\n",
       "      console.log(\"Bokeh: BokehJS failed to load within specified timeout.\");\n",
       "      root._bokeh_failed_load = true;\n",
       "    } else if (force !== true) {\n",
       "      var cell = $(document.getElementById(\"dcdb6309-278e-4f65-bfd2-31ada6bd873d\")).parents('.cell').data().cell;\n",
       "      cell.output_area.append_execute_result(NB_LOAD_WARNING)\n",
       "    }\n",
       "\n",
       "  }\n",
       "\n",
       "  if (root._bokeh_is_loading === 0) {\n",
       "    console.log(\"Bokeh: BokehJS loaded, going straight to plotting\");\n",
       "    run_inline_js();\n",
       "  } else {\n",
       "    load_libs(js_urls, function() {\n",
       "      console.log(\"Bokeh: BokehJS plotting callback run at\", now());\n",
       "      run_inline_js();\n",
       "    });\n",
       "  }\n",
       "}(window));"
      ],
      "application/vnd.bokehjs_load.v0+json": "\n(function(root) {\n  function now() {\n    return new Date();\n  }\n\n  var force = true;\n\n  if (typeof (root._bokeh_onload_callbacks) === \"undefined\" || force === true) {\n    root._bokeh_onload_callbacks = [];\n    root._bokeh_is_loading = undefined;\n  }\n\n  \n\n  \n  if (typeof (root._bokeh_timeout) === \"undefined\" || force === true) {\n    root._bokeh_timeout = Date.now() + 5000;\n    root._bokeh_failed_load = false;\n  }\n\n  var NB_LOAD_WARNING = {'data': {'text/html':\n     \"<div style='background-color: #fdd'>\\n\"+\n     \"<p>\\n\"+\n     \"BokehJS does not appear to have successfully loaded. If loading BokehJS from CDN, this \\n\"+\n     \"may be due to a slow or bad network connection. Possible fixes:\\n\"+\n     \"</p>\\n\"+\n     \"<ul>\\n\"+\n     \"<li>re-rerun `output_notebook()` to attempt to load from CDN again, or</li>\\n\"+\n     \"<li>use INLINE resources instead, as so:</li>\\n\"+\n     \"</ul>\\n\"+\n     \"<code>\\n\"+\n     \"from bokeh.resources import INLINE\\n\"+\n     \"output_notebook(resources=INLINE)\\n\"+\n     \"</code>\\n\"+\n     \"</div>\"}};\n\n  function display_loaded() {\n    var el = document.getElementById(\"dcdb6309-278e-4f65-bfd2-31ada6bd873d\");\n    if (el != null) {\n      el.textContent = \"BokehJS is loading...\";\n    }\n    if (root.Bokeh !== undefined) {\n      if (el != null) {\n        el.textContent = \"BokehJS \" + root.Bokeh.version + \" successfully loaded.\";\n      }\n    } else if (Date.now() < root._bokeh_timeout) {\n      setTimeout(display_loaded, 100)\n    }\n  }\n\n\n  function run_callbacks() {\n    try {\n      root._bokeh_onload_callbacks.forEach(function(callback) { callback() });\n    }\n    finally {\n      delete root._bokeh_onload_callbacks\n    }\n    console.info(\"Bokeh: all callbacks have finished\");\n  }\n\n  function load_libs(js_urls, callback) {\n    root._bokeh_onload_callbacks.push(callback);\n    if (root._bokeh_is_loading > 0) {\n      console.log(\"Bokeh: BokehJS is being loaded, scheduling callback at\", now());\n      return null;\n    }\n    if (js_urls == null || js_urls.length === 0) {\n      run_callbacks();\n      return null;\n    }\n    console.log(\"Bokeh: BokehJS not loaded, scheduling load and callback at\", now());\n    root._bokeh_is_loading = js_urls.length;\n    for (var i = 0; i < js_urls.length; i++) {\n      var url = js_urls[i];\n      var s = document.createElement('script');\n      s.src = url;\n      s.async = false;\n      s.onreadystatechange = s.onload = function() {\n        root._bokeh_is_loading--;\n        if (root._bokeh_is_loading === 0) {\n          console.log(\"Bokeh: all BokehJS libraries loaded\");\n          run_callbacks()\n        }\n      };\n      s.onerror = function() {\n        console.warn(\"failed to load library \" + url);\n      };\n      console.log(\"Bokeh: injecting script tag for BokehJS library: \", url);\n      document.getElementsByTagName(\"head\")[0].appendChild(s);\n    }\n  };var element = document.getElementById(\"dcdb6309-278e-4f65-bfd2-31ada6bd873d\");\n  if (element == null) {\n    console.log(\"Bokeh: ERROR: autoload.js configured with elementid 'dcdb6309-278e-4f65-bfd2-31ada6bd873d' but no matching script tag was found. \")\n    return false;\n  }\n\n  var js_urls = [\"https://cdn.pydata.org/bokeh/release/bokeh-0.12.16.min.js\", \"https://cdn.pydata.org/bokeh/release/bokeh-widgets-0.12.16.min.js\", \"https://cdn.pydata.org/bokeh/release/bokeh-tables-0.12.16.min.js\", \"https://cdn.pydata.org/bokeh/release/bokeh-gl-0.12.16.min.js\"];\n\n  var inline_js = [\n    function(Bokeh) {\n      Bokeh.set_log_level(\"info\");\n    },\n    \n    function(Bokeh) {\n      \n    },\n    function(Bokeh) {\n      console.log(\"Bokeh: injecting CSS: https://cdn.pydata.org/bokeh/release/bokeh-0.12.16.min.css\");\n      Bokeh.embed.inject_css(\"https://cdn.pydata.org/bokeh/release/bokeh-0.12.16.min.css\");\n      console.log(\"Bokeh: injecting CSS: https://cdn.pydata.org/bokeh/release/bokeh-widgets-0.12.16.min.css\");\n      Bokeh.embed.inject_css(\"https://cdn.pydata.org/bokeh/release/bokeh-widgets-0.12.16.min.css\");\n      console.log(\"Bokeh: injecting CSS: https://cdn.pydata.org/bokeh/release/bokeh-tables-0.12.16.min.css\");\n      Bokeh.embed.inject_css(\"https://cdn.pydata.org/bokeh/release/bokeh-tables-0.12.16.min.css\");\n    }\n  ];\n\n  function run_inline_js() {\n    \n    if ((root.Bokeh !== undefined) || (force === true)) {\n      for (var i = 0; i < inline_js.length; i++) {\n        inline_js[i].call(root, root.Bokeh);\n      }if (force === true) {\n        display_loaded();\n      }} else if (Date.now() < root._bokeh_timeout) {\n      setTimeout(run_inline_js, 100);\n    } else if (!root._bokeh_failed_load) {\n      console.log(\"Bokeh: BokehJS failed to load within specified timeout.\");\n      root._bokeh_failed_load = true;\n    } else if (force !== true) {\n      var cell = $(document.getElementById(\"dcdb6309-278e-4f65-bfd2-31ada6bd873d\")).parents('.cell').data().cell;\n      cell.output_area.append_execute_result(NB_LOAD_WARNING)\n    }\n\n  }\n\n  if (root._bokeh_is_loading === 0) {\n    console.log(\"Bokeh: BokehJS loaded, going straight to plotting\");\n    run_inline_js();\n  } else {\n    load_libs(js_urls, function() {\n      console.log(\"Bokeh: BokehJS plotting callback run at\", now());\n      run_inline_js();\n    });\n  }\n}(window));"
     },
     "metadata": {},
     "output_type": "display_data"
    }
   ],
   "source": [
    "# plot setup:\n",
    "p = figure(title=\"Test\", \n",
    "           background_fill_color=\"#E8DDCB\", \n",
    "           width=500, \n",
    "           height=300)\n",
    "\n",
    "# get values and make histogram:\n",
    "arr = df['car_age'].values\n",
    "hist, edges = np.histogram(arr, \n",
    "                           density=True, \n",
    "                           bins=50)\n",
    "\n",
    "# assign histogram to the figure:\n",
    "r = p.quad(top=hist, bottom=0, left=edges[:-1], right=edges[1:],\n",
    "        fill_color=\"#036564\", line_color=\"#033649\")\n",
    "\n",
    "show(p)\n",
    "\n",
    "# update() function to make the plot interactive:\n",
    "def update(feature, num_bins):\n",
    "    # update array and histogram values:\n",
    "    arr = df[feature].values\n",
    "    hist, edges = np.histogram(arr, \n",
    "                           density=True, \n",
    "                           bins=num_bins)\n",
    "    \n",
    "    # update plot parameters:\n",
    "    p.title.text = 'Probability distribution of {}'.format(feature)\n",
    "    p.xaxis.axis_label = '{}'.format(feature)\n",
    "    p.yaxis.axis_label = 'Pr({})'.format(feature)\n",
    "    \n",
    "    # reset the renderer data:\n",
    "    r.data_source.data['top'] = hist\n",
    "    r.data_source.data['left'] = edges[:-1]\n",
    "    r.data_source.data['right'] = edges[1:]\n",
    "    \n",
    "    push_notebook()\n",
    "\n",
    "output_notebook()"
   ]
  },
  {
   "cell_type": "code",
   "execution_count": 270,
   "metadata": {},
   "outputs": [
    {
     "data": {
      "application/vnd.jupyter.widget-view+json": {
       "model_id": "c6492e8bc58b41589033ec5e8a9ea156",
       "version_major": 2,
       "version_minor": 0
      },
      "text/plain": [
       "interactive(children=(Dropdown(description='feature', options=('shopping_pt', 'record_type', 'day', 'location'…"
      ]
     },
     "metadata": {},
     "output_type": "display_data"
    },
    {
     "data": {
      "text/html": [
       "\n",
       "<div class=\"bk-root\">\n",
       "    <div class=\"bk-plotdiv\" id=\"7cb267ef-ff0b-47f8-9f27-2b300d9246e6\"></div>\n",
       "</div>"
      ]
     },
     "metadata": {},
     "output_type": "display_data"
    },
    {
     "data": {
      "application/javascript": [
       "(function(root) {\n",
       "  function embed_document(root) {\n",
       "    \n",
       "  var docs_json = {\"bd6f8e7a-60bd-4a65-b22b-4b3f91d685bf\":{\"roots\":{\"references\":[{\"attributes\":{},\"id\":\"5336a64a-4470-44e1-8569-d41dd205c9fd\",\"type\":\"LinearScale\"},{\"attributes\":{\"source\":{\"id\":\"fda02f50-4b99-43d1-84b6-5e4211d89234\",\"type\":\"ColumnDataSource\"}},\"id\":\"055fd133-94f6-4374-b292-5d8ee524c57e\",\"type\":\"CDSView\"},{\"attributes\":{},\"id\":\"a0453cd6-7a7a-452d-a50b-33d320a482f3\",\"type\":\"LinearScale\"},{\"attributes\":{},\"id\":\"87f78fd4-2fec-4449-92f0-45343d21347c\",\"type\":\"HelpTool\"},{\"attributes\":{},\"id\":\"00425e15-7a23-4215-b367-268e4dc0467c\",\"type\":\"BasicTicker\"},{\"attributes\":{\"axis_label\":\"shopping_pt\",\"formatter\":{\"id\":\"229a4001-27c8-41a8-af46-550c6747da87\",\"type\":\"BasicTickFormatter\"},\"plot\":{\"id\":\"c4a3729b-f441-420a-82c4-889793ae0964\",\"subtype\":\"Figure\",\"type\":\"Plot\"},\"ticker\":{\"id\":\"00425e15-7a23-4215-b367-268e4dc0467c\",\"type\":\"BasicTicker\"}},\"id\":\"4d15e581-97e4-4873-acc9-6bce4caf35b6\",\"type\":\"LinearAxis\"},{\"attributes\":{},\"id\":\"3b6507c3-2516-4ada-b275-214c0ded5cab\",\"type\":\"BasicTickFormatter\"},{\"attributes\":{},\"id\":\"229a4001-27c8-41a8-af46-550c6747da87\",\"type\":\"BasicTickFormatter\"},{\"attributes\":{},\"id\":\"43b95931-8f45-442b-ac4d-282ecc6e0784\",\"type\":\"UnionRenderers\"},{\"attributes\":{\"axis_label\":\"Pr(shopping_pt)\",\"formatter\":{\"id\":\"3b6507c3-2516-4ada-b275-214c0ded5cab\",\"type\":\"BasicTickFormatter\"},\"plot\":{\"id\":\"c4a3729b-f441-420a-82c4-889793ae0964\",\"subtype\":\"Figure\",\"type\":\"Plot\"},\"ticker\":{\"id\":\"93893614-943c-4a55-9643-d80ab5fdf158\",\"type\":\"BasicTicker\"}},\"id\":\"344d2e66-a363-443f-986e-a59b53974fe5\",\"type\":\"LinearAxis\"},{\"attributes\":{\"dimension\":1,\"plot\":{\"id\":\"c4a3729b-f441-420a-82c4-889793ae0964\",\"subtype\":\"Figure\",\"type\":\"Plot\"},\"ticker\":{\"id\":\"93893614-943c-4a55-9643-d80ab5fdf158\",\"type\":\"BasicTicker\"}},\"id\":\"d063b1a2-13d0-4c27-b56a-55d87d88729a\",\"type\":\"Grid\"},{\"attributes\":{\"bottom_units\":\"screen\",\"fill_alpha\":{\"value\":0.5},\"fill_color\":{\"value\":\"lightgrey\"},\"left_units\":\"screen\",\"level\":\"overlay\",\"line_alpha\":{\"value\":1.0},\"line_color\":{\"value\":\"black\"},\"line_dash\":[4,4],\"line_width\":{\"value\":2},\"plot\":null,\"render_mode\":\"css\",\"right_units\":\"screen\",\"top_units\":\"screen\"},\"id\":\"25eeb2b8-2f7f-49f8-8a6a-6f78f14d77ca\",\"type\":\"BoxAnnotation\"},{\"attributes\":{\"background_fill_color\":{\"value\":\"#E8DDCB\"},\"below\":[{\"id\":\"4d15e581-97e4-4873-acc9-6bce4caf35b6\",\"type\":\"LinearAxis\"}],\"left\":[{\"id\":\"344d2e66-a363-443f-986e-a59b53974fe5\",\"type\":\"LinearAxis\"}],\"plot_height\":300,\"plot_width\":500,\"renderers\":[{\"id\":\"4d15e581-97e4-4873-acc9-6bce4caf35b6\",\"type\":\"LinearAxis\"},{\"id\":\"184f0489-8af3-4bf3-aefc-45021ec11ce9\",\"type\":\"Grid\"},{\"id\":\"344d2e66-a363-443f-986e-a59b53974fe5\",\"type\":\"LinearAxis\"},{\"id\":\"d063b1a2-13d0-4c27-b56a-55d87d88729a\",\"type\":\"Grid\"},{\"id\":\"25eeb2b8-2f7f-49f8-8a6a-6f78f14d77ca\",\"type\":\"BoxAnnotation\"},{\"id\":\"635557fd-adc6-4b62-be9f-f958e6602734\",\"type\":\"GlyphRenderer\"}],\"title\":{\"id\":\"7911baf6-14e4-4460-879f-1e96d937a165\",\"type\":\"Title\"},\"toolbar\":{\"id\":\"d41359ce-ce01-4a9a-8b1c-e6313d620d1a\",\"type\":\"Toolbar\"},\"x_range\":{\"id\":\"24828269-f664-43ff-a876-d528bef2b222\",\"type\":\"DataRange1d\"},\"x_scale\":{\"id\":\"a0453cd6-7a7a-452d-a50b-33d320a482f3\",\"type\":\"LinearScale\"},\"y_range\":{\"id\":\"8d9284e1-1ad9-4cb4-8a92-e7d1df5f7c6a\",\"type\":\"DataRange1d\"},\"y_scale\":{\"id\":\"5336a64a-4470-44e1-8569-d41dd205c9fd\",\"type\":\"LinearScale\"}},\"id\":\"c4a3729b-f441-420a-82c4-889793ae0964\",\"subtype\":\"Figure\",\"type\":\"Plot\"},{\"attributes\":{\"callback\":null,\"data\":{\"left\":{\"__ndarray__\":\"AAAAAAAA8D/HcRzHcRz3P47jOI7jOP4/qqqqqqqqAkCO4ziO4zgGQHIcx3EcxwlAVVVVVVVVDUAcx3Ecx3EQQI7jOI7jOBJAAAAAAAAAFEByHMdxHMcVQOM4juM4jhdAVVVVVVVVGUDHcRzHcRwbQDiO4ziO4xxAqqqqqqqqHkCO4ziO4zggQMdxHMdxHCFAAAAAAAAAIkA5juM4juMiQHIcx3EcxyNAqqqqqqqqJEDjOI7jOI4lQBzHcRzHcSZAVVVVVVVVJ0CO4ziO4zgoQMdxHMdxHClA\",\"dtype\":\"float64\",\"shape\":[27]},\"right\":{\"__ndarray__\":\"x3Ecx3Ec9z+O4ziO4zj+P6qqqqqqqgJAjuM4juM4BkByHMdxHMcJQFVVVVVVVQ1AHMdxHMdxEECO4ziO4zgSQAAAAAAAABRAchzHcRzHFUDjOI7jOI4XQFVVVVVVVRlAx3Ecx3EcG0A4juM4juMcQKqqqqqqqh5AjuM4juM4IEDHcRzHcRwhQAAAAAAAACJAOY7jOI7jIkByHMdxHMcjQKqqqqqqqiRA4ziO4ziOJUAcx3Ecx3EmQFVVVVVVVSdAjuM4juM4KEDHcRzHcRwpQAAAAAAAACpA\",\"dtype\":\"float64\",\"shape\":[27]},\"top\":{\"__ndarray__\":\"cZrur0QN1D8AAAAAAAAAAJiOmU7Rs9Q/AAAAAAAAAAA2ugxiVQ7VPwAAAAAAAAAAPrLkHAP00z8AAAAAAAAAAAAAAAAAAAAAyNnkeJBA0j8AAAAAAAAAAFYImR/Nnc8/AAAAAAAAAAC3hAYNuNPIPwAAAAAAAAAA09iWU9nQwD8AAAAAAAAAAAAAAAAAAAAApd6Fj1SJsj8AAAAAAAAAAPdOPSTGfJ8/AAAAAAAAAAArBOU2utuDPwAAAAAAAAAAuggwzzO7Xj8AAAAAAAAAALp8yNXuuSg/\",\"dtype\":\"float64\",\"shape\":[27]}},\"selected\":{\"id\":\"8dbb5e18-c12e-49ef-a889-5e72cba61f0b\",\"type\":\"Selection\"},\"selection_policy\":{\"id\":\"43b95931-8f45-442b-ac4d-282ecc6e0784\",\"type\":\"UnionRenderers\"}},\"id\":\"fda02f50-4b99-43d1-84b6-5e4211d89234\",\"type\":\"ColumnDataSource\"},{\"attributes\":{\"bottom\":{\"value\":0},\"fill_color\":{\"value\":\"#036564\"},\"left\":{\"field\":\"left\"},\"line_color\":{\"value\":\"#033649\"},\"right\":{\"field\":\"right\"},\"top\":{\"field\":\"top\"}},\"id\":\"059f2458-d8c8-4945-8e98-8e9a6c29fdd7\",\"type\":\"Quad\"},{\"attributes\":{\"plot\":{\"id\":\"c4a3729b-f441-420a-82c4-889793ae0964\",\"subtype\":\"Figure\",\"type\":\"Plot\"},\"ticker\":{\"id\":\"00425e15-7a23-4215-b367-268e4dc0467c\",\"type\":\"BasicTicker\"}},\"id\":\"184f0489-8af3-4bf3-aefc-45021ec11ce9\",\"type\":\"Grid\"},{\"attributes\":{\"data_source\":{\"id\":\"fda02f50-4b99-43d1-84b6-5e4211d89234\",\"type\":\"ColumnDataSource\"},\"glyph\":{\"id\":\"059f2458-d8c8-4945-8e98-8e9a6c29fdd7\",\"type\":\"Quad\"},\"hover_glyph\":null,\"muted_glyph\":null,\"nonselection_glyph\":{\"id\":\"66b57939-7674-4230-8a53-4a198c9184aa\",\"type\":\"Quad\"},\"selection_glyph\":null,\"view\":{\"id\":\"055fd133-94f6-4374-b292-5d8ee524c57e\",\"type\":\"CDSView\"}},\"id\":\"635557fd-adc6-4b62-be9f-f958e6602734\",\"type\":\"GlyphRenderer\"},{\"attributes\":{\"bottom\":{\"value\":0},\"fill_alpha\":{\"value\":0.1},\"fill_color\":{\"value\":\"#1f77b4\"},\"left\":{\"field\":\"left\"},\"line_alpha\":{\"value\":0.1},\"line_color\":{\"value\":\"#1f77b4\"},\"right\":{\"field\":\"right\"},\"top\":{\"field\":\"top\"}},\"id\":\"66b57939-7674-4230-8a53-4a198c9184aa\",\"type\":\"Quad\"},{\"attributes\":{\"callback\":null},\"id\":\"24828269-f664-43ff-a876-d528bef2b222\",\"type\":\"DataRange1d\"},{\"attributes\":{},\"id\":\"8dbb5e18-c12e-49ef-a889-5e72cba61f0b\",\"type\":\"Selection\"},{\"attributes\":{\"plot\":null,\"text\":\"Probability distribution of shopping_pt\"},\"id\":\"7911baf6-14e4-4460-879f-1e96d937a165\",\"type\":\"Title\"},{\"attributes\":{},\"id\":\"dbfc0677-9298-4615-8fb0-6a55d4376081\",\"type\":\"SaveTool\"},{\"attributes\":{},\"id\":\"93893614-943c-4a55-9643-d80ab5fdf158\",\"type\":\"BasicTicker\"},{\"attributes\":{},\"id\":\"0f39d919-793c-4016-9714-16e1b0573ced\",\"type\":\"WheelZoomTool\"},{\"attributes\":{\"active_drag\":\"auto\",\"active_inspect\":\"auto\",\"active_scroll\":\"auto\",\"active_tap\":\"auto\",\"tools\":[{\"id\":\"0d25fc2f-23a1-4142-90f4-0c02a8d48e8d\",\"type\":\"PanTool\"},{\"id\":\"0f39d919-793c-4016-9714-16e1b0573ced\",\"type\":\"WheelZoomTool\"},{\"id\":\"a5c85307-d9a1-4298-a8c6-b247ce30b5f2\",\"type\":\"BoxZoomTool\"},{\"id\":\"dbfc0677-9298-4615-8fb0-6a55d4376081\",\"type\":\"SaveTool\"},{\"id\":\"fd834f65-ec42-4e3c-a947-d3940af8a220\",\"type\":\"ResetTool\"},{\"id\":\"87f78fd4-2fec-4449-92f0-45343d21347c\",\"type\":\"HelpTool\"}]},\"id\":\"d41359ce-ce01-4a9a-8b1c-e6313d620d1a\",\"type\":\"Toolbar\"},{\"attributes\":{},\"id\":\"0d25fc2f-23a1-4142-90f4-0c02a8d48e8d\",\"type\":\"PanTool\"},{\"attributes\":{\"callback\":null},\"id\":\"8d9284e1-1ad9-4cb4-8a92-e7d1df5f7c6a\",\"type\":\"DataRange1d\"},{\"attributes\":{\"overlay\":{\"id\":\"25eeb2b8-2f7f-49f8-8a6a-6f78f14d77ca\",\"type\":\"BoxAnnotation\"}},\"id\":\"a5c85307-d9a1-4298-a8c6-b247ce30b5f2\",\"type\":\"BoxZoomTool\"},{\"attributes\":{},\"id\":\"fd834f65-ec42-4e3c-a947-d3940af8a220\",\"type\":\"ResetTool\"}],\"root_ids\":[\"c4a3729b-f441-420a-82c4-889793ae0964\"]},\"title\":\"Bokeh Application\",\"version\":\"0.12.16\"}};\n",
       "  var render_items = [{\"docid\":\"bd6f8e7a-60bd-4a65-b22b-4b3f91d685bf\",\"elementid\":\"7cb267ef-ff0b-47f8-9f27-2b300d9246e6\",\"modelid\":\"c4a3729b-f441-420a-82c4-889793ae0964\",\"notebook_comms_target\":\"0d912327-3f3d-47ec-ac97-b06d9fdb2ed4\"}];\n",
       "  root.Bokeh.embed.embed_items_notebook(docs_json, render_items);\n",
       "\n",
       "  }\n",
       "  if (root.Bokeh !== undefined) {\n",
       "    embed_document(root);\n",
       "  } else {\n",
       "    var attempts = 0;\n",
       "    var timer = setInterval(function(root) {\n",
       "      if (root.Bokeh !== undefined) {\n",
       "        embed_document(root);\n",
       "        clearInterval(timer);\n",
       "      }\n",
       "      attempts++;\n",
       "      if (attempts > 100) {\n",
       "        console.log(\"Bokeh: ERROR: Unable to run BokehJS code because BokehJS library is missing\")\n",
       "        clearInterval(timer);\n",
       "      }\n",
       "    }, 10, root)\n",
       "  }\n",
       "})(window);"
      ],
      "application/vnd.bokehjs_exec.v0+json": ""
     },
     "metadata": {
      "application/vnd.bokehjs_exec.v0+json": {
       "id": "c4a3729b-f441-420a-82c4-889793ae0964"
      }
     },
     "output_type": "display_data"
    },
    {
     "data": {
      "text/html": [
       "<p><code>&lt;Bokeh Notebook handle for <strong>In[270]</strong>&gt;</code></p>"
      ],
      "text/plain": [
       "<bokeh.io.notebook.CommsHandle at 0x7f3f23c2f208>"
      ]
     },
     "execution_count": 270,
     "metadata": {},
     "output_type": "execute_result"
    }
   ],
   "source": [
    "features = [f for f in df.columns.values if f not in ['car_value', 'state']]\n",
    "nbins = (5, 50)\n",
    "interact(update, feature = features, num_bins = nbins)\n",
    "show(p, notebook_handle = True)"
   ]
  },
  {
   "cell_type": "markdown",
   "metadata": {},
   "source": [
    "Now let's look at the boxplots for each feature in the data to check them all for outliers"
   ]
  },
  {
   "cell_type": "code",
   "execution_count": 271,
   "metadata": {},
   "outputs": [],
   "source": [
    "def min_max(col):\n",
    "    \"\"\"Min-max scales input to 0-1 range.\"\"\"\n",
    "    mn = min(col)\n",
    "    mx = max(col)\n",
    "    scaled = ((col - mn) / (mx - mn))\n",
    "    return scaled"
   ]
  },
  {
   "cell_type": "code",
   "execution_count": 272,
   "metadata": {},
   "outputs": [
    {
     "data": {
      "image/png": "[encoded data removed]",
      "text/plain": [
       "<Figure size 432x288 with 1 Axes>"
      ]
     },
     "metadata": {},
     "output_type": "display_data"
    }
   ],
   "source": [
    "scaled = df[features].apply(min_max)\n",
    "my_plt = scaled.boxplot(rot=90)"
   ]
  },
  {
   "cell_type": "markdown",
   "metadata": {},
   "source": [
    "Based on the above, car_age could be capped based on its high skew. Check first whether there is a clear relationship between the two."
   ]
  },
  {
   "cell_type": "code",
   "execution_count": 273,
   "metadata": {
    "scrolled": true
   },
   "outputs": [
    {
     "data": {
      "image/png": "[encoded data removed]",
      "text/plain": [
       "<Figure size 432x288 with 1 Axes>"
      ]
     },
     "metadata": {},
     "output_type": "display_data"
    }
   ],
   "source": [
    "_ = df.plot.scatter('cost', 'duration_previous')"
   ]
  },
  {
   "cell_type": "code",
   "execution_count": 274,
   "metadata": {},
   "outputs": [],
   "source": [
    "# define outlier adjustment function:\n",
    "def adjust_outliers(array_in):\n",
    "    \"\"\" Finds and replaces outliers in input array with 1.5 * IQR\"\"\"\n",
    "    array_out = np.array(array_in)\n",
    "    \n",
    "    q1 = array_in.quantile(q=0.25)\n",
    "    q3 = array_in.quantile(q=0.75)\n",
    "    iqr = q3 - q1\n",
    "    upper = q3 + 1.5*iqr\n",
    "    lower = q1 - 1.5*iqr\n",
    "    \n",
    "    below_ind = array_out < lower\n",
    "    above_ind = array_out > upper\n",
    "    \n",
    "    array_out[below_ind] = lower\n",
    "    array_out[above_ind] = upper\n",
    "    \n",
    "    changed = np.sum(array_in != array_out)\n",
    "    print('Found and adjusted {} values in {} column'.format(str(changed), array_in.name))\n",
    "    return array_out"
   ]
  },
  {
   "cell_type": "code",
   "execution_count": 275,
   "metadata": {},
   "outputs": [
    {
     "name": "stdout",
     "output_type": "stream",
     "text": [
      "Found and adjusted 4896 values in car_age column\n"
     ]
    }
   ],
   "source": [
    "# adjust outliers in the car_age_feature:\n",
    "df['car_age'] = adjust_outliers(df['car_age'])"
   ]
  },
  {
   "cell_type": "code",
   "execution_count": 276,
   "metadata": {},
   "outputs": [
    {
     "data": {
      "image/png": "[encoded data removed]",
      "text/plain": [
       "<Figure size 792x648 with 2 Axes>"
      ]
     },
     "metadata": {},
     "output_type": "display_data"
    }
   ],
   "source": [
    "corr = df.corr()\n",
    "\n",
    "# Generate a mask for the upper triangle\n",
    "mask = np.zeros_like(corr, dtype=np.bool)\n",
    "mask[np.triu_indices_from(mask)] = True\n",
    "\n",
    "# Set up the matplotlib figure\n",
    "f, ax = plt.subplots(figsize=(11, 9))\n",
    "\n",
    "# Generate a custom diverging colormap\n",
    "cmap = sns.diverging_palette(220, 10, as_cmap=True)\n",
    "\n",
    "# Draw the heatmap with the mask and correct aspect ratio\n",
    "_ = sns.heatmap(corr, mask=mask, cmap=cmap, vmax=.3, center=0,\n",
    "            square=True, linewidths=.5, cbar_kws={\"shrink\": .5})"
   ]
  },
  {
   "cell_type": "markdown",
   "metadata": {},
   "source": [
    "Overall there don't appear to be strong correlations in the dataset across the intput variables or with the target. age_oldest and age_youngest are an exception, with a correlation of over .9. We should encode some of the features as binary variables since their values don't necessarily represent incremental increases"
   ]
  },
  {
   "cell_type": "code",
   "execution_count": 277,
   "metadata": {},
   "outputs": [
    {
     "data": {
      "text/plain": [
       "shopping_pt            13\n",
       "record_type             2\n",
       "day                     7\n",
       "state                  36\n",
       "location             5888\n",
       "group_size              4\n",
       "homeowner               2\n",
       "car_age                24\n",
       "car_value               5\n",
       "risk_factor             4\n",
       "age_oldest             58\n",
       "age_youngest           60\n",
       "married_couple          2\n",
       "C_previous              4\n",
       "duration_previous      16\n",
       "cost                  472\n",
       "dtype: int64"
      ]
     },
     "execution_count": 277,
     "metadata": {},
     "output_type": "execute_result"
    }
   ],
   "source": [
    "df.nunique()"
   ]
  },
  {
   "cell_type": "code",
   "execution_count": 278,
   "metadata": {},
   "outputs": [],
   "source": [
    "# one-hot encoding of categorical columns:\n",
    "df = pd.get_dummies(df,\n",
    "                    drop_first=True,\n",
    "                    columns = ['day', 'state', 'group_size', \n",
    "                               'risk_factor', 'car_value'])"
   ]
  },
  {
   "cell_type": "code",
   "execution_count": 279,
   "metadata": {},
   "outputs": [],
   "source": [
    "y = df['cost']\n",
    "X = df.drop(columns=['cost', 'location', 'shopping_pt', 'age_youngest'])"
   ]
  },
  {
   "cell_type": "code",
   "execution_count": 280,
   "metadata": {},
   "outputs": [],
   "source": [
    "lm = linear_model.LinearRegression()\n",
    "\n",
    "#Split data set into train and test sets\n",
    "X_train, X_test, y_train, y_test = train_test_split(X, y, test_size=0.20, random_state=101)\n",
    "\n",
    "#Fit the model :\n",
    "lm.fit(X_train, y_train)\n",
    "\n",
    "#Set predictions\n",
    "lm_train_pred = lm.predict(X_train)\n",
    "lm_test_pred = lm.predict(X_test)"
   ]
  },
  {
   "cell_type": "code",
   "execution_count": 281,
   "metadata": {},
   "outputs": [
    {
     "name": "stdout",
     "output_type": "stream",
     "text": [
      "R^2 of the model on training data was: 0.39689483757702515\n",
      "R^2 of the model on testing data was: 0.39772030766745525\n"
     ]
    }
   ],
   "source": [
    "y_mn_train = np.mean(y_train)\n",
    "sst_train = sum((y_train - y_mn_train)**2)\n",
    "ssr_train = sum((lm_train_pred - y_train)**2)\n",
    "r2_train = 1 - (ssr_train / sst_train)\n",
    "\n",
    "y_mn_test = np.mean(y_test)\n",
    "sst_test = sum((y_test - y_mn_test)**2)\n",
    "ssr_test = sum((lm_test_pred - y_test)**2)\n",
    "r2_test = 1 - (ssr_test / sst_test)\n",
    "\n",
    "print('R^2 of the model on training data was: {}'.format(str(r2_train)))\n",
    "print('R^2 of the model on testing data was: {}'.format(str(r2_test)))"
   ]
  },
  {
   "cell_type": "code",
   "execution_count": 282,
   "metadata": {},
   "outputs": [
    {
     "name": "stdout",
     "output_type": "stream",
     "text": [
      "                            OLS Regression Results                            \n",
      "==============================================================================\n",
      "Dep. Variable:                   cost   R-squared:                       0.397\n",
      "Model:                            OLS   Adj. R-squared:                  0.397\n",
      "Method:                 Least Squares   F-statistic:                     4740.\n",
      "Date:                Tue, 17 Jul 2018   Prob (F-statistic):               0.00\n",
      "Time:                        21:27:01   Log-Likelihood:            -2.0870e+06\n",
      "No. Observations:              417447   AIC:                         4.174e+06\n",
      "Df Residuals:                  417388   BIC:                         4.175e+06\n",
      "Df Model:                          58                                         \n",
      "Covariance Type:            nonrobust                                         \n",
      "=====================================================================================\n",
      "                        coef    std err          t      P>|t|      [0.025      0.975]\n",
      "-------------------------------------------------------------------------------------\n",
      "const               623.1833      0.591   1054.819      0.000     622.025     624.341\n",
      "record_type          -0.3092      0.156     -1.981      0.048      -0.615      -0.003\n",
      "homeowner           -14.6240      0.129   -113.157      0.000     -14.877     -14.371\n",
      "car_age              -2.0741      0.011   -185.847      0.000      -2.096      -2.052\n",
      "age_oldest           -0.1310      0.004    -34.829      0.000      -0.138      -0.124\n",
      "married_couple      -11.9682      0.226    -52.896      0.000     -12.412     -11.525\n",
      "C_previous           -2.5268      0.058    -43.467      0.000      -2.641      -2.413\n",
      "duration_previous    -0.8908      0.012    -73.114      0.000      -0.915      -0.867\n",
      "day_1                -0.2575      0.171     -1.506      0.132      -0.593       0.078\n",
      "day_2                -0.1448      0.172     -0.840      0.401      -0.483       0.193\n",
      "day_3                -0.5711      0.177     -3.231      0.001      -0.918      -0.225\n",
      "day_4                 0.4219      0.178      2.373      0.018       0.073       0.770\n",
      "day_5                 4.5030      0.502      8.962      0.000       3.518       5.488\n",
      "day_6                 5.0995      1.349      3.781      0.000       2.456       7.743\n",
      "state_AR             12.1624      0.735     16.556      0.000      10.723      13.602\n",
      "state_CO             10.5122      0.499     21.059      0.000       9.534      11.491\n",
      "state_CT             25.4869      0.559     45.581      0.000      24.391      26.583\n",
      "state_DC             35.6023      1.153     30.890      0.000      33.343      37.861\n",
      "state_DE             54.6403      0.677     80.763      0.000      53.314      55.966\n",
      "state_FL             43.0480      0.384    112.045      0.000      42.295      43.801\n",
      "state_GA             22.4946      0.672     33.492      0.000      21.178      23.811\n",
      "state_IA            -27.9551      0.944    -29.605      0.000     -29.806     -26.104\n",
      "state_ID             -4.2119      0.600     -7.024      0.000      -5.387      -3.037\n",
      "state_IN              8.9216      0.433     20.593      0.000       8.072       9.771\n",
      "state_KS             -0.5679      0.812     -0.699      0.484      -2.159       1.024\n",
      "state_KY             12.0579      0.615     19.606      0.000      10.853      13.263\n",
      "state_MD             50.6026      0.425    119.059      0.000      49.770      51.436\n",
      "state_ME            -17.3529      0.835    -20.771      0.000     -18.990     -15.715\n",
      "state_MO            -11.5734      0.604    -19.152      0.000     -12.758     -10.389\n",
      "state_MS             13.9253      0.714     19.516      0.000      12.527      15.324\n",
      "state_MT              3.3952      0.992      3.422      0.001       1.451       5.340\n",
      "state_ND             -7.0090      1.720     -4.075      0.000     -10.380      -3.638\n",
      "state_NE            -10.4440      0.967    -10.800      0.000     -12.339      -8.549\n",
      "state_NH             -6.5117      0.725     -8.984      0.000      -7.932      -5.091\n",
      "state_NM             15.3910      0.749     20.558      0.000      13.924      16.858\n",
      "state_NV             30.1199      0.581     51.851      0.000      28.981      31.258\n",
      "state_NY             56.1490      0.387    145.053      0.000      55.390      56.908\n",
      "state_OH             -0.3203      0.463     -0.693      0.489      -1.227       0.586\n",
      "state_OK              2.7840      0.635      4.381      0.000       1.539       4.029\n",
      "state_OR              3.0685      0.545      5.626      0.000       2.000       4.138\n",
      "state_PA             16.4164      0.425     38.627      0.000      15.583      17.249\n",
      "state_RI             29.9974      0.741     40.488      0.000      28.545      31.450\n",
      "state_SD              6.5227      2.527      2.581      0.010       1.570      11.476\n",
      "state_TN              2.2217      0.557      3.988      0.000       1.130       3.314\n",
      "state_UT             -4.1591      0.601     -6.916      0.000      -5.338      -2.980\n",
      "state_WA             15.2211      0.480     31.742      0.000      14.281      16.161\n",
      "state_WI            -16.9768      0.659    -25.745      0.000     -18.269     -15.684\n",
      "state_WV             21.2617      0.866     24.538      0.000      19.563      22.960\n",
      "state_WY             -9.7247      1.556     -6.250      0.000     -12.774      -6.675\n",
      "group_size_2          7.7958      0.224     34.799      0.000       7.357       8.235\n",
      "group_size_3         41.4418      0.515     80.520      0.000      40.433      42.451\n",
      "group_size_4         49.5680      1.728     28.693      0.000      46.182      52.954\n",
      "risk_factor_2        11.5347      0.167     69.275      0.000      11.208      11.861\n",
      "risk_factor_3        27.2887      0.171    159.542      0.000      26.953      27.624\n",
      "risk_factor_4        29.5321      0.182    162.030      0.000      29.175      29.889\n",
      "car_value_d           2.5079      0.347      7.229      0.000       1.828       3.188\n",
      "car_value_e           3.8082      0.336     11.339      0.000       3.150       4.467\n",
      "car_value_f           3.2829      0.341      9.620      0.000       2.614       3.952\n",
      "car_value_g-i        13.2040      0.348     37.941      0.000      12.522      13.886\n",
      "==============================================================================\n",
      "Omnibus:                    18979.917   Durbin-Watson:                   0.512\n",
      "Prob(Omnibus):                  0.000   Jarque-Bera (JB):            62445.190\n",
      "Skew:                           0.121   Prob(JB):                         0.00\n",
      "Kurtosis:                       4.879   Cond. No.                     2.45e+03\n",
      "==============================================================================\n",
      "\n",
      "Warnings:\n",
      "[1] Standard Errors assume that the covariance matrix of the errors is correctly specified.\n",
      "[2] The condition number is large, 2.45e+03. This might indicate that there are\n",
      "strong multicollinearity or other numerical problems.\n"
     ]
    }
   ],
   "source": [
    "#Return the summary of the model\n",
    "X2 = sm.add_constant(X)\n",
    "est = sm.OLS(y, X2)\n",
    "est2 = est.fit()\n",
    "print(est2.summary())"
   ]
  },
  {
   "cell_type": "code",
   "execution_count": 286,
   "metadata": {},
   "outputs": [
    {
     "data": {
      "image/png": "[encoded data removed]",
      "text/plain": [
       "<Figure size 432x288 with 1 Axes>"
      ]
     },
     "metadata": {},
     "output_type": "display_data"
    }
   ],
   "source": [
    "# Check residual distribution:\n",
    "import pylab \n",
    "import scipy.stats as stats\n",
    "\n",
    "idx = np.random.choice(X_train.index, 10000, replace=False)\n",
    "\n",
    "x_train_sample = X_train.ix[idx]\n",
    "y_train_sample = y_train.ix[idx]\n",
    "\n",
    "#Set predictions\n",
    "lm.fit(x_train_sample, y_train_sample)\n",
    "lm_train_pred_sample = lm.predict(x_train_sample)\n",
    "\n",
    "residuals = y_train_sample - lm_train_pred_sample\n",
    "stats.probplot(residuals, dist=\"norm\", plot=pylab)\n",
    "pylab.ylim([-15,30])\n",
    "pylab.title(\"QQ Plot\")\n",
    "pylab.show()"
   ]
  },
  {
   "cell_type": "code",
   "execution_count": 287,
   "metadata": {},
   "outputs": [
    {
     "data": {
      "text/plain": [
       "Text(0.5,1,'Comparison of Regression with Mean model')"
      ]
     },
     "execution_count": 287,
     "metadata": {},
     "output_type": "execute_result"
    },
    {
     "data": {
      "image/png": "[encoded data removed]",
      "text/plain": [
       "<Figure size 432x288 with 1 Axes>"
      ]
     },
     "metadata": {},
     "output_type": "display_data"
    }
   ],
   "source": [
    "# Do a quick PCA for plotting and compare predictions to dummy regressor:\n",
    "from sklearn.preprocessing import StandardScaler\n",
    "from sklearn.decomposition import PCA\n",
    "from sklearn.dummy import DummyRegressor\n",
    "\n",
    "idx = np.random.choice(X_train.index, 10000, replace=False)\n",
    "\n",
    "x_train_sample = X_train.ix[idx]\n",
    "y_train_sample = y_train.ix[idx]\n",
    "\n",
    "#Set predictions\n",
    "lm.fit(x_train_sample, y_train_sample)\n",
    "lm_train_pred_sample = lm.predict(x_train_sample)\n",
    "\n",
    "regdummy = DummyRegressor(strategy=\"mean\")\n",
    "regdummy.fit(x_train_sample, y_train_sample)\n",
    "dummy_y = regdummy.predict(x_train_sample)\n",
    "\n",
    "scaler = StandardScaler()\n",
    "X_s = scaler.fit_transform(x_train_sample)\n",
    "\n",
    "pca = PCA(n_components=1)\n",
    "pca.fit(X_s)\n",
    "X_pca = pca.fit_transform(X_s)\n",
    "\n",
    "m, b = np.polyfit(X_pca[:,0], lm_train_pred_sample, 1)\n",
    "plt.plot(X_pca, m*X_pca + b, \"-\", color=\"palevioletred\")\n",
    "plt.axhline(y=regdummy.constant_, linestyle=\"-\", color=\"limegreen\")\n",
    "plt.scatter(X_pca[:,0], lm_train_pred_sample)\n",
    "plt.ylabel(\"Predicted Value\")\n",
    "plt.xlabel(\"Observed X variables index\")\n",
    "plt.title(\"Comparison of Regression with Mean model\")"
   ]
  }
 ],
 "metadata": {
  "kernelspec": {
   "display_name": "conda_python3",
   "language": "python",
   "name": "conda_python3"
  },
  "language_info": {
   "codemirror_mode": {
    "name": "ipython",
    "version": 3
   },
   "file_extension": ".py",
   "mimetype": "text/x-python",
   "name": "python",
   "nbconvert_exporter": "python",
   "pygments_lexer": "ipython3",
   "version": "3.6.4"
  }
 },
 "nbformat": 4,
 "nbformat_minor": 2
}
